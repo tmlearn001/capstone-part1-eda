{
 "cells": [
  {
   "cell_type": "code",
   "execution_count": 18,
   "metadata": {},
   "outputs": [
    {
     "name": "stdout",
     "output_type": "stream",
     "text": [
      "Requirement already satisfied: pandas in /home/codio/.pyenv/versions/3.11.2/lib/python3.11/site-packages (2.0.1)\n",
      "Requirement already satisfied: python-dateutil>=2.8.2 in /home/codio/.pyenv/versions/3.11.2/lib/python3.11/site-packages (from pandas) (2.8.2)\n",
      "Requirement already satisfied: pytz>=2020.1 in /home/codio/.pyenv/versions/3.11.2/lib/python3.11/site-packages (from pandas) (2023.3)\n",
      "Requirement already satisfied: tzdata>=2022.1 in /home/codio/.pyenv/versions/3.11.2/lib/python3.11/site-packages (from pandas) (2023.3)\n",
      "Requirement already satisfied: numpy>=1.21.0 in /home/codio/.pyenv/versions/3.11.2/lib/python3.11/site-packages (from pandas) (1.24.2)\n",
      "Requirement already satisfied: six>=1.5 in /home/codio/.pyenv/versions/3.11.2/lib/python3.11/site-packages (from python-dateutil>=2.8.2->pandas) (1.16.0)\n",
      "\n",
      "\u001b[1m[\u001b[0m\u001b[34;49mnotice\u001b[0m\u001b[1;39;49m]\u001b[0m\u001b[39;49m A new release of pip is available: \u001b[0m\u001b[31;49m23.1.2\u001b[0m\u001b[39;49m -> \u001b[0m\u001b[32;49m23.3.2\u001b[0m\n",
      "\u001b[1m[\u001b[0m\u001b[34;49mnotice\u001b[0m\u001b[1;39;49m]\u001b[0m\u001b[39;49m To update, run: \u001b[0m\u001b[32;49mpip install --upgrade pip\u001b[0m\n",
      "Requirement already satisfied: plotly in /home/codio/.pyenv/versions/3.11.2/lib/python3.11/site-packages (5.14.1)\n",
      "Requirement already satisfied: tenacity>=6.2.0 in /home/codio/.pyenv/versions/3.11.2/lib/python3.11/site-packages (from plotly) (8.2.2)\n",
      "Requirement already satisfied: packaging in /home/codio/.pyenv/versions/3.11.2/lib/python3.11/site-packages (from plotly) (23.0)\n",
      "\n",
      "\u001b[1m[\u001b[0m\u001b[34;49mnotice\u001b[0m\u001b[1;39;49m]\u001b[0m\u001b[39;49m A new release of pip is available: \u001b[0m\u001b[31;49m23.1.2\u001b[0m\u001b[39;49m -> \u001b[0m\u001b[32;49m23.3.2\u001b[0m\n",
      "\u001b[1m[\u001b[0m\u001b[34;49mnotice\u001b[0m\u001b[1;39;49m]\u001b[0m\u001b[39;49m To update, run: \u001b[0m\u001b[32;49mpip install --upgrade pip\u001b[0m\n",
      "Requirement already satisfied: numpy in /home/codio/.pyenv/versions/3.11.2/lib/python3.11/site-packages (1.24.2)\n",
      "\n",
      "\u001b[1m[\u001b[0m\u001b[34;49mnotice\u001b[0m\u001b[1;39;49m]\u001b[0m\u001b[39;49m A new release of pip is available: \u001b[0m\u001b[31;49m23.1.2\u001b[0m\u001b[39;49m -> \u001b[0m\u001b[32;49m23.3.2\u001b[0m\n",
      "\u001b[1m[\u001b[0m\u001b[34;49mnotice\u001b[0m\u001b[1;39;49m]\u001b[0m\u001b[39;49m To update, run: \u001b[0m\u001b[32;49mpip install --upgrade pip\u001b[0m\n",
      "Requirement already satisfied: seaborn in /home/codio/.pyenv/versions/3.11.2/lib/python3.11/site-packages (0.12.2)\n",
      "Requirement already satisfied: numpy!=1.24.0,>=1.17 in /home/codio/.pyenv/versions/3.11.2/lib/python3.11/site-packages (from seaborn) (1.24.2)\n",
      "Requirement already satisfied: pandas>=0.25 in /home/codio/.pyenv/versions/3.11.2/lib/python3.11/site-packages (from seaborn) (2.0.1)\n",
      "Requirement already satisfied: matplotlib!=3.6.1,>=3.1 in /home/codio/.pyenv/versions/3.11.2/lib/python3.11/site-packages (from seaborn) (3.7.1)\n",
      "Requirement already satisfied: contourpy>=1.0.1 in /home/codio/.pyenv/versions/3.11.2/lib/python3.11/site-packages (from matplotlib!=3.6.1,>=3.1->seaborn) (1.0.7)\n",
      "Requirement already satisfied: cycler>=0.10 in /home/codio/.pyenv/versions/3.11.2/lib/python3.11/site-packages (from matplotlib!=3.6.1,>=3.1->seaborn) (0.11.0)\n",
      "Requirement already satisfied: fonttools>=4.22.0 in /home/codio/.pyenv/versions/3.11.2/lib/python3.11/site-packages (from matplotlib!=3.6.1,>=3.1->seaborn) (4.39.3)\n",
      "Requirement already satisfied: kiwisolver>=1.0.1 in /home/codio/.pyenv/versions/3.11.2/lib/python3.11/site-packages (from matplotlib!=3.6.1,>=3.1->seaborn) (1.4.4)\n",
      "Requirement already satisfied: packaging>=20.0 in /home/codio/.pyenv/versions/3.11.2/lib/python3.11/site-packages (from matplotlib!=3.6.1,>=3.1->seaborn) (23.0)\n",
      "Requirement already satisfied: pillow>=6.2.0 in /home/codio/.pyenv/versions/3.11.2/lib/python3.11/site-packages (from matplotlib!=3.6.1,>=3.1->seaborn) (9.5.0)\n",
      "Requirement already satisfied: pyparsing>=2.3.1 in /home/codio/.pyenv/versions/3.11.2/lib/python3.11/site-packages (from matplotlib!=3.6.1,>=3.1->seaborn) (3.0.9)\n",
      "Requirement already satisfied: python-dateutil>=2.7 in /home/codio/.pyenv/versions/3.11.2/lib/python3.11/site-packages (from matplotlib!=3.6.1,>=3.1->seaborn) (2.8.2)\n",
      "Requirement already satisfied: pytz>=2020.1 in /home/codio/.pyenv/versions/3.11.2/lib/python3.11/site-packages (from pandas>=0.25->seaborn) (2023.3)\n",
      "Requirement already satisfied: tzdata>=2022.1 in /home/codio/.pyenv/versions/3.11.2/lib/python3.11/site-packages (from pandas>=0.25->seaborn) (2023.3)\n",
      "Requirement already satisfied: six>=1.5 in /home/codio/.pyenv/versions/3.11.2/lib/python3.11/site-packages (from python-dateutil>=2.7->matplotlib!=3.6.1,>=3.1->seaborn) (1.16.0)\n",
      "\n",
      "\u001b[1m[\u001b[0m\u001b[34;49mnotice\u001b[0m\u001b[1;39;49m]\u001b[0m\u001b[39;49m A new release of pip is available: \u001b[0m\u001b[31;49m23.1.2\u001b[0m\u001b[39;49m -> \u001b[0m\u001b[32;49m23.3.2\u001b[0m\n",
      "\u001b[1m[\u001b[0m\u001b[34;49mnotice\u001b[0m\u001b[1;39;49m]\u001b[0m\u001b[39;49m To update, run: \u001b[0m\u001b[32;49mpip install --upgrade pip\u001b[0m\n",
      "\u001b[31mERROR: Could not find a version that satisfies the requirement matplotlib.pyplot (from versions: none)\u001b[0m\u001b[31m\n",
      "\u001b[0m\u001b[31mERROR: No matching distribution found for matplotlib.pyplot\u001b[0m\u001b[31m\n",
      "\u001b[0m\n",
      "\u001b[1m[\u001b[0m\u001b[34;49mnotice\u001b[0m\u001b[1;39;49m]\u001b[0m\u001b[39;49m A new release of pip is available: \u001b[0m\u001b[31;49m23.1.2\u001b[0m\u001b[39;49m -> \u001b[0m\u001b[32;49m23.3.2\u001b[0m\n",
      "\u001b[1m[\u001b[0m\u001b[34;49mnotice\u001b[0m\u001b[1;39;49m]\u001b[0m\u001b[39;49m To update, run: \u001b[0m\u001b[32;49mpip install --upgrade pip\u001b[0m\n",
      "\u001b[31mERROR: Could not find a version that satisfies the requirement mpl_toolkits (from versions: none)\u001b[0m\u001b[31m\n",
      "\u001b[0m\u001b[31mERROR: No matching distribution found for mpl_toolkits\u001b[0m\u001b[31m\n",
      "\u001b[0m\n",
      "\u001b[1m[\u001b[0m\u001b[34;49mnotice\u001b[0m\u001b[1;39;49m]\u001b[0m\u001b[39;49m A new release of pip is available: \u001b[0m\u001b[31;49m23.1.2\u001b[0m\u001b[39;49m -> \u001b[0m\u001b[32;49m23.3.2\u001b[0m\n",
      "\u001b[1m[\u001b[0m\u001b[34;49mnotice\u001b[0m\u001b[1;39;49m]\u001b[0m\u001b[39;49m To update, run: \u001b[0m\u001b[32;49mpip install --upgrade pip\u001b[0m\n",
      "Collecting sklearn\n",
      "  Using cached sklearn-0.0.post12.tar.gz (2.6 kB)\n",
      "  Installing build dependencies ... \u001b[?25ldone\n",
      "\u001b[?25h  Getting requirements to build wheel ... \u001b[?25lerror\n",
      "  \u001b[1;31merror\u001b[0m: \u001b[1msubprocess-exited-with-error\u001b[0m\n",
      "  \n",
      "  \u001b[31m×\u001b[0m \u001b[32mGetting requirements to build wheel\u001b[0m did not run successfully.\n",
      "  \u001b[31m│\u001b[0m exit code: \u001b[1;36m1\u001b[0m\n",
      "  \u001b[31m╰─>\u001b[0m \u001b[31m[15 lines of output]\u001b[0m\n",
      "  \u001b[31m   \u001b[0m The 'sklearn' PyPI package is deprecated, use 'scikit-learn'\n",
      "  \u001b[31m   \u001b[0m rather than 'sklearn' for pip commands.\n",
      "  \u001b[31m   \u001b[0m \n",
      "  \u001b[31m   \u001b[0m Here is how to fix this error in the main use cases:\n",
      "  \u001b[31m   \u001b[0m - use 'pip install scikit-learn' rather than 'pip install sklearn'\n",
      "  \u001b[31m   \u001b[0m - replace 'sklearn' by 'scikit-learn' in your pip requirements files\n",
      "  \u001b[31m   \u001b[0m   (requirements.txt, setup.py, setup.cfg, Pipfile, etc ...)\n",
      "  \u001b[31m   \u001b[0m - if the 'sklearn' package is used by one of your dependencies,\n",
      "  \u001b[31m   \u001b[0m   it would be great if you take some time to track which package uses\n",
      "  \u001b[31m   \u001b[0m   'sklearn' instead of 'scikit-learn' and report it to their issue tracker\n",
      "  \u001b[31m   \u001b[0m - as a last resort, set the environment variable\n",
      "  \u001b[31m   \u001b[0m   SKLEARN_ALLOW_DEPRECATED_SKLEARN_PACKAGE_INSTALL=True to avoid this error\n",
      "  \u001b[31m   \u001b[0m \n",
      "  \u001b[31m   \u001b[0m More information is available at\n",
      "  \u001b[31m   \u001b[0m https://github.com/scikit-learn/sklearn-pypi-package\n",
      "  \u001b[31m   \u001b[0m \u001b[31m[end of output]\u001b[0m\n",
      "  \n",
      "  \u001b[1;35mnote\u001b[0m: This error originates from a subprocess, and is likely not a problem with pip.\n",
      "\u001b[1;31merror\u001b[0m: \u001b[1msubprocess-exited-with-error\u001b[0m\n",
      "\n",
      "\u001b[31m×\u001b[0m \u001b[32mGetting requirements to build wheel\u001b[0m did not run successfully.\n",
      "\u001b[31m│\u001b[0m exit code: \u001b[1;36m1\u001b[0m\n",
      "\u001b[31m╰─>\u001b[0m See above for output.\n",
      "\n",
      "\u001b[1;35mnote\u001b[0m: This error originates from a subprocess, and is likely not a problem with pip.\n",
      "\n",
      "\u001b[1m[\u001b[0m\u001b[34;49mnotice\u001b[0m\u001b[1;39;49m]\u001b[0m\u001b[39;49m A new release of pip is available: \u001b[0m\u001b[31;49m23.1.2\u001b[0m\u001b[39;49m -> \u001b[0m\u001b[32;49m23.3.2\u001b[0m\n",
      "\u001b[1m[\u001b[0m\u001b[34;49mnotice\u001b[0m\u001b[1;39;49m]\u001b[0m\u001b[39;49m To update, run: \u001b[0m\u001b[32;49mpip install --upgrade pip\u001b[0m\n",
      "\u001b[?25hRequirement already satisfied: statsmodels in /home/codio/.pyenv/versions/3.11.2/lib/python3.11/site-packages (0.14.1)\n",
      "Requirement already satisfied: numpy<2,>=1.18 in /home/codio/.pyenv/versions/3.11.2/lib/python3.11/site-packages (from statsmodels) (1.24.2)\n",
      "Requirement already satisfied: scipy!=1.9.2,>=1.4 in /home/codio/.pyenv/versions/3.11.2/lib/python3.11/site-packages (from statsmodels) (1.10.1)\n",
      "Requirement already satisfied: pandas!=2.1.0,>=1.0 in /home/codio/.pyenv/versions/3.11.2/lib/python3.11/site-packages (from statsmodels) (2.0.1)\n",
      "Requirement already satisfied: patsy>=0.5.4 in /home/codio/.pyenv/versions/3.11.2/lib/python3.11/site-packages (from statsmodels) (0.5.4)\n",
      "Requirement already satisfied: packaging>=21.3 in /home/codio/.pyenv/versions/3.11.2/lib/python3.11/site-packages (from statsmodels) (23.0)\n"
     ]
    },
    {
     "name": "stdout",
     "output_type": "stream",
     "text": [
      "Requirement already satisfied: python-dateutil>=2.8.2 in /home/codio/.pyenv/versions/3.11.2/lib/python3.11/site-packages (from pandas!=2.1.0,>=1.0->statsmodels) (2.8.2)\n",
      "Requirement already satisfied: pytz>=2020.1 in /home/codio/.pyenv/versions/3.11.2/lib/python3.11/site-packages (from pandas!=2.1.0,>=1.0->statsmodels) (2023.3)\n",
      "Requirement already satisfied: tzdata>=2022.1 in /home/codio/.pyenv/versions/3.11.2/lib/python3.11/site-packages (from pandas!=2.1.0,>=1.0->statsmodels) (2023.3)\n",
      "Requirement already satisfied: six in /home/codio/.pyenv/versions/3.11.2/lib/python3.11/site-packages (from patsy>=0.5.4->statsmodels) (1.16.0)\n",
      "\n",
      "\u001b[1m[\u001b[0m\u001b[34;49mnotice\u001b[0m\u001b[1;39;49m]\u001b[0m\u001b[39;49m A new release of pip is available: \u001b[0m\u001b[31;49m23.1.2\u001b[0m\u001b[39;49m -> \u001b[0m\u001b[32;49m23.3.2\u001b[0m\n",
      "\u001b[1m[\u001b[0m\u001b[34;49mnotice\u001b[0m\u001b[1;39;49m]\u001b[0m\u001b[39;49m To update, run: \u001b[0m\u001b[32;49mpip install --upgrade pip\u001b[0m\n",
      "\u001b[31mERROR: Could not find a version that satisfies the requirement random (from versions: none)\u001b[0m\u001b[31m\n",
      "\u001b[0m\u001b[31mERROR: No matching distribution found for random\u001b[0m\u001b[31m\n",
      "\u001b[0m\n",
      "\u001b[1m[\u001b[0m\u001b[34;49mnotice\u001b[0m\u001b[1;39;49m]\u001b[0m\u001b[39;49m A new release of pip is available: \u001b[0m\u001b[31;49m23.1.2\u001b[0m\u001b[39;49m -> \u001b[0m\u001b[32;49m23.3.2\u001b[0m\n",
      "\u001b[1m[\u001b[0m\u001b[34;49mnotice\u001b[0m\u001b[1;39;49m]\u001b[0m\u001b[39;49m To update, run: \u001b[0m\u001b[32;49mpip install --upgrade pip\u001b[0m\n",
      "\u001b[31mERROR: Could not find a version that satisfies the requirement time (from versions: none)\u001b[0m\u001b[31m\n",
      "\u001b[0m\u001b[31mERROR: No matching distribution found for time\u001b[0m\u001b[31m\n",
      "\u001b[0m\n",
      "\u001b[1m[\u001b[0m\u001b[34;49mnotice\u001b[0m\u001b[1;39;49m]\u001b[0m\u001b[39;49m A new release of pip is available: \u001b[0m\u001b[31;49m23.1.2\u001b[0m\u001b[39;49m -> \u001b[0m\u001b[32;49m23.3.2\u001b[0m\n",
      "\u001b[1m[\u001b[0m\u001b[34;49mnotice\u001b[0m\u001b[1;39;49m]\u001b[0m\u001b[39;49m To update, run: \u001b[0m\u001b[32;49mpip install --upgrade pip\u001b[0m\n"
     ]
    }
   ],
   "source": [
    "!pip3 install pandas\n",
    "!pip3 install plotly\n",
    "!pip3 install numpy\n",
    "!pip3 install seaborn\n",
    "!pip3 install matplotlib.pyplot\n",
    "!pip3 install mpl_toolkits\n",
    "!pip3 install sklearn\n",
    "!pip3 install statsmodels\n",
    "!pip3 install random\n",
    "!pip3 install time"
   ]
  },
  {
   "cell_type": "code",
   "execution_count": null,
   "metadata": {},
   "outputs": [],
   "source": []
  },
  {
   "cell_type": "code",
   "execution_count": 47,
   "metadata": {},
   "outputs": [],
   "source": [
    "from statsmodels.tsa.seasonal import seasonal_decompose\n",
    "from statsmodels.tsa.arima.model import ARIMA\n",
    "from sklearn.metrics import mean_squared_error, mean_absolute_error\n",
    "from sklearn.linear_model import LogisticRegression\n",
    "from sklearn.inspection import permutation_importance\n",
    "from sklearn.feature_selection import SequentialFeatureSelector\n",
    "from sklearn.metrics import accuracy_score, recall_score, precision_score\n",
    "from sklearn.model_selection import train_test_split, KFold, cross_val_score, GridSearchCV\n",
    "from sklearn.compose import ColumnTransformer\n",
    "from sklearn.pipeline import Pipeline\n",
    "from sklearn.impute import SimpleImputer\n",
    "from sklearn.preprocessing import OneHotEncoder, PolynomialFeatures, StandardScaler\n",
    "from sklearn.neighbors import KNeighborsClassifier\n",
    "from sklearn.tree import DecisionTreeClassifier\n",
    "from sklearn.svm import SVC\n",
    "from sklearn.compose import make_column_transformer\n",
    "\n",
    "import time\n",
    "import statsmodels.api as sm\n",
    "import matplotlib.pyplot as plt\n",
    "import plotly.express as px\n",
    "import pandas as pd\n",
    "import numpy as np\n",
    "from random import shuffle, seed"
   ]
  },
  {
   "cell_type": "code",
   "execution_count": 20,
   "metadata": {},
   "outputs": [
    {
     "data": {
      "text/html": [
       "<div>\n",
       "<style scoped>\n",
       "    .dataframe tbody tr th:only-of-type {\n",
       "        vertical-align: middle;\n",
       "    }\n",
       "\n",
       "    .dataframe tbody tr th {\n",
       "        vertical-align: top;\n",
       "    }\n",
       "\n",
       "    .dataframe thead th {\n",
       "        text-align: right;\n",
       "    }\n",
       "</style>\n",
       "<table border=\"1\" class=\"dataframe\">\n",
       "  <thead>\n",
       "    <tr style=\"text-align: right;\">\n",
       "      <th></th>\n",
       "      <th>Material</th>\n",
       "      <th>Aggregate Percent</th>\n",
       "      <th>Refuse Percent</th>\n",
       "      <th>MGP Percent</th>\n",
       "      <th>Paper Percent</th>\n",
       "      <th>Organic Percent</th>\n",
       "      <th>Material Group</th>\n",
       "      <th>DSNY Diversion Summary Category</th>\n",
       "      <th>Location</th>\n",
       "    </tr>\n",
       "  </thead>\n",
       "  <tbody>\n",
       "    <tr>\n",
       "      <th>0</th>\n",
       "      <td>Newspaper</td>\n",
       "      <td>0.019</td>\n",
       "      <td>0.011</td>\n",
       "      <td>0.005</td>\n",
       "      <td>0.098</td>\n",
       "      <td>0.000</td>\n",
       "      <td>Paper</td>\n",
       "      <td>Designated Paper</td>\n",
       "      <td>Citywide</td>\n",
       "    </tr>\n",
       "    <tr>\n",
       "      <th>1</th>\n",
       "      <td>Plain OCC/Kraft Paper</td>\n",
       "      <td>0.056</td>\n",
       "      <td>0.012</td>\n",
       "      <td>0.010</td>\n",
       "      <td>0.464</td>\n",
       "      <td>0.002</td>\n",
       "      <td>Paper</td>\n",
       "      <td>Designated Paper</td>\n",
       "      <td>Citywide</td>\n",
       "    </tr>\n",
       "    <tr>\n",
       "      <th>2</th>\n",
       "      <td>Paper Bags: Kraft Grocery</td>\n",
       "      <td>0.002</td>\n",
       "      <td>0.001</td>\n",
       "      <td>0.000</td>\n",
       "      <td>0.008</td>\n",
       "      <td>0.000</td>\n",
       "      <td>Paper</td>\n",
       "      <td>Designated Paper</td>\n",
       "      <td>Citywide</td>\n",
       "    </tr>\n",
       "    <tr>\n",
       "      <th>3</th>\n",
       "      <td>Paper Bags: Non-food Retail</td>\n",
       "      <td>0.002</td>\n",
       "      <td>0.002</td>\n",
       "      <td>0.000</td>\n",
       "      <td>0.008</td>\n",
       "      <td>0.000</td>\n",
       "      <td>Paper</td>\n",
       "      <td>Designated Paper</td>\n",
       "      <td>Citywide</td>\n",
       "    </tr>\n",
       "    <tr>\n",
       "      <th>4</th>\n",
       "      <td>Paper Bags: Fast Food Bags</td>\n",
       "      <td>0.001</td>\n",
       "      <td>0.002</td>\n",
       "      <td>0.000</td>\n",
       "      <td>0.001</td>\n",
       "      <td>0.000</td>\n",
       "      <td>Paper</td>\n",
       "      <td>Designated Paper</td>\n",
       "      <td>Citywide</td>\n",
       "    </tr>\n",
       "  </tbody>\n",
       "</table>\n",
       "</div>"
      ],
      "text/plain": [
       "                      Material  Aggregate Percent  Refuse Percent   \n",
       "0                    Newspaper              0.019           0.011  \\\n",
       "1        Plain OCC/Kraft Paper              0.056           0.012   \n",
       "2    Paper Bags: Kraft Grocery              0.002           0.001   \n",
       "3  Paper Bags: Non-food Retail              0.002           0.002   \n",
       "4   Paper Bags: Fast Food Bags              0.001           0.002   \n",
       "\n",
       "   MGP Percent  Paper Percent  Organic Percent Material Group   \n",
       "0        0.005          0.098            0.000          Paper  \\\n",
       "1        0.010          0.464            0.002          Paper   \n",
       "2        0.000          0.008            0.000          Paper   \n",
       "3        0.000          0.008            0.000          Paper   \n",
       "4        0.000          0.001            0.000          Paper   \n",
       "\n",
       "  DSNY Diversion Summary Category  Location  \n",
       "0                Designated Paper  Citywide  \n",
       "1                Designated Paper  Citywide  \n",
       "2                Designated Paper  Citywide  \n",
       "3                Designated Paper  Citywide  \n",
       "4                Designated Paper  Citywide  "
      ]
     },
     "execution_count": 20,
     "metadata": {},
     "output_type": "execute_result"
    }
   ],
   "source": [
    "data = pd.read_csv('data/nyc-waste-data.csv')\n",
    "data.head()"
   ]
  },
  {
   "cell_type": "code",
   "execution_count": 21,
   "metadata": {},
   "outputs": [
    {
     "name": "stdout",
     "output_type": "stream",
     "text": [
      "<class 'pandas.core.frame.DataFrame'>\n",
      "RangeIndex: 1832 entries, 0 to 1831\n",
      "Data columns (total 9 columns):\n",
      " #   Column                           Non-Null Count  Dtype  \n",
      "---  ------                           --------------  -----  \n",
      " 0   Material                         1832 non-null   object \n",
      " 1   Aggregate Percent                1832 non-null   float64\n",
      " 2   Refuse Percent                   1832 non-null   float64\n",
      " 3   MGP Percent                      1603 non-null   float64\n",
      " 4   Paper Percent                    1603 non-null   float64\n",
      " 5   Organic Percent                  1145 non-null   float64\n",
      " 6   Material Group                   1832 non-null   object \n",
      " 7   DSNY Diversion Summary Category  1832 non-null   object \n",
      " 8   Location                         1832 non-null   object \n",
      "dtypes: float64(5), object(4)\n",
      "memory usage: 128.9+ KB\n"
     ]
    }
   ],
   "source": [
    "data.info()"
   ]
  },
  {
   "cell_type": "code",
   "execution_count": 22,
   "metadata": {
    "scrolled": true
   },
   "outputs": [
    {
     "data": {
      "application/vnd.plotly.v1+json": {
       "config": {
        "plotlyServerURL": "https://plot.ly"
       },
       "data": [
        {
         "alignmentgroup": "True",
         "bingroup": "x",
         "hovertemplate": "Material Group=%{x}<br>count=%{y}<extra></extra>",
         "legendgroup": "",
         "marker": {
          "color": "#636efa",
          "pattern": {
           "shape": ""
          }
         },
         "name": "",
         "offsetgroup": "",
         "orientation": "v",
         "showlegend": false,
         "type": "histogram",
         "x": [
          "Paper",
          "Paper",
          "Paper",
          "Paper",
          "Paper",
          "Paper",
          "Paper",
          "Paper",
          "Paper",
          "Paper",
          "Paper",
          "Paper",
          "Paper",
          "Paper",
          "Paper",
          "Paper",
          "Plastic",
          "Plastic",
          "Plastic",
          "Plastic",
          "Plastic",
          "Plastic",
          "Plastic",
          "Plastic",
          "Plastic",
          "Plastic",
          "Plastic",
          "Plastic",
          "Plastic",
          "Plastic",
          "Plastic",
          "Plastic",
          "Plastic",
          "Plastic",
          "Plastic",
          "Plastic",
          "Plastic",
          "Plastic",
          "Plastic",
          "Plastic",
          "Plastic",
          "Plastic",
          "Plastic",
          "Plastic",
          "Plastic",
          "Plastic",
          "Plastic",
          "Plastic",
          "Plastic",
          "Plastic",
          "Plastic",
          "Plastic",
          "Plastic",
          "Plastic",
          "Plastic",
          "Plastic",
          "Plastic",
          "Plastic",
          "Plastic",
          "Plastic",
          "Plastic",
          "Plastic",
          "Plastic",
          "Plastic",
          "Plastic",
          "Plastic",
          "Plastic",
          "Plastic",
          "Plastic",
          "Plastic",
          "Plastic",
          "Plastic",
          "Plastic",
          "Plastic",
          "Plastic",
          "Plastic",
          "Plastic",
          "Plastic",
          "Plastic",
          "Plastic",
          "Plastic",
          "Plastic",
          "Plastic",
          "Plastic",
          "Plastic",
          "Plastic",
          "Plastic",
          "Plastic",
          "Plastic",
          "Plastic",
          "Plastic",
          "Plastic",
          "Plastic",
          "Plastic",
          "Plastic",
          "Plastic",
          "Plastic",
          "Plastic",
          "Plastic",
          "Plastic",
          "Plastic",
          "Plastic",
          "Plastic",
          "Plastic",
          "Plastic",
          "Plastic",
          "Plastic",
          "Plastic",
          "Plastic",
          "Plastic",
          "Plastic",
          "Plastic",
          "Plastic",
          "Plastic",
          "Plastic",
          "Plastic",
          "Plastic",
          "Plastic",
          "Plastic",
          "Plastic",
          "Plastic",
          "Plastic",
          "Plastic",
          "Plastic",
          "Plastic",
          "Plastic",
          "Plastic",
          "Plastic",
          "Plastic",
          "Plastic",
          "Plastic",
          "Plastic",
          "Plastic",
          "Plastic",
          "Plastic",
          "Plastic",
          "Plastic",
          "Plastic",
          "Plastic",
          "Plastic",
          "Plastic",
          "Plastic",
          "Plastic",
          "Plastic",
          "Plastic",
          "Plastic",
          "Plastic",
          "Plastic",
          "Plastic",
          "Plastic",
          "Plastic",
          "Plastic",
          "Plastic",
          "Plastic",
          "Plastic",
          "Plastic",
          "Plastic",
          "Plastic",
          "Plastic",
          "Plastic",
          "Plastic",
          "Plastic",
          "Plastic",
          "Plastic",
          "Plastic",
          "Plastic",
          "Plastic",
          "Plastic",
          "Plastic",
          "Plastic",
          "Plastic",
          "Plastic",
          "Plastic",
          "Plastic",
          "Plastic",
          "Plastic",
          "Plastic",
          "Plastic",
          "Plastic",
          "Glass",
          "Glass",
          "Glass",
          "Glass",
          "Glass",
          "Glass",
          "Metal",
          "Metal",
          "Metal",
          "Metal",
          "Metal",
          "Metal",
          "Metal",
          "Metal",
          "Metal",
          "Metal",
          "Organic",
          "Organic",
          "Organic",
          "Organic",
          "Organic",
          "Organic",
          "Organic",
          "Organic",
          "Organic",
          "Organic",
          "Organic",
          "Organic",
          "E-Waste",
          "E-Waste",
          "E-Waste",
          "E-Waste",
          "E-Waste",
          "C&D",
          "C&D",
          "C&D",
          "Special Waste",
          "Special Waste",
          "Special Waste",
          "Special Waste",
          "Special Waste",
          "Special Waste",
          "Special Waste",
          "Special Waste",
          "Special Waste",
          "Special Waste",
          "Special Waste",
          "Special Waste",
          "Special Waste",
          "Miscellaneous Inorganics",
          "Paper",
          "Paper",
          "Paper",
          "Paper",
          "Paper",
          "Paper",
          "Paper",
          "Paper",
          "Paper",
          "Paper",
          "Paper",
          "Paper",
          "Paper",
          "Paper",
          "Paper",
          "Paper",
          "Plastic",
          "Plastic",
          "Plastic",
          "Plastic",
          "Plastic",
          "Plastic",
          "Plastic",
          "Plastic",
          "Plastic",
          "Plastic",
          "Plastic",
          "Plastic",
          "Plastic",
          "Plastic",
          "Plastic",
          "Plastic",
          "Plastic",
          "Plastic",
          "Plastic",
          "Plastic",
          "Plastic",
          "Plastic",
          "Plastic",
          "Plastic",
          "Plastic",
          "Plastic",
          "Plastic",
          "Plastic",
          "Plastic",
          "Plastic",
          "Plastic",
          "Plastic",
          "Plastic",
          "Plastic",
          "Plastic",
          "Plastic",
          "Plastic",
          "Plastic",
          "Plastic",
          "Plastic",
          "Plastic",
          "Plastic",
          "Plastic",
          "Plastic",
          "Plastic",
          "Plastic",
          "Plastic",
          "Plastic",
          "Plastic",
          "Plastic",
          "Plastic",
          "Plastic",
          "Plastic",
          "Plastic",
          "Plastic",
          "Plastic",
          "Plastic",
          "Plastic",
          "Plastic",
          "Plastic",
          "Plastic",
          "Plastic",
          "Plastic",
          "Plastic",
          "Plastic",
          "Plastic",
          "Plastic",
          "Plastic",
          "Plastic",
          "Plastic",
          "Plastic",
          "Plastic",
          "Plastic",
          "Plastic",
          "Organic",
          "Plastic",
          "Plastic",
          "Plastic",
          "Plastic",
          "Plastic",
          "Plastic",
          "Plastic",
          "Plastic",
          "Plastic",
          "Plastic",
          "Plastic",
          "Plastic",
          "Plastic",
          "Plastic",
          "Plastic",
          "Plastic",
          "Plastic",
          "Plastic",
          "Plastic",
          "Plastic",
          "Plastic",
          "Plastic",
          "Plastic",
          "Plastic",
          "Plastic",
          "Plastic",
          "Plastic",
          "Plastic",
          "Plastic",
          "Plastic",
          "Plastic",
          "Plastic",
          "Plastic",
          "Plastic",
          "Plastic",
          "Plastic",
          "Plastic",
          "Plastic",
          "Plastic",
          "Plastic",
          "Plastic",
          "Plastic",
          "Plastic",
          "Plastic",
          "Plastic",
          "Plastic",
          "Plastic",
          "Plastic",
          "Plastic",
          "Plastic",
          "Plastic",
          "Plastic",
          "Plastic",
          "Plastic",
          "Plastic",
          "Plastic",
          "Plastic",
          "Plastic",
          "Plastic",
          "Plastic",
          "Plastic",
          "Plastic",
          "Plastic",
          "Plastic",
          "Plastic",
          "Plastic",
          "Plastic",
          "Plastic",
          "Plastic",
          "Plastic",
          "Plastic",
          "Plastic",
          "Plastic",
          "Plastic",
          "Plastic",
          "Plastic",
          "Plastic",
          "Plastic",
          "Plastic",
          "Plastic",
          "Plastic",
          "Plastic",
          "Plastic",
          "Plastic",
          "Plastic",
          "Plastic",
          "Plastic",
          "Plastic",
          "Plastic",
          "Glass",
          "Glass",
          "Glass",
          "Glass",
          "Glass",
          "Glass",
          "Metal",
          "Metal",
          "Metal",
          "Metal",
          "Metal",
          "Metal",
          "Metal",
          "Metal",
          "Metal",
          "Metal",
          "Organic",
          "Organic",
          "Organic",
          "Organic",
          "Organic",
          "Organic",
          "Organic",
          "Organic",
          "Organic",
          "Organic",
          "Organic",
          "E-Waste",
          "E-Waste",
          "E-Waste",
          "E-Waste",
          "E-Waste",
          "C&D",
          "C&D",
          "C&D",
          "Special Waste",
          "Special Waste",
          "Special Waste",
          "Special Waste",
          "Special Waste",
          "Special Waste",
          "Special Waste",
          "Special Waste",
          "Special Waste",
          "Special Waste",
          "Special Waste",
          "Special Waste",
          "Special Waste",
          "Miscellaneous Inorganics",
          "Paper",
          "Paper",
          "Paper",
          "Paper",
          "Paper",
          "Paper",
          "Paper",
          "Paper",
          "Paper",
          "Paper",
          "Paper",
          "Paper",
          "Paper",
          "Paper",
          "Paper",
          "Paper",
          "Plastic",
          "Plastic",
          "Plastic",
          "Plastic",
          "Plastic",
          "Plastic",
          "Plastic",
          "Plastic",
          "Plastic",
          "Plastic",
          "Plastic",
          "Plastic",
          "Plastic",
          "Plastic",
          "Plastic",
          "Plastic",
          "Plastic",
          "Plastic",
          "Plastic",
          "Plastic",
          "Plastic",
          "Plastic",
          "Plastic",
          "Plastic",
          "Plastic",
          "Plastic",
          "Plastic",
          "Plastic",
          "Plastic",
          "Plastic",
          "Plastic",
          "Plastic",
          "Plastic",
          "Plastic",
          "Plastic",
          "Plastic",
          "Plastic",
          "Plastic",
          "Plastic",
          "Plastic",
          "Plastic",
          "Plastic",
          "Plastic",
          "Plastic",
          "Plastic",
          "Plastic",
          "Plastic",
          "Plastic",
          "Plastic",
          "Plastic",
          "Plastic",
          "Plastic",
          "Plastic",
          "Plastic",
          "Plastic",
          "Plastic",
          "Plastic",
          "Plastic",
          "Plastic",
          "Plastic",
          "Plastic",
          "Plastic",
          "Plastic",
          "Plastic",
          "Plastic",
          "Plastic",
          "Plastic",
          "Plastic",
          "Plastic",
          "Plastic",
          "Plastic",
          "Plastic",
          "Plastic",
          "Plastic",
          "Plastic",
          "Plastic",
          "Plastic",
          "Plastic",
          "Plastic",
          "Plastic",
          "Plastic",
          "Plastic",
          "Plastic",
          "Plastic",
          "Plastic",
          "Plastic",
          "Plastic",
          "Plastic",
          "Plastic",
          "Plastic",
          "Plastic",
          "Plastic",
          "Plastic",
          "Plastic",
          "Plastic",
          "Plastic",
          "Plastic",
          "Plastic",
          "Plastic",
          "Plastic",
          "Plastic",
          "Plastic",
          "Plastic",
          "Plastic",
          "Plastic",
          "Plastic",
          "Plastic",
          "Plastic",
          "Plastic",
          "Plastic",
          "Plastic",
          "Plastic",
          "Plastic",
          "Plastic",
          "Plastic",
          "Plastic",
          "Plastic",
          "Plastic",
          "Plastic",
          "Plastic",
          "Plastic",
          "Plastic",
          "Plastic",
          "Plastic",
          "Plastic",
          "Plastic",
          "Plastic",
          "Plastic",
          "Plastic",
          "Plastic",
          "Plastic",
          "Plastic",
          "Plastic",
          "Plastic",
          "Plastic",
          "Plastic",
          "Plastic",
          "Plastic",
          "Plastic",
          "Plastic",
          "Plastic",
          "Plastic",
          "Plastic",
          "Plastic",
          "Plastic",
          "Plastic",
          "Plastic",
          "Plastic",
          "Plastic",
          "Plastic",
          "Plastic",
          "Plastic",
          "Plastic",
          "Plastic",
          "Plastic",
          "Plastic",
          "Plastic",
          "Plastic",
          "Plastic",
          "Plastic",
          "Plastic",
          "Plastic",
          "Plastic",
          "Glass",
          "Glass",
          "Glass",
          "Glass",
          "Glass",
          "Glass",
          "Metal",
          "Metal",
          "Metal",
          "Metal",
          "Metal",
          "Metal",
          "Metal",
          "Metal",
          "Metal",
          "Metal",
          "Organic",
          "Organic",
          "Organic",
          "Organic",
          "Organic",
          "Organic",
          "Organic",
          "Organic",
          "Organic",
          "Organic",
          "Organic",
          "Organic",
          "E-Waste",
          "E-Waste",
          "E-Waste",
          "E-Waste",
          "E-Waste",
          "C&D",
          "C&D",
          "C&D",
          "Special Waste",
          "Special Waste",
          "Special Waste",
          "Special Waste",
          "Special Waste",
          "Special Waste",
          "Special Waste",
          "Special Waste",
          "Special Waste",
          "Special Waste",
          "Special Waste",
          "Special Waste",
          "Special Waste",
          "Miscellaneous Inorganics",
          "Paper",
          "Paper",
          "Paper",
          "Paper",
          "Paper",
          "Paper",
          "Paper",
          "Paper",
          "Paper",
          "Paper",
          "Paper",
          "Paper",
          "Paper",
          "Paper",
          "Paper",
          "Paper",
          "Plastic",
          "Plastic",
          "Plastic",
          "Plastic",
          "Plastic",
          "Plastic",
          "Plastic",
          "Plastic",
          "Plastic",
          "Plastic",
          "Plastic",
          "Plastic",
          "Plastic",
          "Plastic",
          "Plastic",
          "Plastic",
          "Plastic",
          "Plastic",
          "Plastic",
          "Plastic",
          "Plastic",
          "Plastic",
          "Plastic",
          "Plastic",
          "Plastic",
          "Plastic",
          "Plastic",
          "Plastic",
          "Plastic",
          "Plastic",
          "Plastic",
          "Plastic",
          "Plastic",
          "Plastic",
          "Plastic",
          "Plastic",
          "Plastic",
          "Plastic",
          "Plastic",
          "Plastic",
          "Plastic",
          "Plastic",
          "Plastic",
          "Plastic",
          "Plastic",
          "Plastic",
          "Plastic",
          "Plastic",
          "Plastic",
          "Plastic",
          "Plastic",
          "Plastic",
          "Plastic",
          "Plastic",
          "Plastic",
          "Plastic",
          "Plastic",
          "Plastic",
          "Plastic",
          "Plastic",
          "Plastic",
          "Plastic",
          "Plastic",
          "Plastic",
          "Plastic",
          "Plastic",
          "Plastic",
          "Plastic",
          "Plastic",
          "Plastic",
          "Plastic",
          "Plastic",
          "Plastic",
          "Plastic",
          "Plastic",
          "Plastic",
          "Plastic",
          "Plastic",
          "Plastic",
          "Plastic",
          "Plastic",
          "Plastic",
          "Plastic",
          "Plastic",
          "Plastic",
          "Plastic",
          "Plastic",
          "Plastic",
          "Plastic",
          "Plastic",
          "Plastic",
          "Plastic",
          "Plastic",
          "Plastic",
          "Plastic",
          "Plastic",
          "Plastic",
          "Plastic",
          "Plastic",
          "Plastic",
          "Plastic",
          "Plastic",
          "Plastic",
          "Plastic",
          "Plastic",
          "Plastic",
          "Plastic",
          "Plastic",
          "Plastic",
          "Plastic",
          "Plastic",
          "Plastic",
          "Plastic",
          "Plastic",
          "Plastic",
          "Plastic",
          "Plastic",
          "Plastic",
          "Plastic",
          "Plastic",
          "Plastic",
          "Plastic",
          "Plastic",
          "Plastic",
          "Plastic",
          "Plastic",
          "Plastic",
          "Plastic",
          "Plastic",
          "Plastic",
          "Plastic",
          "Plastic",
          "Plastic",
          "Plastic",
          "Plastic",
          "Plastic",
          "Plastic",
          "Plastic",
          "Plastic",
          "Plastic",
          "Plastic",
          "Plastic",
          "Plastic",
          "Plastic",
          "Plastic",
          "Plastic",
          "Plastic",
          "Plastic",
          "Plastic",
          "Plastic",
          "Plastic",
          "Plastic",
          "Plastic",
          "Plastic",
          "Plastic",
          "Plastic",
          "Plastic",
          "Plastic",
          "Plastic",
          "Plastic",
          "Plastic",
          "Plastic",
          "Plastic",
          "Glass",
          "Glass",
          "Glass",
          "Glass",
          "Glass",
          "Glass",
          "Metal",
          "Metal",
          "Metal",
          "Metal",
          "Metal",
          "Metal",
          "Metal",
          "Metal",
          "Metal",
          "Metal",
          "Organic",
          "Organic",
          "Organic",
          "Organic",
          "Organic",
          "Organic",
          "Organic",
          "Organic",
          "Organic",
          "Organic",
          "Organic",
          "Organic",
          "E-Waste",
          "E-Waste",
          "E-Waste",
          "E-Waste",
          "E-Waste",
          "C&D",
          "C&D",
          "C&D",
          "Special Waste",
          "Special Waste",
          "Special Waste",
          "Special Waste",
          "Special Waste",
          "Special Waste",
          "Special Waste",
          "Special Waste",
          "Special Waste",
          "Special Waste",
          "Special Waste",
          "Special Waste",
          "Special Waste",
          "Miscellaneous Inorganics",
          "Paper",
          "Paper",
          "Paper",
          "Paper",
          "Paper",
          "Paper",
          "Paper",
          "Paper",
          "Paper",
          "Paper",
          "Paper",
          "Paper",
          "Paper",
          "Paper",
          "Paper",
          "Paper",
          "Plastic",
          "Plastic",
          "Plastic",
          "Plastic",
          "Plastic",
          "Plastic",
          "Plastic",
          "Plastic",
          "Plastic",
          "Plastic",
          "Plastic",
          "Plastic",
          "Plastic",
          "Plastic",
          "Plastic",
          "Plastic",
          "Plastic",
          "Plastic",
          "Plastic",
          "Plastic",
          "Plastic",
          "Plastic",
          "Plastic",
          "Plastic",
          "Plastic",
          "Plastic",
          "Plastic",
          "Plastic",
          "Plastic",
          "Plastic",
          "Plastic",
          "Plastic",
          "Plastic",
          "Plastic",
          "Plastic",
          "Plastic",
          "Plastic",
          "Plastic",
          "Plastic",
          "Plastic",
          "Plastic",
          "Plastic",
          "Plastic",
          "Plastic",
          "Plastic",
          "Plastic",
          "Plastic",
          "Plastic",
          "Plastic",
          "Plastic",
          "Plastic",
          "Plastic",
          "Plastic",
          "Plastic",
          "Plastic",
          "Plastic",
          "Plastic",
          "Plastic",
          "Plastic",
          "Plastic",
          "Plastic",
          "Plastic",
          "Plastic",
          "Plastic",
          "Plastic",
          "Plastic",
          "Plastic",
          "Plastic",
          "Plastic",
          "Plastic",
          "Plastic",
          "Plastic",
          "Plastic",
          "Plastic",
          "Plastic",
          "Plastic",
          "Plastic",
          "Plastic",
          "Plastic",
          "Plastic",
          "Plastic",
          "Plastic",
          "Plastic",
          "Plastic",
          "Plastic",
          "Plastic",
          "Plastic",
          "Plastic",
          "Plastic",
          "Plastic",
          "Plastic",
          "Plastic",
          "Plastic",
          "Plastic",
          "Plastic",
          "Plastic",
          "Plastic",
          "Plastic",
          "Plastic",
          "Plastic",
          "Plastic",
          "Plastic",
          "Plastic",
          "Plastic",
          "Plastic",
          "Plastic",
          "Plastic",
          "Plastic",
          "Plastic",
          "Plastic",
          "Plastic",
          "Plastic",
          "Plastic",
          "Plastic",
          "Plastic",
          "Plastic",
          "Plastic",
          "Plastic",
          "Plastic",
          "Plastic",
          "Plastic",
          "Plastic",
          "Plastic",
          "Plastic",
          "Plastic",
          "Plastic",
          "Plastic",
          "Plastic",
          "Plastic",
          "Plastic",
          "Plastic",
          "Plastic",
          "Plastic",
          "Plastic",
          "Plastic",
          "Plastic",
          "Plastic",
          "Plastic",
          "Plastic",
          "Plastic",
          "Plastic",
          "Plastic",
          "Plastic",
          "Plastic",
          "Plastic",
          "Plastic",
          "Plastic",
          "Plastic",
          "Plastic",
          "Plastic",
          "Plastic",
          "Plastic",
          "Plastic",
          "Plastic",
          "Plastic",
          "Plastic",
          "Plastic",
          "Plastic",
          "Plastic",
          "Plastic",
          "Plastic",
          "Plastic",
          "Plastic",
          "Glass",
          "Glass",
          "Glass",
          "Glass",
          "Glass",
          "Glass",
          "Metal",
          "Metal",
          "Metal",
          "Metal",
          "Metal",
          "Metal",
          "Metal",
          "Metal",
          "Metal",
          "Metal",
          "Organic",
          "Organic",
          "Organic",
          "Organic",
          "Organic",
          "Organic",
          "Organic",
          "Organic",
          "Organic",
          "Organic",
          "Organic",
          "Organic",
          "E-Waste",
          "E-Waste",
          "E-Waste",
          "E-Waste",
          "E-Waste",
          "C&D",
          "C&D",
          "C&D",
          "Special Waste",
          "Special Waste",
          "Special Waste",
          "Special Waste",
          "Special Waste",
          "Special Waste",
          "Special Waste",
          "Special Waste",
          "Special Waste",
          "Special Waste",
          "Special Waste",
          "Special Waste",
          "Special Waste",
          "Miscellaneous Inorganics",
          "Paper",
          "Paper",
          "Paper",
          "Paper",
          "Paper",
          "Paper",
          "Paper",
          "Paper",
          "Paper",
          "Paper",
          "Paper",
          "Paper",
          "Paper",
          "Paper",
          "Paper",
          "Paper",
          "Plastic",
          "Plastic",
          "Plastic",
          "Plastic",
          "Plastic",
          "Plastic",
          "Plastic",
          "Plastic",
          "Plastic",
          "Plastic",
          "Plastic",
          "Plastic",
          "Plastic",
          "Plastic",
          "Plastic",
          "Plastic",
          "Plastic",
          "Plastic",
          "Plastic",
          "Plastic",
          "Plastic",
          "Plastic",
          "Plastic",
          "Plastic",
          "Plastic",
          "Plastic",
          "Plastic",
          "Plastic",
          "Plastic",
          "Plastic",
          "Plastic",
          "Plastic",
          "Plastic",
          "Plastic",
          "Plastic",
          "Plastic",
          "Plastic",
          "Plastic",
          "Plastic",
          "Plastic",
          "Plastic",
          "Plastic",
          "Plastic",
          "Plastic",
          "Plastic",
          "Plastic",
          "Plastic",
          "Plastic",
          "Plastic",
          "Plastic",
          "Plastic",
          "Plastic",
          "Plastic",
          "Plastic",
          "Plastic",
          "Plastic",
          "Plastic",
          "Plastic",
          "Plastic",
          "Plastic",
          "Plastic",
          "Plastic",
          "Plastic",
          "Plastic",
          "Plastic",
          "Plastic",
          "Plastic",
          "Plastic",
          "Plastic",
          "Plastic",
          "Plastic",
          "Plastic",
          "Plastic",
          "Plastic",
          "Plastic",
          "Plastic",
          "Plastic",
          "Plastic",
          "Plastic",
          "Plastic",
          "Plastic",
          "Plastic",
          "Plastic",
          "Plastic",
          "Plastic",
          "Plastic",
          "Plastic",
          "Plastic",
          "Plastic",
          "Plastic",
          "Plastic",
          "Plastic",
          "Plastic",
          "Plastic",
          "Plastic",
          "Plastic",
          "Plastic",
          "Plastic",
          "Plastic",
          "Plastic",
          "Plastic",
          "Plastic",
          "Plastic",
          "Plastic",
          "Plastic",
          "Plastic",
          "Plastic",
          "Plastic",
          "Plastic",
          "Plastic",
          "Plastic",
          "Plastic",
          "Plastic",
          "Plastic",
          "Plastic",
          "Plastic",
          "Plastic",
          "Plastic",
          "Plastic",
          "Plastic",
          "Plastic",
          "Plastic",
          "Plastic",
          "Plastic",
          "Plastic",
          "Plastic",
          "Plastic",
          "Plastic",
          "Plastic",
          "Plastic",
          "Plastic",
          "Plastic",
          "Plastic",
          "Plastic",
          "Plastic",
          "Plastic",
          "Plastic",
          "Plastic",
          "Plastic",
          "Plastic",
          "Plastic",
          "Plastic",
          "Plastic",
          "Plastic",
          "Plastic",
          "Plastic",
          "Plastic",
          "Plastic",
          "Plastic",
          "Plastic",
          "Plastic",
          "Plastic",
          "Plastic",
          "Plastic",
          "Plastic",
          "Plastic",
          "Plastic",
          "Plastic",
          "Plastic",
          "Plastic",
          "Plastic",
          "Plastic",
          "Plastic",
          "Glass",
          "Glass",
          "Glass",
          "Glass",
          "Glass",
          "Glass",
          "Metal",
          "Metal",
          "Metal",
          "Metal",
          "Metal",
          "Metal",
          "Metal",
          "Metal",
          "Metal",
          "Metal",
          "Organic",
          "Organic",
          "Organic",
          "Organic",
          "Organic",
          "Organic",
          "Organic",
          "Organic",
          "Organic",
          "Organic",
          "Organic",
          "Organic",
          "E-Waste",
          "E-Waste",
          "E-Waste",
          "E-Waste",
          "E-Waste",
          "C&D",
          "C&D",
          "C&D",
          "Special Waste",
          "Special Waste",
          "Special Waste",
          "Special Waste",
          "Special Waste",
          "Special Waste",
          "Special Waste",
          "Special Waste",
          "Special Waste",
          "Special Waste",
          "Special Waste",
          "Special Waste",
          "Special Waste",
          "Miscellaneous Inorganics",
          "Paper",
          "Paper",
          "Paper",
          "Paper",
          "Paper",
          "Paper",
          "Paper",
          "Paper",
          "Paper",
          "Paper",
          "Paper",
          "Paper",
          "Paper",
          "Paper",
          "Paper",
          "Paper",
          "Plastic",
          "Plastic",
          "Plastic",
          "Plastic",
          "Plastic",
          "Plastic",
          "Plastic",
          "Plastic",
          "Plastic",
          "Plastic",
          "Plastic",
          "Plastic",
          "Plastic",
          "Plastic",
          "Plastic",
          "Plastic",
          "Plastic",
          "Plastic",
          "Plastic",
          "Plastic",
          "Plastic",
          "Plastic",
          "Plastic",
          "Plastic",
          "Plastic",
          "Plastic",
          "Plastic",
          "Plastic",
          "Plastic",
          "Plastic",
          "Plastic",
          "Plastic",
          "Plastic",
          "Plastic",
          "Plastic",
          "Plastic",
          "Plastic",
          "Plastic",
          "Plastic",
          "Plastic",
          "Plastic",
          "Plastic",
          "Plastic",
          "Plastic",
          "Plastic",
          "Plastic",
          "Plastic",
          "Plastic",
          "Plastic",
          "Plastic",
          "Plastic",
          "Plastic",
          "Plastic",
          "Plastic",
          "Plastic",
          "Plastic",
          "Plastic",
          "Plastic",
          "Plastic",
          "Plastic",
          "Plastic",
          "Plastic",
          "Plastic",
          "Plastic",
          "Plastic",
          "Plastic",
          "Plastic",
          "Plastic",
          "Plastic",
          "Plastic",
          "Plastic",
          "Plastic",
          "Plastic",
          "Plastic",
          "Plastic",
          "Plastic",
          "Plastic",
          "Plastic",
          "Plastic",
          "Plastic",
          "Plastic",
          "Plastic",
          "Plastic",
          "Plastic",
          "Plastic",
          "Plastic",
          "Plastic",
          "Plastic",
          "Plastic",
          "Plastic",
          "Plastic",
          "Plastic",
          "Plastic",
          "Plastic",
          "Plastic",
          "Plastic",
          "Plastic",
          "Plastic",
          "Plastic",
          "Plastic",
          "Plastic",
          "Plastic",
          "Plastic",
          "Plastic",
          "Plastic",
          "Plastic",
          "Plastic",
          "Plastic",
          "Plastic",
          "Plastic",
          "Plastic",
          "Plastic",
          "Plastic",
          "Plastic",
          "Plastic",
          "Plastic",
          "Plastic",
          "Plastic",
          "Plastic",
          "Plastic",
          "Plastic",
          "Plastic",
          "Plastic",
          "Plastic",
          "Plastic",
          "Plastic",
          "Plastic",
          "Plastic",
          "Plastic",
          "Plastic",
          "Plastic",
          "Plastic",
          "Plastic",
          "Plastic",
          "Plastic",
          "Plastic",
          "Plastic",
          "Plastic",
          "Plastic",
          "Plastic",
          "Plastic",
          "Plastic",
          "Plastic",
          "Plastic",
          "Plastic",
          "Plastic",
          "Plastic",
          "Plastic",
          "Plastic",
          "Plastic",
          "Plastic",
          "Plastic",
          "Plastic",
          "Plastic",
          "Plastic",
          "Plastic",
          "Plastic",
          "Plastic",
          "Plastic",
          "Plastic",
          "Plastic",
          "Plastic",
          "Plastic",
          "Glass",
          "Glass",
          "Glass",
          "Glass",
          "Glass",
          "Glass",
          "Metal",
          "Metal",
          "Metal",
          "Metal",
          "Metal",
          "Metal",
          "Metal",
          "Metal",
          "Metal",
          "Metal",
          "Organic",
          "Organic",
          "Organic",
          "Organic",
          "Organic",
          "Organic",
          "Organic",
          "Organic",
          "Organic",
          "Organic",
          "Organic",
          "Organic",
          "E-Waste",
          "E-Waste",
          "E-Waste",
          "E-Waste",
          "E-Waste",
          "C&D",
          "C&D",
          "C&D",
          "Special Waste",
          "Special Waste",
          "Special Waste",
          "Special Waste",
          "Special Waste",
          "Special Waste",
          "Special Waste",
          "Special Waste",
          "Special Waste",
          "Special Waste",
          "Special Waste",
          "Special Waste",
          "Special Waste",
          "Miscellaneous Inorganics",
          "Paper",
          "Paper",
          "Paper",
          "Paper",
          "Paper",
          "Paper",
          "Paper",
          "Paper",
          "Paper",
          "Paper",
          "Paper",
          "Paper",
          "Paper",
          "Paper",
          "Paper",
          "Paper",
          "Plastic",
          "Plastic",
          "Plastic",
          "Plastic",
          "Plastic",
          "Plastic",
          "Plastic",
          "Plastic",
          "Plastic",
          "Plastic",
          "Plastic",
          "Plastic",
          "Plastic",
          "Plastic",
          "Plastic",
          "Plastic",
          "Plastic",
          "Plastic",
          "Plastic",
          "Plastic",
          "Plastic",
          "Plastic",
          "Plastic",
          "Plastic",
          "Plastic",
          "Plastic",
          "Plastic",
          "Plastic",
          "Plastic",
          "Plastic",
          "Plastic",
          "Plastic",
          "Plastic",
          "Plastic",
          "Plastic",
          "Plastic",
          "Plastic",
          "Plastic",
          "Plastic",
          "Plastic",
          "Plastic",
          "Plastic",
          "Plastic",
          "Plastic",
          "Plastic",
          "Plastic",
          "Plastic",
          "Plastic",
          "Plastic",
          "Plastic",
          "Plastic",
          "Plastic",
          "Plastic",
          "Plastic",
          "Plastic",
          "Plastic",
          "Plastic",
          "Plastic",
          "Plastic",
          "Plastic",
          "Plastic",
          "Plastic",
          "Plastic",
          "Plastic",
          "Plastic",
          "Plastic",
          "Plastic",
          "Plastic",
          "Plastic",
          "Plastic",
          "Plastic",
          "Plastic",
          "Plastic",
          "Plastic",
          "Plastic",
          "Plastic",
          "Plastic",
          "Plastic",
          "Plastic",
          "Plastic",
          "Plastic",
          "Plastic",
          "Plastic",
          "Plastic",
          "Plastic",
          "Plastic",
          "Plastic",
          "Plastic",
          "Plastic",
          "Plastic",
          "Plastic",
          "Plastic",
          "Plastic",
          "Plastic",
          "Plastic",
          "Plastic",
          "Plastic",
          "Plastic",
          "Plastic",
          "Plastic",
          "Plastic",
          "Plastic",
          "Plastic",
          "Plastic",
          "Plastic",
          "Plastic",
          "Plastic",
          "Plastic",
          "Plastic",
          "Plastic",
          "Plastic",
          "Plastic",
          "Plastic",
          "Plastic",
          "Plastic",
          "Plastic",
          "Plastic",
          "Plastic",
          "Plastic",
          "Plastic",
          "Plastic",
          "Plastic",
          "Plastic",
          "Plastic",
          "Plastic",
          "Plastic",
          "Plastic",
          "Plastic",
          "Plastic",
          "Plastic",
          "Plastic",
          "Plastic",
          "Plastic",
          "Plastic",
          "Plastic",
          "Plastic",
          "Plastic",
          "Plastic",
          "Plastic",
          "Plastic",
          "Plastic",
          "Plastic",
          "Plastic",
          "Plastic",
          "Plastic",
          "Plastic",
          "Plastic",
          "Plastic",
          "Plastic",
          "Plastic",
          "Plastic",
          "Plastic",
          "Plastic",
          "Plastic",
          "Plastic",
          "Plastic",
          "Plastic",
          "Plastic",
          "Plastic",
          "Plastic",
          "Plastic",
          "Plastic",
          "Plastic",
          "Glass",
          "Glass",
          "Glass",
          "Glass",
          "Glass",
          "Glass",
          "Metal",
          "Metal",
          "Metal",
          "Metal",
          "Metal",
          "Metal",
          "Metal",
          "Metal",
          "Metal",
          "Metal",
          "Organic",
          "Organic",
          "Organic",
          "Organic",
          "Organic",
          "Organic",
          "Organic",
          "Organic",
          "Organic",
          "Organic",
          "Organic",
          "Organic",
          "E-Waste",
          "E-Waste",
          "E-Waste",
          "E-Waste",
          "E-Waste",
          "C&D",
          "C&D",
          "C&D",
          "Special Waste",
          "Special Waste",
          "Special Waste",
          "Special Waste",
          "Special Waste",
          "Special Waste",
          "Special Waste",
          "Special Waste",
          "Special Waste",
          "Special Waste",
          "Special Waste",
          "Special Waste",
          "Special Waste",
          "Miscellaneous Inorganics"
         ],
         "xaxis": "x",
         "yaxis": "y"
        }
       ],
       "layout": {
        "barmode": "relative",
        "legend": {
         "tracegroupgap": 0
        },
        "template": {
         "data": {
          "bar": [
           {
            "error_x": {
             "color": "#2a3f5f"
            },
            "error_y": {
             "color": "#2a3f5f"
            },
            "marker": {
             "line": {
              "color": "#E5ECF6",
              "width": 0.5
             },
             "pattern": {
              "fillmode": "overlay",
              "size": 10,
              "solidity": 0.2
             }
            },
            "type": "bar"
           }
          ],
          "barpolar": [
           {
            "marker": {
             "line": {
              "color": "#E5ECF6",
              "width": 0.5
             },
             "pattern": {
              "fillmode": "overlay",
              "size": 10,
              "solidity": 0.2
             }
            },
            "type": "barpolar"
           }
          ],
          "carpet": [
           {
            "aaxis": {
             "endlinecolor": "#2a3f5f",
             "gridcolor": "white",
             "linecolor": "white",
             "minorgridcolor": "white",
             "startlinecolor": "#2a3f5f"
            },
            "baxis": {
             "endlinecolor": "#2a3f5f",
             "gridcolor": "white",
             "linecolor": "white",
             "minorgridcolor": "white",
             "startlinecolor": "#2a3f5f"
            },
            "type": "carpet"
           }
          ],
          "choropleth": [
           {
            "colorbar": {
             "outlinewidth": 0,
             "ticks": ""
            },
            "type": "choropleth"
           }
          ],
          "contour": [
           {
            "colorbar": {
             "outlinewidth": 0,
             "ticks": ""
            },
            "colorscale": [
             [
              0,
              "#0d0887"
             ],
             [
              0.1111111111111111,
              "#46039f"
             ],
             [
              0.2222222222222222,
              "#7201a8"
             ],
             [
              0.3333333333333333,
              "#9c179e"
             ],
             [
              0.4444444444444444,
              "#bd3786"
             ],
             [
              0.5555555555555556,
              "#d8576b"
             ],
             [
              0.6666666666666666,
              "#ed7953"
             ],
             [
              0.7777777777777778,
              "#fb9f3a"
             ],
             [
              0.8888888888888888,
              "#fdca26"
             ],
             [
              1,
              "#f0f921"
             ]
            ],
            "type": "contour"
           }
          ],
          "contourcarpet": [
           {
            "colorbar": {
             "outlinewidth": 0,
             "ticks": ""
            },
            "type": "contourcarpet"
           }
          ],
          "heatmap": [
           {
            "colorbar": {
             "outlinewidth": 0,
             "ticks": ""
            },
            "colorscale": [
             [
              0,
              "#0d0887"
             ],
             [
              0.1111111111111111,
              "#46039f"
             ],
             [
              0.2222222222222222,
              "#7201a8"
             ],
             [
              0.3333333333333333,
              "#9c179e"
             ],
             [
              0.4444444444444444,
              "#bd3786"
             ],
             [
              0.5555555555555556,
              "#d8576b"
             ],
             [
              0.6666666666666666,
              "#ed7953"
             ],
             [
              0.7777777777777778,
              "#fb9f3a"
             ],
             [
              0.8888888888888888,
              "#fdca26"
             ],
             [
              1,
              "#f0f921"
             ]
            ],
            "type": "heatmap"
           }
          ],
          "heatmapgl": [
           {
            "colorbar": {
             "outlinewidth": 0,
             "ticks": ""
            },
            "colorscale": [
             [
              0,
              "#0d0887"
             ],
             [
              0.1111111111111111,
              "#46039f"
             ],
             [
              0.2222222222222222,
              "#7201a8"
             ],
             [
              0.3333333333333333,
              "#9c179e"
             ],
             [
              0.4444444444444444,
              "#bd3786"
             ],
             [
              0.5555555555555556,
              "#d8576b"
             ],
             [
              0.6666666666666666,
              "#ed7953"
             ],
             [
              0.7777777777777778,
              "#fb9f3a"
             ],
             [
              0.8888888888888888,
              "#fdca26"
             ],
             [
              1,
              "#f0f921"
             ]
            ],
            "type": "heatmapgl"
           }
          ],
          "histogram": [
           {
            "marker": {
             "pattern": {
              "fillmode": "overlay",
              "size": 10,
              "solidity": 0.2
             }
            },
            "type": "histogram"
           }
          ],
          "histogram2d": [
           {
            "colorbar": {
             "outlinewidth": 0,
             "ticks": ""
            },
            "colorscale": [
             [
              0,
              "#0d0887"
             ],
             [
              0.1111111111111111,
              "#46039f"
             ],
             [
              0.2222222222222222,
              "#7201a8"
             ],
             [
              0.3333333333333333,
              "#9c179e"
             ],
             [
              0.4444444444444444,
              "#bd3786"
             ],
             [
              0.5555555555555556,
              "#d8576b"
             ],
             [
              0.6666666666666666,
              "#ed7953"
             ],
             [
              0.7777777777777778,
              "#fb9f3a"
             ],
             [
              0.8888888888888888,
              "#fdca26"
             ],
             [
              1,
              "#f0f921"
             ]
            ],
            "type": "histogram2d"
           }
          ],
          "histogram2dcontour": [
           {
            "colorbar": {
             "outlinewidth": 0,
             "ticks": ""
            },
            "colorscale": [
             [
              0,
              "#0d0887"
             ],
             [
              0.1111111111111111,
              "#46039f"
             ],
             [
              0.2222222222222222,
              "#7201a8"
             ],
             [
              0.3333333333333333,
              "#9c179e"
             ],
             [
              0.4444444444444444,
              "#bd3786"
             ],
             [
              0.5555555555555556,
              "#d8576b"
             ],
             [
              0.6666666666666666,
              "#ed7953"
             ],
             [
              0.7777777777777778,
              "#fb9f3a"
             ],
             [
              0.8888888888888888,
              "#fdca26"
             ],
             [
              1,
              "#f0f921"
             ]
            ],
            "type": "histogram2dcontour"
           }
          ],
          "mesh3d": [
           {
            "colorbar": {
             "outlinewidth": 0,
             "ticks": ""
            },
            "type": "mesh3d"
           }
          ],
          "parcoords": [
           {
            "line": {
             "colorbar": {
              "outlinewidth": 0,
              "ticks": ""
             }
            },
            "type": "parcoords"
           }
          ],
          "pie": [
           {
            "automargin": true,
            "type": "pie"
           }
          ],
          "scatter": [
           {
            "fillpattern": {
             "fillmode": "overlay",
             "size": 10,
             "solidity": 0.2
            },
            "type": "scatter"
           }
          ],
          "scatter3d": [
           {
            "line": {
             "colorbar": {
              "outlinewidth": 0,
              "ticks": ""
             }
            },
            "marker": {
             "colorbar": {
              "outlinewidth": 0,
              "ticks": ""
             }
            },
            "type": "scatter3d"
           }
          ],
          "scattercarpet": [
           {
            "marker": {
             "colorbar": {
              "outlinewidth": 0,
              "ticks": ""
             }
            },
            "type": "scattercarpet"
           }
          ],
          "scattergeo": [
           {
            "marker": {
             "colorbar": {
              "outlinewidth": 0,
              "ticks": ""
             }
            },
            "type": "scattergeo"
           }
          ],
          "scattergl": [
           {
            "marker": {
             "colorbar": {
              "outlinewidth": 0,
              "ticks": ""
             }
            },
            "type": "scattergl"
           }
          ],
          "scattermapbox": [
           {
            "marker": {
             "colorbar": {
              "outlinewidth": 0,
              "ticks": ""
             }
            },
            "type": "scattermapbox"
           }
          ],
          "scatterpolar": [
           {
            "marker": {
             "colorbar": {
              "outlinewidth": 0,
              "ticks": ""
             }
            },
            "type": "scatterpolar"
           }
          ],
          "scatterpolargl": [
           {
            "marker": {
             "colorbar": {
              "outlinewidth": 0,
              "ticks": ""
             }
            },
            "type": "scatterpolargl"
           }
          ],
          "scatterternary": [
           {
            "marker": {
             "colorbar": {
              "outlinewidth": 0,
              "ticks": ""
             }
            },
            "type": "scatterternary"
           }
          ],
          "surface": [
           {
            "colorbar": {
             "outlinewidth": 0,
             "ticks": ""
            },
            "colorscale": [
             [
              0,
              "#0d0887"
             ],
             [
              0.1111111111111111,
              "#46039f"
             ],
             [
              0.2222222222222222,
              "#7201a8"
             ],
             [
              0.3333333333333333,
              "#9c179e"
             ],
             [
              0.4444444444444444,
              "#bd3786"
             ],
             [
              0.5555555555555556,
              "#d8576b"
             ],
             [
              0.6666666666666666,
              "#ed7953"
             ],
             [
              0.7777777777777778,
              "#fb9f3a"
             ],
             [
              0.8888888888888888,
              "#fdca26"
             ],
             [
              1,
              "#f0f921"
             ]
            ],
            "type": "surface"
           }
          ],
          "table": [
           {
            "cells": {
             "fill": {
              "color": "#EBF0F8"
             },
             "line": {
              "color": "white"
             }
            },
            "header": {
             "fill": {
              "color": "#C8D4E3"
             },
             "line": {
              "color": "white"
             }
            },
            "type": "table"
           }
          ]
         },
         "layout": {
          "annotationdefaults": {
           "arrowcolor": "#2a3f5f",
           "arrowhead": 0,
           "arrowwidth": 1
          },
          "autotypenumbers": "strict",
          "coloraxis": {
           "colorbar": {
            "outlinewidth": 0,
            "ticks": ""
           }
          },
          "colorscale": {
           "diverging": [
            [
             0,
             "#8e0152"
            ],
            [
             0.1,
             "#c51b7d"
            ],
            [
             0.2,
             "#de77ae"
            ],
            [
             0.3,
             "#f1b6da"
            ],
            [
             0.4,
             "#fde0ef"
            ],
            [
             0.5,
             "#f7f7f7"
            ],
            [
             0.6,
             "#e6f5d0"
            ],
            [
             0.7,
             "#b8e186"
            ],
            [
             0.8,
             "#7fbc41"
            ],
            [
             0.9,
             "#4d9221"
            ],
            [
             1,
             "#276419"
            ]
           ],
           "sequential": [
            [
             0,
             "#0d0887"
            ],
            [
             0.1111111111111111,
             "#46039f"
            ],
            [
             0.2222222222222222,
             "#7201a8"
            ],
            [
             0.3333333333333333,
             "#9c179e"
            ],
            [
             0.4444444444444444,
             "#bd3786"
            ],
            [
             0.5555555555555556,
             "#d8576b"
            ],
            [
             0.6666666666666666,
             "#ed7953"
            ],
            [
             0.7777777777777778,
             "#fb9f3a"
            ],
            [
             0.8888888888888888,
             "#fdca26"
            ],
            [
             1,
             "#f0f921"
            ]
           ],
           "sequentialminus": [
            [
             0,
             "#0d0887"
            ],
            [
             0.1111111111111111,
             "#46039f"
            ],
            [
             0.2222222222222222,
             "#7201a8"
            ],
            [
             0.3333333333333333,
             "#9c179e"
            ],
            [
             0.4444444444444444,
             "#bd3786"
            ],
            [
             0.5555555555555556,
             "#d8576b"
            ],
            [
             0.6666666666666666,
             "#ed7953"
            ],
            [
             0.7777777777777778,
             "#fb9f3a"
            ],
            [
             0.8888888888888888,
             "#fdca26"
            ],
            [
             1,
             "#f0f921"
            ]
           ]
          },
          "colorway": [
           "#636efa",
           "#EF553B",
           "#00cc96",
           "#ab63fa",
           "#FFA15A",
           "#19d3f3",
           "#FF6692",
           "#B6E880",
           "#FF97FF",
           "#FECB52"
          ],
          "font": {
           "color": "#2a3f5f"
          },
          "geo": {
           "bgcolor": "white",
           "lakecolor": "white",
           "landcolor": "#E5ECF6",
           "showlakes": true,
           "showland": true,
           "subunitcolor": "white"
          },
          "hoverlabel": {
           "align": "left"
          },
          "hovermode": "closest",
          "mapbox": {
           "style": "light"
          },
          "paper_bgcolor": "white",
          "plot_bgcolor": "#E5ECF6",
          "polar": {
           "angularaxis": {
            "gridcolor": "white",
            "linecolor": "white",
            "ticks": ""
           },
           "bgcolor": "#E5ECF6",
           "radialaxis": {
            "gridcolor": "white",
            "linecolor": "white",
            "ticks": ""
           }
          },
          "scene": {
           "xaxis": {
            "backgroundcolor": "#E5ECF6",
            "gridcolor": "white",
            "gridwidth": 2,
            "linecolor": "white",
            "showbackground": true,
            "ticks": "",
            "zerolinecolor": "white"
           },
           "yaxis": {
            "backgroundcolor": "#E5ECF6",
            "gridcolor": "white",
            "gridwidth": 2,
            "linecolor": "white",
            "showbackground": true,
            "ticks": "",
            "zerolinecolor": "white"
           },
           "zaxis": {
            "backgroundcolor": "#E5ECF6",
            "gridcolor": "white",
            "gridwidth": 2,
            "linecolor": "white",
            "showbackground": true,
            "ticks": "",
            "zerolinecolor": "white"
           }
          },
          "shapedefaults": {
           "line": {
            "color": "#2a3f5f"
           }
          },
          "ternary": {
           "aaxis": {
            "gridcolor": "white",
            "linecolor": "white",
            "ticks": ""
           },
           "baxis": {
            "gridcolor": "white",
            "linecolor": "white",
            "ticks": ""
           },
           "bgcolor": "#E5ECF6",
           "caxis": {
            "gridcolor": "white",
            "linecolor": "white",
            "ticks": ""
           }
          },
          "title": {
           "x": 0.05
          },
          "xaxis": {
           "automargin": true,
           "gridcolor": "white",
           "linecolor": "white",
           "ticks": "",
           "title": {
            "standoff": 15
           },
           "zerolinecolor": "white",
           "zerolinewidth": 2
          },
          "yaxis": {
           "automargin": true,
           "gridcolor": "white",
           "linecolor": "white",
           "ticks": "",
           "title": {
            "standoff": 15
           },
           "zerolinecolor": "white",
           "zerolinewidth": 2
          }
         }
        },
        "title": {
         "text": "Material Categorization"
        },
        "xaxis": {
         "anchor": "y",
         "domain": [
          0,
          1
         ],
         "title": {
          "text": "Material Group"
         }
        },
        "yaxis": {
         "anchor": "x",
         "domain": [
          0,
          1
         ],
         "title": {
          "text": "count"
         }
        }
       }
      },
      "text/html": [
       "<div>                            <div id=\"c8cda8a2-5671-4dab-a067-06a76da41b2b\" class=\"plotly-graph-div\" style=\"height:525px; width:100%;\"></div>            <script type=\"text/javascript\">                require([\"plotly\"], function(Plotly) {                    window.PLOTLYENV=window.PLOTLYENV || {};                                    if (document.getElementById(\"c8cda8a2-5671-4dab-a067-06a76da41b2b\")) {                    Plotly.newPlot(                        \"c8cda8a2-5671-4dab-a067-06a76da41b2b\",                        [{\"alignmentgroup\":\"True\",\"bingroup\":\"x\",\"hovertemplate\":\"Material Group=%{x}<br>count=%{y}<extra></extra>\",\"legendgroup\":\"\",\"marker\":{\"color\":\"#636efa\",\"pattern\":{\"shape\":\"\"}},\"name\":\"\",\"offsetgroup\":\"\",\"orientation\":\"v\",\"showlegend\":false,\"x\":[\"Paper\",\"Paper\",\"Paper\",\"Paper\",\"Paper\",\"Paper\",\"Paper\",\"Paper\",\"Paper\",\"Paper\",\"Paper\",\"Paper\",\"Paper\",\"Paper\",\"Paper\",\"Paper\",\"Plastic\",\"Plastic\",\"Plastic\",\"Plastic\",\"Plastic\",\"Plastic\",\"Plastic\",\"Plastic\",\"Plastic\",\"Plastic\",\"Plastic\",\"Plastic\",\"Plastic\",\"Plastic\",\"Plastic\",\"Plastic\",\"Plastic\",\"Plastic\",\"Plastic\",\"Plastic\",\"Plastic\",\"Plastic\",\"Plastic\",\"Plastic\",\"Plastic\",\"Plastic\",\"Plastic\",\"Plastic\",\"Plastic\",\"Plastic\",\"Plastic\",\"Plastic\",\"Plastic\",\"Plastic\",\"Plastic\",\"Plastic\",\"Plastic\",\"Plastic\",\"Plastic\",\"Plastic\",\"Plastic\",\"Plastic\",\"Plastic\",\"Plastic\",\"Plastic\",\"Plastic\",\"Plastic\",\"Plastic\",\"Plastic\",\"Plastic\",\"Plastic\",\"Plastic\",\"Plastic\",\"Plastic\",\"Plastic\",\"Plastic\",\"Plastic\",\"Plastic\",\"Plastic\",\"Plastic\",\"Plastic\",\"Plastic\",\"Plastic\",\"Plastic\",\"Plastic\",\"Plastic\",\"Plastic\",\"Plastic\",\"Plastic\",\"Plastic\",\"Plastic\",\"Plastic\",\"Plastic\",\"Plastic\",\"Plastic\",\"Plastic\",\"Plastic\",\"Plastic\",\"Plastic\",\"Plastic\",\"Plastic\",\"Plastic\",\"Plastic\",\"Plastic\",\"Plastic\",\"Plastic\",\"Plastic\",\"Plastic\",\"Plastic\",\"Plastic\",\"Plastic\",\"Plastic\",\"Plastic\",\"Plastic\",\"Plastic\",\"Plastic\",\"Plastic\",\"Plastic\",\"Plastic\",\"Plastic\",\"Plastic\",\"Plastic\",\"Plastic\",\"Plastic\",\"Plastic\",\"Plastic\",\"Plastic\",\"Plastic\",\"Plastic\",\"Plastic\",\"Plastic\",\"Plastic\",\"Plastic\",\"Plastic\",\"Plastic\",\"Plastic\",\"Plastic\",\"Plastic\",\"Plastic\",\"Plastic\",\"Plastic\",\"Plastic\",\"Plastic\",\"Plastic\",\"Plastic\",\"Plastic\",\"Plastic\",\"Plastic\",\"Plastic\",\"Plastic\",\"Plastic\",\"Plastic\",\"Plastic\",\"Plastic\",\"Plastic\",\"Plastic\",\"Plastic\",\"Plastic\",\"Plastic\",\"Plastic\",\"Plastic\",\"Plastic\",\"Plastic\",\"Plastic\",\"Plastic\",\"Plastic\",\"Plastic\",\"Plastic\",\"Plastic\",\"Plastic\",\"Plastic\",\"Plastic\",\"Plastic\",\"Plastic\",\"Plastic\",\"Plastic\",\"Plastic\",\"Plastic\",\"Plastic\",\"Plastic\",\"Plastic\",\"Plastic\",\"Plastic\",\"Glass\",\"Glass\",\"Glass\",\"Glass\",\"Glass\",\"Glass\",\"Metal\",\"Metal\",\"Metal\",\"Metal\",\"Metal\",\"Metal\",\"Metal\",\"Metal\",\"Metal\",\"Metal\",\"Organic\",\"Organic\",\"Organic\",\"Organic\",\"Organic\",\"Organic\",\"Organic\",\"Organic\",\"Organic\",\"Organic\",\"Organic\",\"Organic\",\"E-Waste\",\"E-Waste\",\"E-Waste\",\"E-Waste\",\"E-Waste\",\"C&D\",\"C&D\",\"C&D\",\"Special Waste\",\"Special Waste\",\"Special Waste\",\"Special Waste\",\"Special Waste\",\"Special Waste\",\"Special Waste\",\"Special Waste\",\"Special Waste\",\"Special Waste\",\"Special Waste\",\"Special Waste\",\"Special Waste\",\"Miscellaneous Inorganics\",\"Paper\",\"Paper\",\"Paper\",\"Paper\",\"Paper\",\"Paper\",\"Paper\",\"Paper\",\"Paper\",\"Paper\",\"Paper\",\"Paper\",\"Paper\",\"Paper\",\"Paper\",\"Paper\",\"Plastic\",\"Plastic\",\"Plastic\",\"Plastic\",\"Plastic\",\"Plastic\",\"Plastic\",\"Plastic\",\"Plastic\",\"Plastic\",\"Plastic\",\"Plastic\",\"Plastic\",\"Plastic\",\"Plastic\",\"Plastic\",\"Plastic\",\"Plastic\",\"Plastic\",\"Plastic\",\"Plastic\",\"Plastic\",\"Plastic\",\"Plastic\",\"Plastic\",\"Plastic\",\"Plastic\",\"Plastic\",\"Plastic\",\"Plastic\",\"Plastic\",\"Plastic\",\"Plastic\",\"Plastic\",\"Plastic\",\"Plastic\",\"Plastic\",\"Plastic\",\"Plastic\",\"Plastic\",\"Plastic\",\"Plastic\",\"Plastic\",\"Plastic\",\"Plastic\",\"Plastic\",\"Plastic\",\"Plastic\",\"Plastic\",\"Plastic\",\"Plastic\",\"Plastic\",\"Plastic\",\"Plastic\",\"Plastic\",\"Plastic\",\"Plastic\",\"Plastic\",\"Plastic\",\"Plastic\",\"Plastic\",\"Plastic\",\"Plastic\",\"Plastic\",\"Plastic\",\"Plastic\",\"Plastic\",\"Plastic\",\"Plastic\",\"Plastic\",\"Plastic\",\"Plastic\",\"Plastic\",\"Plastic\",\"Organic\",\"Plastic\",\"Plastic\",\"Plastic\",\"Plastic\",\"Plastic\",\"Plastic\",\"Plastic\",\"Plastic\",\"Plastic\",\"Plastic\",\"Plastic\",\"Plastic\",\"Plastic\",\"Plastic\",\"Plastic\",\"Plastic\",\"Plastic\",\"Plastic\",\"Plastic\",\"Plastic\",\"Plastic\",\"Plastic\",\"Plastic\",\"Plastic\",\"Plastic\",\"Plastic\",\"Plastic\",\"Plastic\",\"Plastic\",\"Plastic\",\"Plastic\",\"Plastic\",\"Plastic\",\"Plastic\",\"Plastic\",\"Plastic\",\"Plastic\",\"Plastic\",\"Plastic\",\"Plastic\",\"Plastic\",\"Plastic\",\"Plastic\",\"Plastic\",\"Plastic\",\"Plastic\",\"Plastic\",\"Plastic\",\"Plastic\",\"Plastic\",\"Plastic\",\"Plastic\",\"Plastic\",\"Plastic\",\"Plastic\",\"Plastic\",\"Plastic\",\"Plastic\",\"Plastic\",\"Plastic\",\"Plastic\",\"Plastic\",\"Plastic\",\"Plastic\",\"Plastic\",\"Plastic\",\"Plastic\",\"Plastic\",\"Plastic\",\"Plastic\",\"Plastic\",\"Plastic\",\"Plastic\",\"Plastic\",\"Plastic\",\"Plastic\",\"Plastic\",\"Plastic\",\"Plastic\",\"Plastic\",\"Plastic\",\"Plastic\",\"Plastic\",\"Plastic\",\"Plastic\",\"Plastic\",\"Plastic\",\"Plastic\",\"Plastic\",\"Glass\",\"Glass\",\"Glass\",\"Glass\",\"Glass\",\"Glass\",\"Metal\",\"Metal\",\"Metal\",\"Metal\",\"Metal\",\"Metal\",\"Metal\",\"Metal\",\"Metal\",\"Metal\",\"Organic\",\"Organic\",\"Organic\",\"Organic\",\"Organic\",\"Organic\",\"Organic\",\"Organic\",\"Organic\",\"Organic\",\"Organic\",\"E-Waste\",\"E-Waste\",\"E-Waste\",\"E-Waste\",\"E-Waste\",\"C&D\",\"C&D\",\"C&D\",\"Special Waste\",\"Special Waste\",\"Special Waste\",\"Special Waste\",\"Special Waste\",\"Special Waste\",\"Special Waste\",\"Special Waste\",\"Special Waste\",\"Special Waste\",\"Special Waste\",\"Special Waste\",\"Special Waste\",\"Miscellaneous Inorganics\",\"Paper\",\"Paper\",\"Paper\",\"Paper\",\"Paper\",\"Paper\",\"Paper\",\"Paper\",\"Paper\",\"Paper\",\"Paper\",\"Paper\",\"Paper\",\"Paper\",\"Paper\",\"Paper\",\"Plastic\",\"Plastic\",\"Plastic\",\"Plastic\",\"Plastic\",\"Plastic\",\"Plastic\",\"Plastic\",\"Plastic\",\"Plastic\",\"Plastic\",\"Plastic\",\"Plastic\",\"Plastic\",\"Plastic\",\"Plastic\",\"Plastic\",\"Plastic\",\"Plastic\",\"Plastic\",\"Plastic\",\"Plastic\",\"Plastic\",\"Plastic\",\"Plastic\",\"Plastic\",\"Plastic\",\"Plastic\",\"Plastic\",\"Plastic\",\"Plastic\",\"Plastic\",\"Plastic\",\"Plastic\",\"Plastic\",\"Plastic\",\"Plastic\",\"Plastic\",\"Plastic\",\"Plastic\",\"Plastic\",\"Plastic\",\"Plastic\",\"Plastic\",\"Plastic\",\"Plastic\",\"Plastic\",\"Plastic\",\"Plastic\",\"Plastic\",\"Plastic\",\"Plastic\",\"Plastic\",\"Plastic\",\"Plastic\",\"Plastic\",\"Plastic\",\"Plastic\",\"Plastic\",\"Plastic\",\"Plastic\",\"Plastic\",\"Plastic\",\"Plastic\",\"Plastic\",\"Plastic\",\"Plastic\",\"Plastic\",\"Plastic\",\"Plastic\",\"Plastic\",\"Plastic\",\"Plastic\",\"Plastic\",\"Plastic\",\"Plastic\",\"Plastic\",\"Plastic\",\"Plastic\",\"Plastic\",\"Plastic\",\"Plastic\",\"Plastic\",\"Plastic\",\"Plastic\",\"Plastic\",\"Plastic\",\"Plastic\",\"Plastic\",\"Plastic\",\"Plastic\",\"Plastic\",\"Plastic\",\"Plastic\",\"Plastic\",\"Plastic\",\"Plastic\",\"Plastic\",\"Plastic\",\"Plastic\",\"Plastic\",\"Plastic\",\"Plastic\",\"Plastic\",\"Plastic\",\"Plastic\",\"Plastic\",\"Plastic\",\"Plastic\",\"Plastic\",\"Plastic\",\"Plastic\",\"Plastic\",\"Plastic\",\"Plastic\",\"Plastic\",\"Plastic\",\"Plastic\",\"Plastic\",\"Plastic\",\"Plastic\",\"Plastic\",\"Plastic\",\"Plastic\",\"Plastic\",\"Plastic\",\"Plastic\",\"Plastic\",\"Plastic\",\"Plastic\",\"Plastic\",\"Plastic\",\"Plastic\",\"Plastic\",\"Plastic\",\"Plastic\",\"Plastic\",\"Plastic\",\"Plastic\",\"Plastic\",\"Plastic\",\"Plastic\",\"Plastic\",\"Plastic\",\"Plastic\",\"Plastic\",\"Plastic\",\"Plastic\",\"Plastic\",\"Plastic\",\"Plastic\",\"Plastic\",\"Plastic\",\"Plastic\",\"Plastic\",\"Plastic\",\"Plastic\",\"Plastic\",\"Plastic\",\"Plastic\",\"Plastic\",\"Plastic\",\"Plastic\",\"Glass\",\"Glass\",\"Glass\",\"Glass\",\"Glass\",\"Glass\",\"Metal\",\"Metal\",\"Metal\",\"Metal\",\"Metal\",\"Metal\",\"Metal\",\"Metal\",\"Metal\",\"Metal\",\"Organic\",\"Organic\",\"Organic\",\"Organic\",\"Organic\",\"Organic\",\"Organic\",\"Organic\",\"Organic\",\"Organic\",\"Organic\",\"Organic\",\"E-Waste\",\"E-Waste\",\"E-Waste\",\"E-Waste\",\"E-Waste\",\"C&D\",\"C&D\",\"C&D\",\"Special Waste\",\"Special Waste\",\"Special Waste\",\"Special Waste\",\"Special Waste\",\"Special Waste\",\"Special Waste\",\"Special Waste\",\"Special Waste\",\"Special Waste\",\"Special Waste\",\"Special Waste\",\"Special Waste\",\"Miscellaneous Inorganics\",\"Paper\",\"Paper\",\"Paper\",\"Paper\",\"Paper\",\"Paper\",\"Paper\",\"Paper\",\"Paper\",\"Paper\",\"Paper\",\"Paper\",\"Paper\",\"Paper\",\"Paper\",\"Paper\",\"Plastic\",\"Plastic\",\"Plastic\",\"Plastic\",\"Plastic\",\"Plastic\",\"Plastic\",\"Plastic\",\"Plastic\",\"Plastic\",\"Plastic\",\"Plastic\",\"Plastic\",\"Plastic\",\"Plastic\",\"Plastic\",\"Plastic\",\"Plastic\",\"Plastic\",\"Plastic\",\"Plastic\",\"Plastic\",\"Plastic\",\"Plastic\",\"Plastic\",\"Plastic\",\"Plastic\",\"Plastic\",\"Plastic\",\"Plastic\",\"Plastic\",\"Plastic\",\"Plastic\",\"Plastic\",\"Plastic\",\"Plastic\",\"Plastic\",\"Plastic\",\"Plastic\",\"Plastic\",\"Plastic\",\"Plastic\",\"Plastic\",\"Plastic\",\"Plastic\",\"Plastic\",\"Plastic\",\"Plastic\",\"Plastic\",\"Plastic\",\"Plastic\",\"Plastic\",\"Plastic\",\"Plastic\",\"Plastic\",\"Plastic\",\"Plastic\",\"Plastic\",\"Plastic\",\"Plastic\",\"Plastic\",\"Plastic\",\"Plastic\",\"Plastic\",\"Plastic\",\"Plastic\",\"Plastic\",\"Plastic\",\"Plastic\",\"Plastic\",\"Plastic\",\"Plastic\",\"Plastic\",\"Plastic\",\"Plastic\",\"Plastic\",\"Plastic\",\"Plastic\",\"Plastic\",\"Plastic\",\"Plastic\",\"Plastic\",\"Plastic\",\"Plastic\",\"Plastic\",\"Plastic\",\"Plastic\",\"Plastic\",\"Plastic\",\"Plastic\",\"Plastic\",\"Plastic\",\"Plastic\",\"Plastic\",\"Plastic\",\"Plastic\",\"Plastic\",\"Plastic\",\"Plastic\",\"Plastic\",\"Plastic\",\"Plastic\",\"Plastic\",\"Plastic\",\"Plastic\",\"Plastic\",\"Plastic\",\"Plastic\",\"Plastic\",\"Plastic\",\"Plastic\",\"Plastic\",\"Plastic\",\"Plastic\",\"Plastic\",\"Plastic\",\"Plastic\",\"Plastic\",\"Plastic\",\"Plastic\",\"Plastic\",\"Plastic\",\"Plastic\",\"Plastic\",\"Plastic\",\"Plastic\",\"Plastic\",\"Plastic\",\"Plastic\",\"Plastic\",\"Plastic\",\"Plastic\",\"Plastic\",\"Plastic\",\"Plastic\",\"Plastic\",\"Plastic\",\"Plastic\",\"Plastic\",\"Plastic\",\"Plastic\",\"Plastic\",\"Plastic\",\"Plastic\",\"Plastic\",\"Plastic\",\"Plastic\",\"Plastic\",\"Plastic\",\"Plastic\",\"Plastic\",\"Plastic\",\"Plastic\",\"Plastic\",\"Plastic\",\"Plastic\",\"Plastic\",\"Plastic\",\"Plastic\",\"Plastic\",\"Plastic\",\"Plastic\",\"Plastic\",\"Glass\",\"Glass\",\"Glass\",\"Glass\",\"Glass\",\"Glass\",\"Metal\",\"Metal\",\"Metal\",\"Metal\",\"Metal\",\"Metal\",\"Metal\",\"Metal\",\"Metal\",\"Metal\",\"Organic\",\"Organic\",\"Organic\",\"Organic\",\"Organic\",\"Organic\",\"Organic\",\"Organic\",\"Organic\",\"Organic\",\"Organic\",\"Organic\",\"E-Waste\",\"E-Waste\",\"E-Waste\",\"E-Waste\",\"E-Waste\",\"C&D\",\"C&D\",\"C&D\",\"Special Waste\",\"Special Waste\",\"Special Waste\",\"Special Waste\",\"Special Waste\",\"Special Waste\",\"Special Waste\",\"Special Waste\",\"Special Waste\",\"Special Waste\",\"Special Waste\",\"Special Waste\",\"Special Waste\",\"Miscellaneous Inorganics\",\"Paper\",\"Paper\",\"Paper\",\"Paper\",\"Paper\",\"Paper\",\"Paper\",\"Paper\",\"Paper\",\"Paper\",\"Paper\",\"Paper\",\"Paper\",\"Paper\",\"Paper\",\"Paper\",\"Plastic\",\"Plastic\",\"Plastic\",\"Plastic\",\"Plastic\",\"Plastic\",\"Plastic\",\"Plastic\",\"Plastic\",\"Plastic\",\"Plastic\",\"Plastic\",\"Plastic\",\"Plastic\",\"Plastic\",\"Plastic\",\"Plastic\",\"Plastic\",\"Plastic\",\"Plastic\",\"Plastic\",\"Plastic\",\"Plastic\",\"Plastic\",\"Plastic\",\"Plastic\",\"Plastic\",\"Plastic\",\"Plastic\",\"Plastic\",\"Plastic\",\"Plastic\",\"Plastic\",\"Plastic\",\"Plastic\",\"Plastic\",\"Plastic\",\"Plastic\",\"Plastic\",\"Plastic\",\"Plastic\",\"Plastic\",\"Plastic\",\"Plastic\",\"Plastic\",\"Plastic\",\"Plastic\",\"Plastic\",\"Plastic\",\"Plastic\",\"Plastic\",\"Plastic\",\"Plastic\",\"Plastic\",\"Plastic\",\"Plastic\",\"Plastic\",\"Plastic\",\"Plastic\",\"Plastic\",\"Plastic\",\"Plastic\",\"Plastic\",\"Plastic\",\"Plastic\",\"Plastic\",\"Plastic\",\"Plastic\",\"Plastic\",\"Plastic\",\"Plastic\",\"Plastic\",\"Plastic\",\"Plastic\",\"Plastic\",\"Plastic\",\"Plastic\",\"Plastic\",\"Plastic\",\"Plastic\",\"Plastic\",\"Plastic\",\"Plastic\",\"Plastic\",\"Plastic\",\"Plastic\",\"Plastic\",\"Plastic\",\"Plastic\",\"Plastic\",\"Plastic\",\"Plastic\",\"Plastic\",\"Plastic\",\"Plastic\",\"Plastic\",\"Plastic\",\"Plastic\",\"Plastic\",\"Plastic\",\"Plastic\",\"Plastic\",\"Plastic\",\"Plastic\",\"Plastic\",\"Plastic\",\"Plastic\",\"Plastic\",\"Plastic\",\"Plastic\",\"Plastic\",\"Plastic\",\"Plastic\",\"Plastic\",\"Plastic\",\"Plastic\",\"Plastic\",\"Plastic\",\"Plastic\",\"Plastic\",\"Plastic\",\"Plastic\",\"Plastic\",\"Plastic\",\"Plastic\",\"Plastic\",\"Plastic\",\"Plastic\",\"Plastic\",\"Plastic\",\"Plastic\",\"Plastic\",\"Plastic\",\"Plastic\",\"Plastic\",\"Plastic\",\"Plastic\",\"Plastic\",\"Plastic\",\"Plastic\",\"Plastic\",\"Plastic\",\"Plastic\",\"Plastic\",\"Plastic\",\"Plastic\",\"Plastic\",\"Plastic\",\"Plastic\",\"Plastic\",\"Plastic\",\"Plastic\",\"Plastic\",\"Plastic\",\"Plastic\",\"Plastic\",\"Plastic\",\"Plastic\",\"Plastic\",\"Plastic\",\"Plastic\",\"Plastic\",\"Plastic\",\"Glass\",\"Glass\",\"Glass\",\"Glass\",\"Glass\",\"Glass\",\"Metal\",\"Metal\",\"Metal\",\"Metal\",\"Metal\",\"Metal\",\"Metal\",\"Metal\",\"Metal\",\"Metal\",\"Organic\",\"Organic\",\"Organic\",\"Organic\",\"Organic\",\"Organic\",\"Organic\",\"Organic\",\"Organic\",\"Organic\",\"Organic\",\"Organic\",\"E-Waste\",\"E-Waste\",\"E-Waste\",\"E-Waste\",\"E-Waste\",\"C&D\",\"C&D\",\"C&D\",\"Special Waste\",\"Special Waste\",\"Special Waste\",\"Special Waste\",\"Special Waste\",\"Special Waste\",\"Special Waste\",\"Special Waste\",\"Special Waste\",\"Special Waste\",\"Special Waste\",\"Special Waste\",\"Special Waste\",\"Miscellaneous Inorganics\",\"Paper\",\"Paper\",\"Paper\",\"Paper\",\"Paper\",\"Paper\",\"Paper\",\"Paper\",\"Paper\",\"Paper\",\"Paper\",\"Paper\",\"Paper\",\"Paper\",\"Paper\",\"Paper\",\"Plastic\",\"Plastic\",\"Plastic\",\"Plastic\",\"Plastic\",\"Plastic\",\"Plastic\",\"Plastic\",\"Plastic\",\"Plastic\",\"Plastic\",\"Plastic\",\"Plastic\",\"Plastic\",\"Plastic\",\"Plastic\",\"Plastic\",\"Plastic\",\"Plastic\",\"Plastic\",\"Plastic\",\"Plastic\",\"Plastic\",\"Plastic\",\"Plastic\",\"Plastic\",\"Plastic\",\"Plastic\",\"Plastic\",\"Plastic\",\"Plastic\",\"Plastic\",\"Plastic\",\"Plastic\",\"Plastic\",\"Plastic\",\"Plastic\",\"Plastic\",\"Plastic\",\"Plastic\",\"Plastic\",\"Plastic\",\"Plastic\",\"Plastic\",\"Plastic\",\"Plastic\",\"Plastic\",\"Plastic\",\"Plastic\",\"Plastic\",\"Plastic\",\"Plastic\",\"Plastic\",\"Plastic\",\"Plastic\",\"Plastic\",\"Plastic\",\"Plastic\",\"Plastic\",\"Plastic\",\"Plastic\",\"Plastic\",\"Plastic\",\"Plastic\",\"Plastic\",\"Plastic\",\"Plastic\",\"Plastic\",\"Plastic\",\"Plastic\",\"Plastic\",\"Plastic\",\"Plastic\",\"Plastic\",\"Plastic\",\"Plastic\",\"Plastic\",\"Plastic\",\"Plastic\",\"Plastic\",\"Plastic\",\"Plastic\",\"Plastic\",\"Plastic\",\"Plastic\",\"Plastic\",\"Plastic\",\"Plastic\",\"Plastic\",\"Plastic\",\"Plastic\",\"Plastic\",\"Plastic\",\"Plastic\",\"Plastic\",\"Plastic\",\"Plastic\",\"Plastic\",\"Plastic\",\"Plastic\",\"Plastic\",\"Plastic\",\"Plastic\",\"Plastic\",\"Plastic\",\"Plastic\",\"Plastic\",\"Plastic\",\"Plastic\",\"Plastic\",\"Plastic\",\"Plastic\",\"Plastic\",\"Plastic\",\"Plastic\",\"Plastic\",\"Plastic\",\"Plastic\",\"Plastic\",\"Plastic\",\"Plastic\",\"Plastic\",\"Plastic\",\"Plastic\",\"Plastic\",\"Plastic\",\"Plastic\",\"Plastic\",\"Plastic\",\"Plastic\",\"Plastic\",\"Plastic\",\"Plastic\",\"Plastic\",\"Plastic\",\"Plastic\",\"Plastic\",\"Plastic\",\"Plastic\",\"Plastic\",\"Plastic\",\"Plastic\",\"Plastic\",\"Plastic\",\"Plastic\",\"Plastic\",\"Plastic\",\"Plastic\",\"Plastic\",\"Plastic\",\"Plastic\",\"Plastic\",\"Plastic\",\"Plastic\",\"Plastic\",\"Plastic\",\"Plastic\",\"Plastic\",\"Plastic\",\"Plastic\",\"Plastic\",\"Plastic\",\"Plastic\",\"Glass\",\"Glass\",\"Glass\",\"Glass\",\"Glass\",\"Glass\",\"Metal\",\"Metal\",\"Metal\",\"Metal\",\"Metal\",\"Metal\",\"Metal\",\"Metal\",\"Metal\",\"Metal\",\"Organic\",\"Organic\",\"Organic\",\"Organic\",\"Organic\",\"Organic\",\"Organic\",\"Organic\",\"Organic\",\"Organic\",\"Organic\",\"Organic\",\"E-Waste\",\"E-Waste\",\"E-Waste\",\"E-Waste\",\"E-Waste\",\"C&D\",\"C&D\",\"C&D\",\"Special Waste\",\"Special Waste\",\"Special Waste\",\"Special Waste\",\"Special Waste\",\"Special Waste\",\"Special Waste\",\"Special Waste\",\"Special Waste\",\"Special Waste\",\"Special Waste\",\"Special Waste\",\"Special Waste\",\"Miscellaneous Inorganics\",\"Paper\",\"Paper\",\"Paper\",\"Paper\",\"Paper\",\"Paper\",\"Paper\",\"Paper\",\"Paper\",\"Paper\",\"Paper\",\"Paper\",\"Paper\",\"Paper\",\"Paper\",\"Paper\",\"Plastic\",\"Plastic\",\"Plastic\",\"Plastic\",\"Plastic\",\"Plastic\",\"Plastic\",\"Plastic\",\"Plastic\",\"Plastic\",\"Plastic\",\"Plastic\",\"Plastic\",\"Plastic\",\"Plastic\",\"Plastic\",\"Plastic\",\"Plastic\",\"Plastic\",\"Plastic\",\"Plastic\",\"Plastic\",\"Plastic\",\"Plastic\",\"Plastic\",\"Plastic\",\"Plastic\",\"Plastic\",\"Plastic\",\"Plastic\",\"Plastic\",\"Plastic\",\"Plastic\",\"Plastic\",\"Plastic\",\"Plastic\",\"Plastic\",\"Plastic\",\"Plastic\",\"Plastic\",\"Plastic\",\"Plastic\",\"Plastic\",\"Plastic\",\"Plastic\",\"Plastic\",\"Plastic\",\"Plastic\",\"Plastic\",\"Plastic\",\"Plastic\",\"Plastic\",\"Plastic\",\"Plastic\",\"Plastic\",\"Plastic\",\"Plastic\",\"Plastic\",\"Plastic\",\"Plastic\",\"Plastic\",\"Plastic\",\"Plastic\",\"Plastic\",\"Plastic\",\"Plastic\",\"Plastic\",\"Plastic\",\"Plastic\",\"Plastic\",\"Plastic\",\"Plastic\",\"Plastic\",\"Plastic\",\"Plastic\",\"Plastic\",\"Plastic\",\"Plastic\",\"Plastic\",\"Plastic\",\"Plastic\",\"Plastic\",\"Plastic\",\"Plastic\",\"Plastic\",\"Plastic\",\"Plastic\",\"Plastic\",\"Plastic\",\"Plastic\",\"Plastic\",\"Plastic\",\"Plastic\",\"Plastic\",\"Plastic\",\"Plastic\",\"Plastic\",\"Plastic\",\"Plastic\",\"Plastic\",\"Plastic\",\"Plastic\",\"Plastic\",\"Plastic\",\"Plastic\",\"Plastic\",\"Plastic\",\"Plastic\",\"Plastic\",\"Plastic\",\"Plastic\",\"Plastic\",\"Plastic\",\"Plastic\",\"Plastic\",\"Plastic\",\"Plastic\",\"Plastic\",\"Plastic\",\"Plastic\",\"Plastic\",\"Plastic\",\"Plastic\",\"Plastic\",\"Plastic\",\"Plastic\",\"Plastic\",\"Plastic\",\"Plastic\",\"Plastic\",\"Plastic\",\"Plastic\",\"Plastic\",\"Plastic\",\"Plastic\",\"Plastic\",\"Plastic\",\"Plastic\",\"Plastic\",\"Plastic\",\"Plastic\",\"Plastic\",\"Plastic\",\"Plastic\",\"Plastic\",\"Plastic\",\"Plastic\",\"Plastic\",\"Plastic\",\"Plastic\",\"Plastic\",\"Plastic\",\"Plastic\",\"Plastic\",\"Plastic\",\"Plastic\",\"Plastic\",\"Plastic\",\"Plastic\",\"Plastic\",\"Plastic\",\"Plastic\",\"Plastic\",\"Glass\",\"Glass\",\"Glass\",\"Glass\",\"Glass\",\"Glass\",\"Metal\",\"Metal\",\"Metal\",\"Metal\",\"Metal\",\"Metal\",\"Metal\",\"Metal\",\"Metal\",\"Metal\",\"Organic\",\"Organic\",\"Organic\",\"Organic\",\"Organic\",\"Organic\",\"Organic\",\"Organic\",\"Organic\",\"Organic\",\"Organic\",\"Organic\",\"E-Waste\",\"E-Waste\",\"E-Waste\",\"E-Waste\",\"E-Waste\",\"C&D\",\"C&D\",\"C&D\",\"Special Waste\",\"Special Waste\",\"Special Waste\",\"Special Waste\",\"Special Waste\",\"Special Waste\",\"Special Waste\",\"Special Waste\",\"Special Waste\",\"Special Waste\",\"Special Waste\",\"Special Waste\",\"Special Waste\",\"Miscellaneous Inorganics\",\"Paper\",\"Paper\",\"Paper\",\"Paper\",\"Paper\",\"Paper\",\"Paper\",\"Paper\",\"Paper\",\"Paper\",\"Paper\",\"Paper\",\"Paper\",\"Paper\",\"Paper\",\"Paper\",\"Plastic\",\"Plastic\",\"Plastic\",\"Plastic\",\"Plastic\",\"Plastic\",\"Plastic\",\"Plastic\",\"Plastic\",\"Plastic\",\"Plastic\",\"Plastic\",\"Plastic\",\"Plastic\",\"Plastic\",\"Plastic\",\"Plastic\",\"Plastic\",\"Plastic\",\"Plastic\",\"Plastic\",\"Plastic\",\"Plastic\",\"Plastic\",\"Plastic\",\"Plastic\",\"Plastic\",\"Plastic\",\"Plastic\",\"Plastic\",\"Plastic\",\"Plastic\",\"Plastic\",\"Plastic\",\"Plastic\",\"Plastic\",\"Plastic\",\"Plastic\",\"Plastic\",\"Plastic\",\"Plastic\",\"Plastic\",\"Plastic\",\"Plastic\",\"Plastic\",\"Plastic\",\"Plastic\",\"Plastic\",\"Plastic\",\"Plastic\",\"Plastic\",\"Plastic\",\"Plastic\",\"Plastic\",\"Plastic\",\"Plastic\",\"Plastic\",\"Plastic\",\"Plastic\",\"Plastic\",\"Plastic\",\"Plastic\",\"Plastic\",\"Plastic\",\"Plastic\",\"Plastic\",\"Plastic\",\"Plastic\",\"Plastic\",\"Plastic\",\"Plastic\",\"Plastic\",\"Plastic\",\"Plastic\",\"Plastic\",\"Plastic\",\"Plastic\",\"Plastic\",\"Plastic\",\"Plastic\",\"Plastic\",\"Plastic\",\"Plastic\",\"Plastic\",\"Plastic\",\"Plastic\",\"Plastic\",\"Plastic\",\"Plastic\",\"Plastic\",\"Plastic\",\"Plastic\",\"Plastic\",\"Plastic\",\"Plastic\",\"Plastic\",\"Plastic\",\"Plastic\",\"Plastic\",\"Plastic\",\"Plastic\",\"Plastic\",\"Plastic\",\"Plastic\",\"Plastic\",\"Plastic\",\"Plastic\",\"Plastic\",\"Plastic\",\"Plastic\",\"Plastic\",\"Plastic\",\"Plastic\",\"Plastic\",\"Plastic\",\"Plastic\",\"Plastic\",\"Plastic\",\"Plastic\",\"Plastic\",\"Plastic\",\"Plastic\",\"Plastic\",\"Plastic\",\"Plastic\",\"Plastic\",\"Plastic\",\"Plastic\",\"Plastic\",\"Plastic\",\"Plastic\",\"Plastic\",\"Plastic\",\"Plastic\",\"Plastic\",\"Plastic\",\"Plastic\",\"Plastic\",\"Plastic\",\"Plastic\",\"Plastic\",\"Plastic\",\"Plastic\",\"Plastic\",\"Plastic\",\"Plastic\",\"Plastic\",\"Plastic\",\"Plastic\",\"Plastic\",\"Plastic\",\"Plastic\",\"Plastic\",\"Plastic\",\"Plastic\",\"Plastic\",\"Plastic\",\"Plastic\",\"Plastic\",\"Plastic\",\"Plastic\",\"Plastic\",\"Plastic\",\"Glass\",\"Glass\",\"Glass\",\"Glass\",\"Glass\",\"Glass\",\"Metal\",\"Metal\",\"Metal\",\"Metal\",\"Metal\",\"Metal\",\"Metal\",\"Metal\",\"Metal\",\"Metal\",\"Organic\",\"Organic\",\"Organic\",\"Organic\",\"Organic\",\"Organic\",\"Organic\",\"Organic\",\"Organic\",\"Organic\",\"Organic\",\"Organic\",\"E-Waste\",\"E-Waste\",\"E-Waste\",\"E-Waste\",\"E-Waste\",\"C&D\",\"C&D\",\"C&D\",\"Special Waste\",\"Special Waste\",\"Special Waste\",\"Special Waste\",\"Special Waste\",\"Special Waste\",\"Special Waste\",\"Special Waste\",\"Special Waste\",\"Special Waste\",\"Special Waste\",\"Special Waste\",\"Special Waste\",\"Miscellaneous Inorganics\"],\"xaxis\":\"x\",\"yaxis\":\"y\",\"type\":\"histogram\"}],                        {\"template\":{\"data\":{\"histogram2dcontour\":[{\"type\":\"histogram2dcontour\",\"colorbar\":{\"outlinewidth\":0,\"ticks\":\"\"},\"colorscale\":[[0.0,\"#0d0887\"],[0.1111111111111111,\"#46039f\"],[0.2222222222222222,\"#7201a8\"],[0.3333333333333333,\"#9c179e\"],[0.4444444444444444,\"#bd3786\"],[0.5555555555555556,\"#d8576b\"],[0.6666666666666666,\"#ed7953\"],[0.7777777777777778,\"#fb9f3a\"],[0.8888888888888888,\"#fdca26\"],[1.0,\"#f0f921\"]]}],\"choropleth\":[{\"type\":\"choropleth\",\"colorbar\":{\"outlinewidth\":0,\"ticks\":\"\"}}],\"histogram2d\":[{\"type\":\"histogram2d\",\"colorbar\":{\"outlinewidth\":0,\"ticks\":\"\"},\"colorscale\":[[0.0,\"#0d0887\"],[0.1111111111111111,\"#46039f\"],[0.2222222222222222,\"#7201a8\"],[0.3333333333333333,\"#9c179e\"],[0.4444444444444444,\"#bd3786\"],[0.5555555555555556,\"#d8576b\"],[0.6666666666666666,\"#ed7953\"],[0.7777777777777778,\"#fb9f3a\"],[0.8888888888888888,\"#fdca26\"],[1.0,\"#f0f921\"]]}],\"heatmap\":[{\"type\":\"heatmap\",\"colorbar\":{\"outlinewidth\":0,\"ticks\":\"\"},\"colorscale\":[[0.0,\"#0d0887\"],[0.1111111111111111,\"#46039f\"],[0.2222222222222222,\"#7201a8\"],[0.3333333333333333,\"#9c179e\"],[0.4444444444444444,\"#bd3786\"],[0.5555555555555556,\"#d8576b\"],[0.6666666666666666,\"#ed7953\"],[0.7777777777777778,\"#fb9f3a\"],[0.8888888888888888,\"#fdca26\"],[1.0,\"#f0f921\"]]}],\"heatmapgl\":[{\"type\":\"heatmapgl\",\"colorbar\":{\"outlinewidth\":0,\"ticks\":\"\"},\"colorscale\":[[0.0,\"#0d0887\"],[0.1111111111111111,\"#46039f\"],[0.2222222222222222,\"#7201a8\"],[0.3333333333333333,\"#9c179e\"],[0.4444444444444444,\"#bd3786\"],[0.5555555555555556,\"#d8576b\"],[0.6666666666666666,\"#ed7953\"],[0.7777777777777778,\"#fb9f3a\"],[0.8888888888888888,\"#fdca26\"],[1.0,\"#f0f921\"]]}],\"contourcarpet\":[{\"type\":\"contourcarpet\",\"colorbar\":{\"outlinewidth\":0,\"ticks\":\"\"}}],\"contour\":[{\"type\":\"contour\",\"colorbar\":{\"outlinewidth\":0,\"ticks\":\"\"},\"colorscale\":[[0.0,\"#0d0887\"],[0.1111111111111111,\"#46039f\"],[0.2222222222222222,\"#7201a8\"],[0.3333333333333333,\"#9c179e\"],[0.4444444444444444,\"#bd3786\"],[0.5555555555555556,\"#d8576b\"],[0.6666666666666666,\"#ed7953\"],[0.7777777777777778,\"#fb9f3a\"],[0.8888888888888888,\"#fdca26\"],[1.0,\"#f0f921\"]]}],\"surface\":[{\"type\":\"surface\",\"colorbar\":{\"outlinewidth\":0,\"ticks\":\"\"},\"colorscale\":[[0.0,\"#0d0887\"],[0.1111111111111111,\"#46039f\"],[0.2222222222222222,\"#7201a8\"],[0.3333333333333333,\"#9c179e\"],[0.4444444444444444,\"#bd3786\"],[0.5555555555555556,\"#d8576b\"],[0.6666666666666666,\"#ed7953\"],[0.7777777777777778,\"#fb9f3a\"],[0.8888888888888888,\"#fdca26\"],[1.0,\"#f0f921\"]]}],\"mesh3d\":[{\"type\":\"mesh3d\",\"colorbar\":{\"outlinewidth\":0,\"ticks\":\"\"}}],\"scatter\":[{\"fillpattern\":{\"fillmode\":\"overlay\",\"size\":10,\"solidity\":0.2},\"type\":\"scatter\"}],\"parcoords\":[{\"type\":\"parcoords\",\"line\":{\"colorbar\":{\"outlinewidth\":0,\"ticks\":\"\"}}}],\"scatterpolargl\":[{\"type\":\"scatterpolargl\",\"marker\":{\"colorbar\":{\"outlinewidth\":0,\"ticks\":\"\"}}}],\"bar\":[{\"error_x\":{\"color\":\"#2a3f5f\"},\"error_y\":{\"color\":\"#2a3f5f\"},\"marker\":{\"line\":{\"color\":\"#E5ECF6\",\"width\":0.5},\"pattern\":{\"fillmode\":\"overlay\",\"size\":10,\"solidity\":0.2}},\"type\":\"bar\"}],\"scattergeo\":[{\"type\":\"scattergeo\",\"marker\":{\"colorbar\":{\"outlinewidth\":0,\"ticks\":\"\"}}}],\"scatterpolar\":[{\"type\":\"scatterpolar\",\"marker\":{\"colorbar\":{\"outlinewidth\":0,\"ticks\":\"\"}}}],\"histogram\":[{\"marker\":{\"pattern\":{\"fillmode\":\"overlay\",\"size\":10,\"solidity\":0.2}},\"type\":\"histogram\"}],\"scattergl\":[{\"type\":\"scattergl\",\"marker\":{\"colorbar\":{\"outlinewidth\":0,\"ticks\":\"\"}}}],\"scatter3d\":[{\"type\":\"scatter3d\",\"line\":{\"colorbar\":{\"outlinewidth\":0,\"ticks\":\"\"}},\"marker\":{\"colorbar\":{\"outlinewidth\":0,\"ticks\":\"\"}}}],\"scattermapbox\":[{\"type\":\"scattermapbox\",\"marker\":{\"colorbar\":{\"outlinewidth\":0,\"ticks\":\"\"}}}],\"scatterternary\":[{\"type\":\"scatterternary\",\"marker\":{\"colorbar\":{\"outlinewidth\":0,\"ticks\":\"\"}}}],\"scattercarpet\":[{\"type\":\"scattercarpet\",\"marker\":{\"colorbar\":{\"outlinewidth\":0,\"ticks\":\"\"}}}],\"carpet\":[{\"aaxis\":{\"endlinecolor\":\"#2a3f5f\",\"gridcolor\":\"white\",\"linecolor\":\"white\",\"minorgridcolor\":\"white\",\"startlinecolor\":\"#2a3f5f\"},\"baxis\":{\"endlinecolor\":\"#2a3f5f\",\"gridcolor\":\"white\",\"linecolor\":\"white\",\"minorgridcolor\":\"white\",\"startlinecolor\":\"#2a3f5f\"},\"type\":\"carpet\"}],\"table\":[{\"cells\":{\"fill\":{\"color\":\"#EBF0F8\"},\"line\":{\"color\":\"white\"}},\"header\":{\"fill\":{\"color\":\"#C8D4E3\"},\"line\":{\"color\":\"white\"}},\"type\":\"table\"}],\"barpolar\":[{\"marker\":{\"line\":{\"color\":\"#E5ECF6\",\"width\":0.5},\"pattern\":{\"fillmode\":\"overlay\",\"size\":10,\"solidity\":0.2}},\"type\":\"barpolar\"}],\"pie\":[{\"automargin\":true,\"type\":\"pie\"}]},\"layout\":{\"autotypenumbers\":\"strict\",\"colorway\":[\"#636efa\",\"#EF553B\",\"#00cc96\",\"#ab63fa\",\"#FFA15A\",\"#19d3f3\",\"#FF6692\",\"#B6E880\",\"#FF97FF\",\"#FECB52\"],\"font\":{\"color\":\"#2a3f5f\"},\"hovermode\":\"closest\",\"hoverlabel\":{\"align\":\"left\"},\"paper_bgcolor\":\"white\",\"plot_bgcolor\":\"#E5ECF6\",\"polar\":{\"bgcolor\":\"#E5ECF6\",\"angularaxis\":{\"gridcolor\":\"white\",\"linecolor\":\"white\",\"ticks\":\"\"},\"radialaxis\":{\"gridcolor\":\"white\",\"linecolor\":\"white\",\"ticks\":\"\"}},\"ternary\":{\"bgcolor\":\"#E5ECF6\",\"aaxis\":{\"gridcolor\":\"white\",\"linecolor\":\"white\",\"ticks\":\"\"},\"baxis\":{\"gridcolor\":\"white\",\"linecolor\":\"white\",\"ticks\":\"\"},\"caxis\":{\"gridcolor\":\"white\",\"linecolor\":\"white\",\"ticks\":\"\"}},\"coloraxis\":{\"colorbar\":{\"outlinewidth\":0,\"ticks\":\"\"}},\"colorscale\":{\"sequential\":[[0.0,\"#0d0887\"],[0.1111111111111111,\"#46039f\"],[0.2222222222222222,\"#7201a8\"],[0.3333333333333333,\"#9c179e\"],[0.4444444444444444,\"#bd3786\"],[0.5555555555555556,\"#d8576b\"],[0.6666666666666666,\"#ed7953\"],[0.7777777777777778,\"#fb9f3a\"],[0.8888888888888888,\"#fdca26\"],[1.0,\"#f0f921\"]],\"sequentialminus\":[[0.0,\"#0d0887\"],[0.1111111111111111,\"#46039f\"],[0.2222222222222222,\"#7201a8\"],[0.3333333333333333,\"#9c179e\"],[0.4444444444444444,\"#bd3786\"],[0.5555555555555556,\"#d8576b\"],[0.6666666666666666,\"#ed7953\"],[0.7777777777777778,\"#fb9f3a\"],[0.8888888888888888,\"#fdca26\"],[1.0,\"#f0f921\"]],\"diverging\":[[0,\"#8e0152\"],[0.1,\"#c51b7d\"],[0.2,\"#de77ae\"],[0.3,\"#f1b6da\"],[0.4,\"#fde0ef\"],[0.5,\"#f7f7f7\"],[0.6,\"#e6f5d0\"],[0.7,\"#b8e186\"],[0.8,\"#7fbc41\"],[0.9,\"#4d9221\"],[1,\"#276419\"]]},\"xaxis\":{\"gridcolor\":\"white\",\"linecolor\":\"white\",\"ticks\":\"\",\"title\":{\"standoff\":15},\"zerolinecolor\":\"white\",\"automargin\":true,\"zerolinewidth\":2},\"yaxis\":{\"gridcolor\":\"white\",\"linecolor\":\"white\",\"ticks\":\"\",\"title\":{\"standoff\":15},\"zerolinecolor\":\"white\",\"automargin\":true,\"zerolinewidth\":2},\"scene\":{\"xaxis\":{\"backgroundcolor\":\"#E5ECF6\",\"gridcolor\":\"white\",\"linecolor\":\"white\",\"showbackground\":true,\"ticks\":\"\",\"zerolinecolor\":\"white\",\"gridwidth\":2},\"yaxis\":{\"backgroundcolor\":\"#E5ECF6\",\"gridcolor\":\"white\",\"linecolor\":\"white\",\"showbackground\":true,\"ticks\":\"\",\"zerolinecolor\":\"white\",\"gridwidth\":2},\"zaxis\":{\"backgroundcolor\":\"#E5ECF6\",\"gridcolor\":\"white\",\"linecolor\":\"white\",\"showbackground\":true,\"ticks\":\"\",\"zerolinecolor\":\"white\",\"gridwidth\":2}},\"shapedefaults\":{\"line\":{\"color\":\"#2a3f5f\"}},\"annotationdefaults\":{\"arrowcolor\":\"#2a3f5f\",\"arrowhead\":0,\"arrowwidth\":1},\"geo\":{\"bgcolor\":\"white\",\"landcolor\":\"#E5ECF6\",\"subunitcolor\":\"white\",\"showland\":true,\"showlakes\":true,\"lakecolor\":\"white\"},\"title\":{\"x\":0.05},\"mapbox\":{\"style\":\"light\"}}},\"xaxis\":{\"anchor\":\"y\",\"domain\":[0.0,1.0],\"title\":{\"text\":\"Material Group\"}},\"yaxis\":{\"anchor\":\"x\",\"domain\":[0.0,1.0],\"title\":{\"text\":\"count\"}},\"legend\":{\"tracegroupgap\":0},\"title\":{\"text\":\"Material Categorization\"},\"barmode\":\"relative\"},                        {\"responsive\": true}                    ).then(function(){\n",
       "                            \n",
       "var gd = document.getElementById('c8cda8a2-5671-4dab-a067-06a76da41b2b');\n",
       "var x = new MutationObserver(function (mutations, observer) {{\n",
       "        var display = window.getComputedStyle(gd).display;\n",
       "        if (!display || display === 'none') {{\n",
       "            console.log([gd, 'removed!']);\n",
       "            Plotly.purge(gd);\n",
       "            observer.disconnect();\n",
       "        }}\n",
       "}});\n",
       "\n",
       "// Listen for the removal of the full notebook cells\n",
       "var notebookContainer = gd.closest('#notebook-container');\n",
       "if (notebookContainer) {{\n",
       "    x.observe(notebookContainer, {childList: true});\n",
       "}}\n",
       "\n",
       "// Listen for the clearing of the current output cell\n",
       "var outputEl = gd.closest('.output');\n",
       "if (outputEl) {{\n",
       "    x.observe(outputEl, {childList: true});\n",
       "}}\n",
       "\n",
       "                        })                };                });            </script>        </div>"
      ]
     },
     "metadata": {},
     "output_type": "display_data"
    }
   ],
   "source": [
    "# understand general distribution and categorization of materials \n",
    "material_fig = px.histogram(data, x='Material Group', title='Material Categorization')\n",
    "material_fig.show()"
   ]
  },
  {
   "cell_type": "code",
   "execution_count": 23,
   "metadata": {},
   "outputs": [],
   "source": [
    "# apply basic regression model \n",
    "# target: material \n",
    "# numerical features: aggregate, refuse, MGP, paper, organic percentage \n",
    "\n",
    "X = data.drop('Material Group', axis = 1)\n",
    "y = data[\"Material Group\"]\n"
   ]
  },
  {
   "cell_type": "code",
   "execution_count": 24,
   "metadata": {},
   "outputs": [],
   "source": [
    "X_train, X_test, y_train, y_test = train_test_split(X, y, test_size=0.3, random_state=22)\n",
    "\n",
    "# num_data = data.iloc[:, 1:7]\n",
    "# num_data.head()"
   ]
  },
  {
   "cell_type": "code",
   "execution_count": 25,
   "metadata": {},
   "outputs": [],
   "source": [
    "numerical_cols=['Aggregate Percent', 'Refuse Percent', 'MGP Percent', 'Paper Percent', 'Organic Percent']\n",
    "categorical_cols=['DSNY Diversion Summary Category', 'Location', 'Material']\n",
    "\n",
    "numerical_transformer = SimpleImputer(strategy='constant')\n",
    "categorical_transformer = Pipeline(steps=[('imputer', SimpleImputer(strategy='most_frequent')), ('onehot', OneHotEncoder(handle_unknown='ignore'))])\n",
    "preprocessor = ColumnTransformer(transformers=[('num', numerical_transformer, numerical_cols), ('cat', categorical_transformer, categorical_cols)])\n"
   ]
  },
  {
   "cell_type": "code",
   "execution_count": 26,
   "metadata": {},
   "outputs": [
    {
     "name": "stdout",
     "output_type": "stream",
     "text": [
      "baseline for all materials:  Material Group\n",
      "Plastic                     0.711790\n",
      "Paper                       0.069869\n",
      "Special Waste               0.056769\n",
      "Organic                     0.052402\n",
      "Metal                       0.043668\n",
      "Glass                       0.026201\n",
      "E-Waste                     0.021834\n",
      "C&D                         0.013100\n",
      "Miscellaneous Inorganics    0.004367\n",
      "Name: proportion, dtype: float64\n"
     ]
    }
   ],
   "source": [
    "baseline = data['Material Group'].value_counts(normalize = True)\n",
    "print(\"baseline for all materials: \", baseline)"
   ]
  },
  {
   "cell_type": "code",
   "execution_count": 27,
   "metadata": {},
   "outputs": [],
   "source": [
    "model_comparisons_dict = {'Model':[], # 'Logistic Regression', 'KNN', 'Decision Tree', 'SVM'\n",
    "        'Train Time':[],\n",
    "        'Train Accuracy':[],\n",
    "        'Test Accuracy':[]\n",
    "       }\n",
    "model_comparisons = pd.DataFrame(model_comparisons_dict)"
   ]
  },
  {
   "cell_type": "code",
   "execution_count": 28,
   "metadata": {},
   "outputs": [
    {
     "name": "stdout",
     "output_type": "stream",
     "text": [
      "Train time for logistic regression:  0.08336210250854492\n"
     ]
    }
   ],
   "source": [
    "# Model 1: Logistic Regression attempt \n",
    "model = LogisticRegression(max_iter=10000, random_state=42)\n",
    "pipe = Pipeline([\n",
    "    ('preprocessor', preprocessor),\n",
    "    ('logreg', model)\n",
    "])\n",
    "\n",
    "log_reg_start_time = time.time()\n",
    "pipe.fit(X_train, y_train)\n",
    "log_reg_end_time = time.time()\n",
    "\n",
    "log_reg_train_time = log_reg_end_time - log_reg_start_time\n",
    "print(\"Train time for logistic regression: \", log_reg_train_time)"
   ]
  },
  {
   "cell_type": "code",
   "execution_count": 29,
   "metadata": {},
   "outputs": [
    {
     "name": "stdout",
     "output_type": "stream",
     "text": [
      "accuracy score (train):  0.9906396255850234\n",
      "accuracy score (test):  0.9545454545454546\n"
     ]
    }
   ],
   "source": [
    "preds = pipe.predict(X_test)\n",
    "# Evaluate the accuracy \n",
    "log_reg_test_accuracy = accuracy_score(y_test, preds)\n",
    "log_reg_train_accuracy = accuracy_score(y_train, pipe.predict(X_train))\n",
    "\n",
    "print(\"accuracy score (train): \", log_reg_train_accuracy)\n",
    "print(\"accuracy score (test): \", log_reg_test_accuracy)\n",
    "\n",
    "model_comparisons.loc[len(model_comparisons.index)] = ['Logistic Regression', log_reg_train_time, log_reg_train_accuracy, log_reg_test_accuracy] "
   ]
  },
  {
   "cell_type": "code",
   "execution_count": 32,
   "metadata": {},
   "outputs": [
    {
     "name": "stdout",
     "output_type": "stream",
     "text": [
      "Train time for KNN:  0.024687767028808594\n"
     ]
    }
   ],
   "source": [
    "# Model 2: KNN with n = 5 default\n",
    "\n",
    "knn_pipeline = Pipeline(steps=[\n",
    "    ('preprocessor', preprocessor),\n",
    "    ('knn', KNeighborsClassifier(n_neighbors=5))])\n",
    "\n",
    "# Fitting the pipeline and measuring time \n",
    "knn_start_time = time.time()\n",
    "knn_pipeline.fit(X_train, y_train)\n",
    "knn_end_time = time.time()\n",
    "\n",
    "# Collect metrics \n",
    "knn_train_time = knn_end_time - knn_start_time; \n",
    "print(\"Train time for KNN: \", knn_train_time)\n",
    "\n",
    "preds = pipe.predict(X_test)"
   ]
  },
  {
   "cell_type": "code",
   "execution_count": 34,
   "metadata": {},
   "outputs": [
    {
     "name": "stdout",
     "output_type": "stream",
     "text": [
      "knn accuracy score (train):  0.9906396255850234\n",
      "knn accuracy score (test):  0.9545454545454546\n"
     ]
    }
   ],
   "source": [
    "# Evaluate the accuracy \n",
    "knn_train_accuracy = accuracy_score(y_train, pipe.predict(X_train))\n",
    "knn_test_accuracy = accuracy_score(y_test, preds)\n",
    "print(\"knn accuracy score (train): \", knn_train_accuracy)\n",
    "print(\"knn accuracy score (test): \", knn_test_accuracy)\n",
    "model_comparisons.loc[len(model_comparisons.index)] = ['KNN (n = 5)', knn_train_time, knn_train_accuracy, knn_test_accuracy] "
   ]
  },
  {
   "cell_type": "code",
   "execution_count": 36,
   "metadata": {},
   "outputs": [
    {
     "name": "stdout",
     "output_type": "stream",
     "text": [
      "Decision Tree Train Time:  0.024069547653198242\n",
      "Decision Tree Train Accuracy:  0.8190327613104524\n",
      "Decision Tree Test Accuracy:  0.8036363636363636\n"
     ]
    }
   ],
   "source": [
    "# Model 3: Decision Tree with max depth = 3\n",
    "dt_pipeline = Pipeline(steps=[\n",
    "    ('preprocessor', preprocessor),\n",
    "    ('classifier', DecisionTreeClassifier(max_depth=3))\n",
    "])\n",
    "# Fitting the pipeline and measuring time \n",
    "dt_start_time = time.time()\n",
    "dt_pipeline.fit(X_train, y_train)\n",
    "dt_end_time = time.time()\n",
    "\n",
    "# Collect metrics \n",
    "dt_train_time = dt_end_time - dt_start_time; \n",
    "dt_accuracy_test = dt_pipeline.score(X_test, y_test)\n",
    "dt_accuracy_train = dt_pipeline.score(X_train, y_train)\n",
    "\n",
    "print(\"Decision Tree Train Time: \", dt_train_time)\n",
    "print(\"Decision Tree Train Accuracy: \", dt_accuracy_train)\n",
    "print(\"Decision Tree Test Accuracy: \", dt_accuracy_test)\n",
    "\n",
    "# Add results to table\n",
    "model_comparisons.loc[len(model_comparisons.index)] = ['Decision Tree (depth = 3)', dt_train_time, dt_accuracy_train,dt_accuracy_test]\n"
   ]
  },
  {
   "cell_type": "code",
   "execution_count": 37,
   "metadata": {},
   "outputs": [
    {
     "name": "stdout",
     "output_type": "stream",
     "text": [
      "SVM Train Time:  0.2765331268310547\n",
      "SVM Train Accuracy:  1.0\n",
      "SVM Test Accuracy:  1.0\n"
     ]
    }
   ],
   "source": [
    "# Model 4: SVM \n",
    "svm_pipeline = Pipeline(steps=[\n",
    "    ('preprocessor', preprocessor),\n",
    "    ('classifier', SVC(kernel='linear'))\n",
    "])\n",
    "\n",
    "# Fitting the pipeline  and measuring time \n",
    "svm_start_time = time.time()\n",
    "svm_pipeline.fit(X_train, y_train)\n",
    "svm_end_time = time.time()\n",
    "\n",
    "# Collect metrics \n",
    "svm_train_time = svm_end_time - svm_start_time; \n",
    "svm_accuracy_test = svm_pipeline.score(X_test, y_test)\n",
    "svm_accuracy_train = svm_pipeline.score(X_train, y_train)\n",
    "\n",
    "print(\"SVM Train Time: \", svm_train_time)\n",
    "print(\"SVM Train Accuracy: \", svm_accuracy_train)\n",
    "print(\"SVM Test Accuracy: \", svm_accuracy_test)\n",
    "\n",
    "# Add results to table\n",
    "model_comparisons.loc[len(model_comparisons.index)] = ['SVM (linear)', svm_train_time, svm_accuracy_train, svm_accuracy_test]\n",
    "                                                       "
   ]
  },
  {
   "cell_type": "code",
   "execution_count": 43,
   "metadata": {},
   "outputs": [
    {
     "name": "stdout",
     "output_type": "stream",
     "text": [
      "Accuracy scores for each fold: [1. 1. 1. 1. 1.]\n",
      "Mean accuracy: 1.0000\n"
     ]
    }
   ],
   "source": [
    "# SVM Model is likely overfitted as seen by accuracy = 1.0. \n",
    "# Can use cross validation to better assess this model \n",
    "\n",
    "# Create a 5 fold cross-validation object\n",
    "svm_pipeline = Pipeline(steps=[\n",
    "    ('preprocessor', preprocessor),\n",
    "    ('classifier', SVC(kernel='linear'))\n",
    "])\n",
    "\n",
    "kfold = KFold(n_splits=5, shuffle=True, random_state=42)\n",
    "accuracy_scores = cross_val_score(svm_pipeline, X, y, cv=kfold, scoring='accuracy')\n",
    "print(\"Accuracy scores for each fold:\", accuracy_scores)\n",
    "\n",
    "mean_accuracy = accuracy_scores.mean()\n",
    "std_accuracy = accuracy_scores.std()\n",
    "\n",
    "print(f\"Mean accuracy: {mean_accuracy:.4f}\")"
   ]
  },
  {
   "cell_type": "code",
   "execution_count": 53,
   "metadata": {},
   "outputs": [
    {
     "name": "stdout",
     "output_type": "stream",
     "text": [
      "Best parameters: {'svm__C': 1, 'svm__gamma': 0.1, 'svm__kernel': 'linear'}\n",
      "Best accuracy: 1.0\n"
     ]
    }
   ],
   "source": [
    "# Hmm looks like this either may be a very simplistic classification for the SVM model or a hyperparameter\n",
    "# needs to be modified. Use GridSearchCV to explore parameters \n",
    "\n",
    "# GridSearchCV for SVM pipeline \n",
    "svm_pipeline = Pipeline(steps=[\n",
    "    ('preprocessor', preprocessor),\n",
    "    ('svm', SVC(kernel='poly'))\n",
    "])\n",
    "\n",
    "param_grid = {\n",
    "    'svm__C': [0.1, 1, 10],  # SVM regularization parameter\n",
    "    'svm__kernel': ['linear', 'rbf'],  # SVM kernel types\n",
    "    'svm__gamma': [0.1, 1, 10]  # SVM kernel coefficient for RBF kernel\n",
    "}\n",
    "\n",
    "grid_search = GridSearchCV(svm_pipeline, param_grid, cv=5, scoring='accuracy')\n",
    "\n",
    "# Fit the GridSearchCV object to the data\n",
    "grid_search.fit(X, y)\n",
    "\n",
    "# Get the best parameters and best score\n",
    "print(\"Best parameters:\", grid_search.best_params_)\n",
    "print(\"Best accuracy:\", grid_search.best_score_)"
   ]
  },
  {
   "cell_type": "code",
   "execution_count": null,
   "metadata": {},
   "outputs": [],
   "source": [
    "# Looks like that did not help - it is possible to conclude that this classification problem is too simple for this \n",
    "# model type! \n",
    "\n",
    "# Let's look at all other models and plot accuracies now "
   ]
  },
  {
   "cell_type": "code",
   "execution_count": 55,
   "metadata": {},
   "outputs": [
    {
     "data": {
      "text/html": [
       "<div>\n",
       "<style scoped>\n",
       "    .dataframe tbody tr th:only-of-type {\n",
       "        vertical-align: middle;\n",
       "    }\n",
       "\n",
       "    .dataframe tbody tr th {\n",
       "        vertical-align: top;\n",
       "    }\n",
       "\n",
       "    .dataframe thead th {\n",
       "        text-align: right;\n",
       "    }\n",
       "</style>\n",
       "<table border=\"1\" class=\"dataframe\">\n",
       "  <thead>\n",
       "    <tr style=\"text-align: right;\">\n",
       "      <th></th>\n",
       "      <th>Model</th>\n",
       "      <th>Train Time</th>\n",
       "      <th>Train Accuracy</th>\n",
       "      <th>Test Accuracy</th>\n",
       "    </tr>\n",
       "  </thead>\n",
       "  <tbody>\n",
       "    <tr>\n",
       "      <th>0</th>\n",
       "      <td>Logistic Regression</td>\n",
       "      <td>0.083362</td>\n",
       "      <td>0.990640</td>\n",
       "      <td>0.954545</td>\n",
       "    </tr>\n",
       "    <tr>\n",
       "      <th>1</th>\n",
       "      <td>KNN (n = 5)</td>\n",
       "      <td>0.024688</td>\n",
       "      <td>0.990640</td>\n",
       "      <td>0.954545</td>\n",
       "    </tr>\n",
       "    <tr>\n",
       "      <th>2</th>\n",
       "      <td>Decision Tree (depth = 3)</td>\n",
       "      <td>0.024070</td>\n",
       "      <td>0.819033</td>\n",
       "      <td>0.803636</td>\n",
       "    </tr>\n",
       "    <tr>\n",
       "      <th>3</th>\n",
       "      <td>SVM (linear)</td>\n",
       "      <td>0.276533</td>\n",
       "      <td>1.000000</td>\n",
       "      <td>1.000000</td>\n",
       "    </tr>\n",
       "  </tbody>\n",
       "</table>\n",
       "</div>"
      ],
      "text/plain": [
       "                       Model  Train Time  Train Accuracy  Test Accuracy\n",
       "0        Logistic Regression    0.083362        0.990640       0.954545\n",
       "1                KNN (n = 5)    0.024688        0.990640       0.954545\n",
       "2  Decision Tree (depth = 3)    0.024070        0.819033       0.803636\n",
       "3               SVM (linear)    0.276533        1.000000       1.000000"
      ]
     },
     "execution_count": 55,
     "metadata": {},
     "output_type": "execute_result"
    }
   ],
   "source": [
    "model_comparisons.head()"
   ]
  },
  {
   "cell_type": "code",
   "execution_count": 57,
   "metadata": {},
   "outputs": [
    {
     "data": {
      "application/vnd.plotly.v1+json": {
       "config": {
        "plotlyServerURL": "https://plot.ly"
       },
       "data": [
        {
         "hovertemplate": "Model=%{x}<br>Test Accuracy=%{y}<extra></extra>",
         "legendgroup": "",
         "marker": {
          "color": "#636efa",
          "symbol": "circle"
         },
         "mode": "markers",
         "name": "",
         "orientation": "v",
         "showlegend": false,
         "type": "scatter",
         "x": [
          "Logistic Regression",
          "KNN (n = 5)",
          "Decision Tree (depth = 3)",
          "SVM (linear)"
         ],
         "xaxis": "x",
         "y": [
          0.9545454545454546,
          0.9545454545454546,
          0.8036363636363636,
          1
         ],
         "yaxis": "y"
        }
       ],
       "layout": {
        "legend": {
         "tracegroupgap": 0
        },
        "template": {
         "data": {
          "bar": [
           {
            "error_x": {
             "color": "#2a3f5f"
            },
            "error_y": {
             "color": "#2a3f5f"
            },
            "marker": {
             "line": {
              "color": "#E5ECF6",
              "width": 0.5
             },
             "pattern": {
              "fillmode": "overlay",
              "size": 10,
              "solidity": 0.2
             }
            },
            "type": "bar"
           }
          ],
          "barpolar": [
           {
            "marker": {
             "line": {
              "color": "#E5ECF6",
              "width": 0.5
             },
             "pattern": {
              "fillmode": "overlay",
              "size": 10,
              "solidity": 0.2
             }
            },
            "type": "barpolar"
           }
          ],
          "carpet": [
           {
            "aaxis": {
             "endlinecolor": "#2a3f5f",
             "gridcolor": "white",
             "linecolor": "white",
             "minorgridcolor": "white",
             "startlinecolor": "#2a3f5f"
            },
            "baxis": {
             "endlinecolor": "#2a3f5f",
             "gridcolor": "white",
             "linecolor": "white",
             "minorgridcolor": "white",
             "startlinecolor": "#2a3f5f"
            },
            "type": "carpet"
           }
          ],
          "choropleth": [
           {
            "colorbar": {
             "outlinewidth": 0,
             "ticks": ""
            },
            "type": "choropleth"
           }
          ],
          "contour": [
           {
            "colorbar": {
             "outlinewidth": 0,
             "ticks": ""
            },
            "colorscale": [
             [
              0,
              "#0d0887"
             ],
             [
              0.1111111111111111,
              "#46039f"
             ],
             [
              0.2222222222222222,
              "#7201a8"
             ],
             [
              0.3333333333333333,
              "#9c179e"
             ],
             [
              0.4444444444444444,
              "#bd3786"
             ],
             [
              0.5555555555555556,
              "#d8576b"
             ],
             [
              0.6666666666666666,
              "#ed7953"
             ],
             [
              0.7777777777777778,
              "#fb9f3a"
             ],
             [
              0.8888888888888888,
              "#fdca26"
             ],
             [
              1,
              "#f0f921"
             ]
            ],
            "type": "contour"
           }
          ],
          "contourcarpet": [
           {
            "colorbar": {
             "outlinewidth": 0,
             "ticks": ""
            },
            "type": "contourcarpet"
           }
          ],
          "heatmap": [
           {
            "colorbar": {
             "outlinewidth": 0,
             "ticks": ""
            },
            "colorscale": [
             [
              0,
              "#0d0887"
             ],
             [
              0.1111111111111111,
              "#46039f"
             ],
             [
              0.2222222222222222,
              "#7201a8"
             ],
             [
              0.3333333333333333,
              "#9c179e"
             ],
             [
              0.4444444444444444,
              "#bd3786"
             ],
             [
              0.5555555555555556,
              "#d8576b"
             ],
             [
              0.6666666666666666,
              "#ed7953"
             ],
             [
              0.7777777777777778,
              "#fb9f3a"
             ],
             [
              0.8888888888888888,
              "#fdca26"
             ],
             [
              1,
              "#f0f921"
             ]
            ],
            "type": "heatmap"
           }
          ],
          "heatmapgl": [
           {
            "colorbar": {
             "outlinewidth": 0,
             "ticks": ""
            },
            "colorscale": [
             [
              0,
              "#0d0887"
             ],
             [
              0.1111111111111111,
              "#46039f"
             ],
             [
              0.2222222222222222,
              "#7201a8"
             ],
             [
              0.3333333333333333,
              "#9c179e"
             ],
             [
              0.4444444444444444,
              "#bd3786"
             ],
             [
              0.5555555555555556,
              "#d8576b"
             ],
             [
              0.6666666666666666,
              "#ed7953"
             ],
             [
              0.7777777777777778,
              "#fb9f3a"
             ],
             [
              0.8888888888888888,
              "#fdca26"
             ],
             [
              1,
              "#f0f921"
             ]
            ],
            "type": "heatmapgl"
           }
          ],
          "histogram": [
           {
            "marker": {
             "pattern": {
              "fillmode": "overlay",
              "size": 10,
              "solidity": 0.2
             }
            },
            "type": "histogram"
           }
          ],
          "histogram2d": [
           {
            "colorbar": {
             "outlinewidth": 0,
             "ticks": ""
            },
            "colorscale": [
             [
              0,
              "#0d0887"
             ],
             [
              0.1111111111111111,
              "#46039f"
             ],
             [
              0.2222222222222222,
              "#7201a8"
             ],
             [
              0.3333333333333333,
              "#9c179e"
             ],
             [
              0.4444444444444444,
              "#bd3786"
             ],
             [
              0.5555555555555556,
              "#d8576b"
             ],
             [
              0.6666666666666666,
              "#ed7953"
             ],
             [
              0.7777777777777778,
              "#fb9f3a"
             ],
             [
              0.8888888888888888,
              "#fdca26"
             ],
             [
              1,
              "#f0f921"
             ]
            ],
            "type": "histogram2d"
           }
          ],
          "histogram2dcontour": [
           {
            "colorbar": {
             "outlinewidth": 0,
             "ticks": ""
            },
            "colorscale": [
             [
              0,
              "#0d0887"
             ],
             [
              0.1111111111111111,
              "#46039f"
             ],
             [
              0.2222222222222222,
              "#7201a8"
             ],
             [
              0.3333333333333333,
              "#9c179e"
             ],
             [
              0.4444444444444444,
              "#bd3786"
             ],
             [
              0.5555555555555556,
              "#d8576b"
             ],
             [
              0.6666666666666666,
              "#ed7953"
             ],
             [
              0.7777777777777778,
              "#fb9f3a"
             ],
             [
              0.8888888888888888,
              "#fdca26"
             ],
             [
              1,
              "#f0f921"
             ]
            ],
            "type": "histogram2dcontour"
           }
          ],
          "mesh3d": [
           {
            "colorbar": {
             "outlinewidth": 0,
             "ticks": ""
            },
            "type": "mesh3d"
           }
          ],
          "parcoords": [
           {
            "line": {
             "colorbar": {
              "outlinewidth": 0,
              "ticks": ""
             }
            },
            "type": "parcoords"
           }
          ],
          "pie": [
           {
            "automargin": true,
            "type": "pie"
           }
          ],
          "scatter": [
           {
            "fillpattern": {
             "fillmode": "overlay",
             "size": 10,
             "solidity": 0.2
            },
            "type": "scatter"
           }
          ],
          "scatter3d": [
           {
            "line": {
             "colorbar": {
              "outlinewidth": 0,
              "ticks": ""
             }
            },
            "marker": {
             "colorbar": {
              "outlinewidth": 0,
              "ticks": ""
             }
            },
            "type": "scatter3d"
           }
          ],
          "scattercarpet": [
           {
            "marker": {
             "colorbar": {
              "outlinewidth": 0,
              "ticks": ""
             }
            },
            "type": "scattercarpet"
           }
          ],
          "scattergeo": [
           {
            "marker": {
             "colorbar": {
              "outlinewidth": 0,
              "ticks": ""
             }
            },
            "type": "scattergeo"
           }
          ],
          "scattergl": [
           {
            "marker": {
             "colorbar": {
              "outlinewidth": 0,
              "ticks": ""
             }
            },
            "type": "scattergl"
           }
          ],
          "scattermapbox": [
           {
            "marker": {
             "colorbar": {
              "outlinewidth": 0,
              "ticks": ""
             }
            },
            "type": "scattermapbox"
           }
          ],
          "scatterpolar": [
           {
            "marker": {
             "colorbar": {
              "outlinewidth": 0,
              "ticks": ""
             }
            },
            "type": "scatterpolar"
           }
          ],
          "scatterpolargl": [
           {
            "marker": {
             "colorbar": {
              "outlinewidth": 0,
              "ticks": ""
             }
            },
            "type": "scatterpolargl"
           }
          ],
          "scatterternary": [
           {
            "marker": {
             "colorbar": {
              "outlinewidth": 0,
              "ticks": ""
             }
            },
            "type": "scatterternary"
           }
          ],
          "surface": [
           {
            "colorbar": {
             "outlinewidth": 0,
             "ticks": ""
            },
            "colorscale": [
             [
              0,
              "#0d0887"
             ],
             [
              0.1111111111111111,
              "#46039f"
             ],
             [
              0.2222222222222222,
              "#7201a8"
             ],
             [
              0.3333333333333333,
              "#9c179e"
             ],
             [
              0.4444444444444444,
              "#bd3786"
             ],
             [
              0.5555555555555556,
              "#d8576b"
             ],
             [
              0.6666666666666666,
              "#ed7953"
             ],
             [
              0.7777777777777778,
              "#fb9f3a"
             ],
             [
              0.8888888888888888,
              "#fdca26"
             ],
             [
              1,
              "#f0f921"
             ]
            ],
            "type": "surface"
           }
          ],
          "table": [
           {
            "cells": {
             "fill": {
              "color": "#EBF0F8"
             },
             "line": {
              "color": "white"
             }
            },
            "header": {
             "fill": {
              "color": "#C8D4E3"
             },
             "line": {
              "color": "white"
             }
            },
            "type": "table"
           }
          ]
         },
         "layout": {
          "annotationdefaults": {
           "arrowcolor": "#2a3f5f",
           "arrowhead": 0,
           "arrowwidth": 1
          },
          "autotypenumbers": "strict",
          "coloraxis": {
           "colorbar": {
            "outlinewidth": 0,
            "ticks": ""
           }
          },
          "colorscale": {
           "diverging": [
            [
             0,
             "#8e0152"
            ],
            [
             0.1,
             "#c51b7d"
            ],
            [
             0.2,
             "#de77ae"
            ],
            [
             0.3,
             "#f1b6da"
            ],
            [
             0.4,
             "#fde0ef"
            ],
            [
             0.5,
             "#f7f7f7"
            ],
            [
             0.6,
             "#e6f5d0"
            ],
            [
             0.7,
             "#b8e186"
            ],
            [
             0.8,
             "#7fbc41"
            ],
            [
             0.9,
             "#4d9221"
            ],
            [
             1,
             "#276419"
            ]
           ],
           "sequential": [
            [
             0,
             "#0d0887"
            ],
            [
             0.1111111111111111,
             "#46039f"
            ],
            [
             0.2222222222222222,
             "#7201a8"
            ],
            [
             0.3333333333333333,
             "#9c179e"
            ],
            [
             0.4444444444444444,
             "#bd3786"
            ],
            [
             0.5555555555555556,
             "#d8576b"
            ],
            [
             0.6666666666666666,
             "#ed7953"
            ],
            [
             0.7777777777777778,
             "#fb9f3a"
            ],
            [
             0.8888888888888888,
             "#fdca26"
            ],
            [
             1,
             "#f0f921"
            ]
           ],
           "sequentialminus": [
            [
             0,
             "#0d0887"
            ],
            [
             0.1111111111111111,
             "#46039f"
            ],
            [
             0.2222222222222222,
             "#7201a8"
            ],
            [
             0.3333333333333333,
             "#9c179e"
            ],
            [
             0.4444444444444444,
             "#bd3786"
            ],
            [
             0.5555555555555556,
             "#d8576b"
            ],
            [
             0.6666666666666666,
             "#ed7953"
            ],
            [
             0.7777777777777778,
             "#fb9f3a"
            ],
            [
             0.8888888888888888,
             "#fdca26"
            ],
            [
             1,
             "#f0f921"
            ]
           ]
          },
          "colorway": [
           "#636efa",
           "#EF553B",
           "#00cc96",
           "#ab63fa",
           "#FFA15A",
           "#19d3f3",
           "#FF6692",
           "#B6E880",
           "#FF97FF",
           "#FECB52"
          ],
          "font": {
           "color": "#2a3f5f"
          },
          "geo": {
           "bgcolor": "white",
           "lakecolor": "white",
           "landcolor": "#E5ECF6",
           "showlakes": true,
           "showland": true,
           "subunitcolor": "white"
          },
          "hoverlabel": {
           "align": "left"
          },
          "hovermode": "closest",
          "mapbox": {
           "style": "light"
          },
          "paper_bgcolor": "white",
          "plot_bgcolor": "#E5ECF6",
          "polar": {
           "angularaxis": {
            "gridcolor": "white",
            "linecolor": "white",
            "ticks": ""
           },
           "bgcolor": "#E5ECF6",
           "radialaxis": {
            "gridcolor": "white",
            "linecolor": "white",
            "ticks": ""
           }
          },
          "scene": {
           "xaxis": {
            "backgroundcolor": "#E5ECF6",
            "gridcolor": "white",
            "gridwidth": 2,
            "linecolor": "white",
            "showbackground": true,
            "ticks": "",
            "zerolinecolor": "white"
           },
           "yaxis": {
            "backgroundcolor": "#E5ECF6",
            "gridcolor": "white",
            "gridwidth": 2,
            "linecolor": "white",
            "showbackground": true,
            "ticks": "",
            "zerolinecolor": "white"
           },
           "zaxis": {
            "backgroundcolor": "#E5ECF6",
            "gridcolor": "white",
            "gridwidth": 2,
            "linecolor": "white",
            "showbackground": true,
            "ticks": "",
            "zerolinecolor": "white"
           }
          },
          "shapedefaults": {
           "line": {
            "color": "#2a3f5f"
           }
          },
          "ternary": {
           "aaxis": {
            "gridcolor": "white",
            "linecolor": "white",
            "ticks": ""
           },
           "baxis": {
            "gridcolor": "white",
            "linecolor": "white",
            "ticks": ""
           },
           "bgcolor": "#E5ECF6",
           "caxis": {
            "gridcolor": "white",
            "linecolor": "white",
            "ticks": ""
           }
          },
          "title": {
           "x": 0.05
          },
          "xaxis": {
           "automargin": true,
           "gridcolor": "white",
           "linecolor": "white",
           "ticks": "",
           "title": {
            "standoff": 15
           },
           "zerolinecolor": "white",
           "zerolinewidth": 2
          },
          "yaxis": {
           "automargin": true,
           "gridcolor": "white",
           "linecolor": "white",
           "ticks": "",
           "title": {
            "standoff": 15
           },
           "zerolinecolor": "white",
           "zerolinewidth": 2
          }
         }
        },
        "title": {
         "text": "Model Performance: Test Accuracy"
        },
        "xaxis": {
         "anchor": "y",
         "domain": [
          0,
          1
         ],
         "title": {
          "text": "Model"
         }
        },
        "yaxis": {
         "anchor": "x",
         "domain": [
          0,
          1
         ],
         "title": {
          "text": "Test Accuracy"
         }
        }
       }
      },
      "text/html": [
       "<div>                            <div id=\"5dd04d9a-af33-47ed-b2c6-4e0b4a6f98ec\" class=\"plotly-graph-div\" style=\"height:525px; width:100%;\"></div>            <script type=\"text/javascript\">                require([\"plotly\"], function(Plotly) {                    window.PLOTLYENV=window.PLOTLYENV || {};                                    if (document.getElementById(\"5dd04d9a-af33-47ed-b2c6-4e0b4a6f98ec\")) {                    Plotly.newPlot(                        \"5dd04d9a-af33-47ed-b2c6-4e0b4a6f98ec\",                        [{\"hovertemplate\":\"Model=%{x}<br>Test Accuracy=%{y}<extra></extra>\",\"legendgroup\":\"\",\"marker\":{\"color\":\"#636efa\",\"symbol\":\"circle\"},\"mode\":\"markers\",\"name\":\"\",\"orientation\":\"v\",\"showlegend\":false,\"x\":[\"Logistic Regression\",\"KNN (n = 5)\",\"Decision Tree (depth = 3)\",\"SVM (linear)\"],\"xaxis\":\"x\",\"y\":[0.9545454545454546,0.9545454545454546,0.8036363636363636,1.0],\"yaxis\":\"y\",\"type\":\"scatter\"}],                        {\"template\":{\"data\":{\"histogram2dcontour\":[{\"type\":\"histogram2dcontour\",\"colorbar\":{\"outlinewidth\":0,\"ticks\":\"\"},\"colorscale\":[[0.0,\"#0d0887\"],[0.1111111111111111,\"#46039f\"],[0.2222222222222222,\"#7201a8\"],[0.3333333333333333,\"#9c179e\"],[0.4444444444444444,\"#bd3786\"],[0.5555555555555556,\"#d8576b\"],[0.6666666666666666,\"#ed7953\"],[0.7777777777777778,\"#fb9f3a\"],[0.8888888888888888,\"#fdca26\"],[1.0,\"#f0f921\"]]}],\"choropleth\":[{\"type\":\"choropleth\",\"colorbar\":{\"outlinewidth\":0,\"ticks\":\"\"}}],\"histogram2d\":[{\"type\":\"histogram2d\",\"colorbar\":{\"outlinewidth\":0,\"ticks\":\"\"},\"colorscale\":[[0.0,\"#0d0887\"],[0.1111111111111111,\"#46039f\"],[0.2222222222222222,\"#7201a8\"],[0.3333333333333333,\"#9c179e\"],[0.4444444444444444,\"#bd3786\"],[0.5555555555555556,\"#d8576b\"],[0.6666666666666666,\"#ed7953\"],[0.7777777777777778,\"#fb9f3a\"],[0.8888888888888888,\"#fdca26\"],[1.0,\"#f0f921\"]]}],\"heatmap\":[{\"type\":\"heatmap\",\"colorbar\":{\"outlinewidth\":0,\"ticks\":\"\"},\"colorscale\":[[0.0,\"#0d0887\"],[0.1111111111111111,\"#46039f\"],[0.2222222222222222,\"#7201a8\"],[0.3333333333333333,\"#9c179e\"],[0.4444444444444444,\"#bd3786\"],[0.5555555555555556,\"#d8576b\"],[0.6666666666666666,\"#ed7953\"],[0.7777777777777778,\"#fb9f3a\"],[0.8888888888888888,\"#fdca26\"],[1.0,\"#f0f921\"]]}],\"heatmapgl\":[{\"type\":\"heatmapgl\",\"colorbar\":{\"outlinewidth\":0,\"ticks\":\"\"},\"colorscale\":[[0.0,\"#0d0887\"],[0.1111111111111111,\"#46039f\"],[0.2222222222222222,\"#7201a8\"],[0.3333333333333333,\"#9c179e\"],[0.4444444444444444,\"#bd3786\"],[0.5555555555555556,\"#d8576b\"],[0.6666666666666666,\"#ed7953\"],[0.7777777777777778,\"#fb9f3a\"],[0.8888888888888888,\"#fdca26\"],[1.0,\"#f0f921\"]]}],\"contourcarpet\":[{\"type\":\"contourcarpet\",\"colorbar\":{\"outlinewidth\":0,\"ticks\":\"\"}}],\"contour\":[{\"type\":\"contour\",\"colorbar\":{\"outlinewidth\":0,\"ticks\":\"\"},\"colorscale\":[[0.0,\"#0d0887\"],[0.1111111111111111,\"#46039f\"],[0.2222222222222222,\"#7201a8\"],[0.3333333333333333,\"#9c179e\"],[0.4444444444444444,\"#bd3786\"],[0.5555555555555556,\"#d8576b\"],[0.6666666666666666,\"#ed7953\"],[0.7777777777777778,\"#fb9f3a\"],[0.8888888888888888,\"#fdca26\"],[1.0,\"#f0f921\"]]}],\"surface\":[{\"type\":\"surface\",\"colorbar\":{\"outlinewidth\":0,\"ticks\":\"\"},\"colorscale\":[[0.0,\"#0d0887\"],[0.1111111111111111,\"#46039f\"],[0.2222222222222222,\"#7201a8\"],[0.3333333333333333,\"#9c179e\"],[0.4444444444444444,\"#bd3786\"],[0.5555555555555556,\"#d8576b\"],[0.6666666666666666,\"#ed7953\"],[0.7777777777777778,\"#fb9f3a\"],[0.8888888888888888,\"#fdca26\"],[1.0,\"#f0f921\"]]}],\"mesh3d\":[{\"type\":\"mesh3d\",\"colorbar\":{\"outlinewidth\":0,\"ticks\":\"\"}}],\"scatter\":[{\"fillpattern\":{\"fillmode\":\"overlay\",\"size\":10,\"solidity\":0.2},\"type\":\"scatter\"}],\"parcoords\":[{\"type\":\"parcoords\",\"line\":{\"colorbar\":{\"outlinewidth\":0,\"ticks\":\"\"}}}],\"scatterpolargl\":[{\"type\":\"scatterpolargl\",\"marker\":{\"colorbar\":{\"outlinewidth\":0,\"ticks\":\"\"}}}],\"bar\":[{\"error_x\":{\"color\":\"#2a3f5f\"},\"error_y\":{\"color\":\"#2a3f5f\"},\"marker\":{\"line\":{\"color\":\"#E5ECF6\",\"width\":0.5},\"pattern\":{\"fillmode\":\"overlay\",\"size\":10,\"solidity\":0.2}},\"type\":\"bar\"}],\"scattergeo\":[{\"type\":\"scattergeo\",\"marker\":{\"colorbar\":{\"outlinewidth\":0,\"ticks\":\"\"}}}],\"scatterpolar\":[{\"type\":\"scatterpolar\",\"marker\":{\"colorbar\":{\"outlinewidth\":0,\"ticks\":\"\"}}}],\"histogram\":[{\"marker\":{\"pattern\":{\"fillmode\":\"overlay\",\"size\":10,\"solidity\":0.2}},\"type\":\"histogram\"}],\"scattergl\":[{\"type\":\"scattergl\",\"marker\":{\"colorbar\":{\"outlinewidth\":0,\"ticks\":\"\"}}}],\"scatter3d\":[{\"type\":\"scatter3d\",\"line\":{\"colorbar\":{\"outlinewidth\":0,\"ticks\":\"\"}},\"marker\":{\"colorbar\":{\"outlinewidth\":0,\"ticks\":\"\"}}}],\"scattermapbox\":[{\"type\":\"scattermapbox\",\"marker\":{\"colorbar\":{\"outlinewidth\":0,\"ticks\":\"\"}}}],\"scatterternary\":[{\"type\":\"scatterternary\",\"marker\":{\"colorbar\":{\"outlinewidth\":0,\"ticks\":\"\"}}}],\"scattercarpet\":[{\"type\":\"scattercarpet\",\"marker\":{\"colorbar\":{\"outlinewidth\":0,\"ticks\":\"\"}}}],\"carpet\":[{\"aaxis\":{\"endlinecolor\":\"#2a3f5f\",\"gridcolor\":\"white\",\"linecolor\":\"white\",\"minorgridcolor\":\"white\",\"startlinecolor\":\"#2a3f5f\"},\"baxis\":{\"endlinecolor\":\"#2a3f5f\",\"gridcolor\":\"white\",\"linecolor\":\"white\",\"minorgridcolor\":\"white\",\"startlinecolor\":\"#2a3f5f\"},\"type\":\"carpet\"}],\"table\":[{\"cells\":{\"fill\":{\"color\":\"#EBF0F8\"},\"line\":{\"color\":\"white\"}},\"header\":{\"fill\":{\"color\":\"#C8D4E3\"},\"line\":{\"color\":\"white\"}},\"type\":\"table\"}],\"barpolar\":[{\"marker\":{\"line\":{\"color\":\"#E5ECF6\",\"width\":0.5},\"pattern\":{\"fillmode\":\"overlay\",\"size\":10,\"solidity\":0.2}},\"type\":\"barpolar\"}],\"pie\":[{\"automargin\":true,\"type\":\"pie\"}]},\"layout\":{\"autotypenumbers\":\"strict\",\"colorway\":[\"#636efa\",\"#EF553B\",\"#00cc96\",\"#ab63fa\",\"#FFA15A\",\"#19d3f3\",\"#FF6692\",\"#B6E880\",\"#FF97FF\",\"#FECB52\"],\"font\":{\"color\":\"#2a3f5f\"},\"hovermode\":\"closest\",\"hoverlabel\":{\"align\":\"left\"},\"paper_bgcolor\":\"white\",\"plot_bgcolor\":\"#E5ECF6\",\"polar\":{\"bgcolor\":\"#E5ECF6\",\"angularaxis\":{\"gridcolor\":\"white\",\"linecolor\":\"white\",\"ticks\":\"\"},\"radialaxis\":{\"gridcolor\":\"white\",\"linecolor\":\"white\",\"ticks\":\"\"}},\"ternary\":{\"bgcolor\":\"#E5ECF6\",\"aaxis\":{\"gridcolor\":\"white\",\"linecolor\":\"white\",\"ticks\":\"\"},\"baxis\":{\"gridcolor\":\"white\",\"linecolor\":\"white\",\"ticks\":\"\"},\"caxis\":{\"gridcolor\":\"white\",\"linecolor\":\"white\",\"ticks\":\"\"}},\"coloraxis\":{\"colorbar\":{\"outlinewidth\":0,\"ticks\":\"\"}},\"colorscale\":{\"sequential\":[[0.0,\"#0d0887\"],[0.1111111111111111,\"#46039f\"],[0.2222222222222222,\"#7201a8\"],[0.3333333333333333,\"#9c179e\"],[0.4444444444444444,\"#bd3786\"],[0.5555555555555556,\"#d8576b\"],[0.6666666666666666,\"#ed7953\"],[0.7777777777777778,\"#fb9f3a\"],[0.8888888888888888,\"#fdca26\"],[1.0,\"#f0f921\"]],\"sequentialminus\":[[0.0,\"#0d0887\"],[0.1111111111111111,\"#46039f\"],[0.2222222222222222,\"#7201a8\"],[0.3333333333333333,\"#9c179e\"],[0.4444444444444444,\"#bd3786\"],[0.5555555555555556,\"#d8576b\"],[0.6666666666666666,\"#ed7953\"],[0.7777777777777778,\"#fb9f3a\"],[0.8888888888888888,\"#fdca26\"],[1.0,\"#f0f921\"]],\"diverging\":[[0,\"#8e0152\"],[0.1,\"#c51b7d\"],[0.2,\"#de77ae\"],[0.3,\"#f1b6da\"],[0.4,\"#fde0ef\"],[0.5,\"#f7f7f7\"],[0.6,\"#e6f5d0\"],[0.7,\"#b8e186\"],[0.8,\"#7fbc41\"],[0.9,\"#4d9221\"],[1,\"#276419\"]]},\"xaxis\":{\"gridcolor\":\"white\",\"linecolor\":\"white\",\"ticks\":\"\",\"title\":{\"standoff\":15},\"zerolinecolor\":\"white\",\"automargin\":true,\"zerolinewidth\":2},\"yaxis\":{\"gridcolor\":\"white\",\"linecolor\":\"white\",\"ticks\":\"\",\"title\":{\"standoff\":15},\"zerolinecolor\":\"white\",\"automargin\":true,\"zerolinewidth\":2},\"scene\":{\"xaxis\":{\"backgroundcolor\":\"#E5ECF6\",\"gridcolor\":\"white\",\"linecolor\":\"white\",\"showbackground\":true,\"ticks\":\"\",\"zerolinecolor\":\"white\",\"gridwidth\":2},\"yaxis\":{\"backgroundcolor\":\"#E5ECF6\",\"gridcolor\":\"white\",\"linecolor\":\"white\",\"showbackground\":true,\"ticks\":\"\",\"zerolinecolor\":\"white\",\"gridwidth\":2},\"zaxis\":{\"backgroundcolor\":\"#E5ECF6\",\"gridcolor\":\"white\",\"linecolor\":\"white\",\"showbackground\":true,\"ticks\":\"\",\"zerolinecolor\":\"white\",\"gridwidth\":2}},\"shapedefaults\":{\"line\":{\"color\":\"#2a3f5f\"}},\"annotationdefaults\":{\"arrowcolor\":\"#2a3f5f\",\"arrowhead\":0,\"arrowwidth\":1},\"geo\":{\"bgcolor\":\"white\",\"landcolor\":\"#E5ECF6\",\"subunitcolor\":\"white\",\"showland\":true,\"showlakes\":true,\"lakecolor\":\"white\"},\"title\":{\"x\":0.05},\"mapbox\":{\"style\":\"light\"}}},\"xaxis\":{\"anchor\":\"y\",\"domain\":[0.0,1.0],\"title\":{\"text\":\"Model\"}},\"yaxis\":{\"anchor\":\"x\",\"domain\":[0.0,1.0],\"title\":{\"text\":\"Test Accuracy\"}},\"legend\":{\"tracegroupgap\":0},\"title\":{\"text\":\"Model Performance: Test Accuracy\"}},                        {\"responsive\": true}                    ).then(function(){\n",
       "                            \n",
       "var gd = document.getElementById('5dd04d9a-af33-47ed-b2c6-4e0b4a6f98ec');\n",
       "var x = new MutationObserver(function (mutations, observer) {{\n",
       "        var display = window.getComputedStyle(gd).display;\n",
       "        if (!display || display === 'none') {{\n",
       "            console.log([gd, 'removed!']);\n",
       "            Plotly.purge(gd);\n",
       "            observer.disconnect();\n",
       "        }}\n",
       "}});\n",
       "\n",
       "// Listen for the removal of the full notebook cells\n",
       "var notebookContainer = gd.closest('#notebook-container');\n",
       "if (notebookContainer) {{\n",
       "    x.observe(notebookContainer, {childList: true});\n",
       "}}\n",
       "\n",
       "// Listen for the clearing of the current output cell\n",
       "var outputEl = gd.closest('.output');\n",
       "if (outputEl) {{\n",
       "    x.observe(outputEl, {childList: true});\n",
       "}}\n",
       "\n",
       "                        })                };                });            </script>        </div>"
      ]
     },
     "metadata": {},
     "output_type": "display_data"
    },
    {
     "data": {
      "application/vnd.plotly.v1+json": {
       "config": {
        "plotlyServerURL": "https://plot.ly"
       },
       "data": [
        {
         "hovertemplate": "Train Time=%{x}<br>Test Accuracy=%{y}<br>Model=%{text}<extra></extra>",
         "legendgroup": "",
         "marker": {
          "color": "#636efa",
          "symbol": "circle"
         },
         "mode": "markers+text",
         "name": "",
         "orientation": "v",
         "showlegend": false,
         "text": [
          "Logistic Regression",
          "KNN (n = 5)",
          "Decision Tree (depth = 3)",
          "SVM (linear)"
         ],
         "type": "scatter",
         "x": [
          0.08336210250854492,
          0.024687767028808594,
          0.024069547653198242,
          0.2765331268310547
         ],
         "xaxis": "x",
         "y": [
          0.9545454545454546,
          0.9545454545454546,
          0.8036363636363636,
          1
         ],
         "yaxis": "y"
        }
       ],
       "layout": {
        "legend": {
         "tracegroupgap": 0
        },
        "template": {
         "data": {
          "bar": [
           {
            "error_x": {
             "color": "#2a3f5f"
            },
            "error_y": {
             "color": "#2a3f5f"
            },
            "marker": {
             "line": {
              "color": "#E5ECF6",
              "width": 0.5
             },
             "pattern": {
              "fillmode": "overlay",
              "size": 10,
              "solidity": 0.2
             }
            },
            "type": "bar"
           }
          ],
          "barpolar": [
           {
            "marker": {
             "line": {
              "color": "#E5ECF6",
              "width": 0.5
             },
             "pattern": {
              "fillmode": "overlay",
              "size": 10,
              "solidity": 0.2
             }
            },
            "type": "barpolar"
           }
          ],
          "carpet": [
           {
            "aaxis": {
             "endlinecolor": "#2a3f5f",
             "gridcolor": "white",
             "linecolor": "white",
             "minorgridcolor": "white",
             "startlinecolor": "#2a3f5f"
            },
            "baxis": {
             "endlinecolor": "#2a3f5f",
             "gridcolor": "white",
             "linecolor": "white",
             "minorgridcolor": "white",
             "startlinecolor": "#2a3f5f"
            },
            "type": "carpet"
           }
          ],
          "choropleth": [
           {
            "colorbar": {
             "outlinewidth": 0,
             "ticks": ""
            },
            "type": "choropleth"
           }
          ],
          "contour": [
           {
            "colorbar": {
             "outlinewidth": 0,
             "ticks": ""
            },
            "colorscale": [
             [
              0,
              "#0d0887"
             ],
             [
              0.1111111111111111,
              "#46039f"
             ],
             [
              0.2222222222222222,
              "#7201a8"
             ],
             [
              0.3333333333333333,
              "#9c179e"
             ],
             [
              0.4444444444444444,
              "#bd3786"
             ],
             [
              0.5555555555555556,
              "#d8576b"
             ],
             [
              0.6666666666666666,
              "#ed7953"
             ],
             [
              0.7777777777777778,
              "#fb9f3a"
             ],
             [
              0.8888888888888888,
              "#fdca26"
             ],
             [
              1,
              "#f0f921"
             ]
            ],
            "type": "contour"
           }
          ],
          "contourcarpet": [
           {
            "colorbar": {
             "outlinewidth": 0,
             "ticks": ""
            },
            "type": "contourcarpet"
           }
          ],
          "heatmap": [
           {
            "colorbar": {
             "outlinewidth": 0,
             "ticks": ""
            },
            "colorscale": [
             [
              0,
              "#0d0887"
             ],
             [
              0.1111111111111111,
              "#46039f"
             ],
             [
              0.2222222222222222,
              "#7201a8"
             ],
             [
              0.3333333333333333,
              "#9c179e"
             ],
             [
              0.4444444444444444,
              "#bd3786"
             ],
             [
              0.5555555555555556,
              "#d8576b"
             ],
             [
              0.6666666666666666,
              "#ed7953"
             ],
             [
              0.7777777777777778,
              "#fb9f3a"
             ],
             [
              0.8888888888888888,
              "#fdca26"
             ],
             [
              1,
              "#f0f921"
             ]
            ],
            "type": "heatmap"
           }
          ],
          "heatmapgl": [
           {
            "colorbar": {
             "outlinewidth": 0,
             "ticks": ""
            },
            "colorscale": [
             [
              0,
              "#0d0887"
             ],
             [
              0.1111111111111111,
              "#46039f"
             ],
             [
              0.2222222222222222,
              "#7201a8"
             ],
             [
              0.3333333333333333,
              "#9c179e"
             ],
             [
              0.4444444444444444,
              "#bd3786"
             ],
             [
              0.5555555555555556,
              "#d8576b"
             ],
             [
              0.6666666666666666,
              "#ed7953"
             ],
             [
              0.7777777777777778,
              "#fb9f3a"
             ],
             [
              0.8888888888888888,
              "#fdca26"
             ],
             [
              1,
              "#f0f921"
             ]
            ],
            "type": "heatmapgl"
           }
          ],
          "histogram": [
           {
            "marker": {
             "pattern": {
              "fillmode": "overlay",
              "size": 10,
              "solidity": 0.2
             }
            },
            "type": "histogram"
           }
          ],
          "histogram2d": [
           {
            "colorbar": {
             "outlinewidth": 0,
             "ticks": ""
            },
            "colorscale": [
             [
              0,
              "#0d0887"
             ],
             [
              0.1111111111111111,
              "#46039f"
             ],
             [
              0.2222222222222222,
              "#7201a8"
             ],
             [
              0.3333333333333333,
              "#9c179e"
             ],
             [
              0.4444444444444444,
              "#bd3786"
             ],
             [
              0.5555555555555556,
              "#d8576b"
             ],
             [
              0.6666666666666666,
              "#ed7953"
             ],
             [
              0.7777777777777778,
              "#fb9f3a"
             ],
             [
              0.8888888888888888,
              "#fdca26"
             ],
             [
              1,
              "#f0f921"
             ]
            ],
            "type": "histogram2d"
           }
          ],
          "histogram2dcontour": [
           {
            "colorbar": {
             "outlinewidth": 0,
             "ticks": ""
            },
            "colorscale": [
             [
              0,
              "#0d0887"
             ],
             [
              0.1111111111111111,
              "#46039f"
             ],
             [
              0.2222222222222222,
              "#7201a8"
             ],
             [
              0.3333333333333333,
              "#9c179e"
             ],
             [
              0.4444444444444444,
              "#bd3786"
             ],
             [
              0.5555555555555556,
              "#d8576b"
             ],
             [
              0.6666666666666666,
              "#ed7953"
             ],
             [
              0.7777777777777778,
              "#fb9f3a"
             ],
             [
              0.8888888888888888,
              "#fdca26"
             ],
             [
              1,
              "#f0f921"
             ]
            ],
            "type": "histogram2dcontour"
           }
          ],
          "mesh3d": [
           {
            "colorbar": {
             "outlinewidth": 0,
             "ticks": ""
            },
            "type": "mesh3d"
           }
          ],
          "parcoords": [
           {
            "line": {
             "colorbar": {
              "outlinewidth": 0,
              "ticks": ""
             }
            },
            "type": "parcoords"
           }
          ],
          "pie": [
           {
            "automargin": true,
            "type": "pie"
           }
          ],
          "scatter": [
           {
            "fillpattern": {
             "fillmode": "overlay",
             "size": 10,
             "solidity": 0.2
            },
            "type": "scatter"
           }
          ],
          "scatter3d": [
           {
            "line": {
             "colorbar": {
              "outlinewidth": 0,
              "ticks": ""
             }
            },
            "marker": {
             "colorbar": {
              "outlinewidth": 0,
              "ticks": ""
             }
            },
            "type": "scatter3d"
           }
          ],
          "scattercarpet": [
           {
            "marker": {
             "colorbar": {
              "outlinewidth": 0,
              "ticks": ""
             }
            },
            "type": "scattercarpet"
           }
          ],
          "scattergeo": [
           {
            "marker": {
             "colorbar": {
              "outlinewidth": 0,
              "ticks": ""
             }
            },
            "type": "scattergeo"
           }
          ],
          "scattergl": [
           {
            "marker": {
             "colorbar": {
              "outlinewidth": 0,
              "ticks": ""
             }
            },
            "type": "scattergl"
           }
          ],
          "scattermapbox": [
           {
            "marker": {
             "colorbar": {
              "outlinewidth": 0,
              "ticks": ""
             }
            },
            "type": "scattermapbox"
           }
          ],
          "scatterpolar": [
           {
            "marker": {
             "colorbar": {
              "outlinewidth": 0,
              "ticks": ""
             }
            },
            "type": "scatterpolar"
           }
          ],
          "scatterpolargl": [
           {
            "marker": {
             "colorbar": {
              "outlinewidth": 0,
              "ticks": ""
             }
            },
            "type": "scatterpolargl"
           }
          ],
          "scatterternary": [
           {
            "marker": {
             "colorbar": {
              "outlinewidth": 0,
              "ticks": ""
             }
            },
            "type": "scatterternary"
           }
          ],
          "surface": [
           {
            "colorbar": {
             "outlinewidth": 0,
             "ticks": ""
            },
            "colorscale": [
             [
              0,
              "#0d0887"
             ],
             [
              0.1111111111111111,
              "#46039f"
             ],
             [
              0.2222222222222222,
              "#7201a8"
             ],
             [
              0.3333333333333333,
              "#9c179e"
             ],
             [
              0.4444444444444444,
              "#bd3786"
             ],
             [
              0.5555555555555556,
              "#d8576b"
             ],
             [
              0.6666666666666666,
              "#ed7953"
             ],
             [
              0.7777777777777778,
              "#fb9f3a"
             ],
             [
              0.8888888888888888,
              "#fdca26"
             ],
             [
              1,
              "#f0f921"
             ]
            ],
            "type": "surface"
           }
          ],
          "table": [
           {
            "cells": {
             "fill": {
              "color": "#EBF0F8"
             },
             "line": {
              "color": "white"
             }
            },
            "header": {
             "fill": {
              "color": "#C8D4E3"
             },
             "line": {
              "color": "white"
             }
            },
            "type": "table"
           }
          ]
         },
         "layout": {
          "annotationdefaults": {
           "arrowcolor": "#2a3f5f",
           "arrowhead": 0,
           "arrowwidth": 1
          },
          "autotypenumbers": "strict",
          "coloraxis": {
           "colorbar": {
            "outlinewidth": 0,
            "ticks": ""
           }
          },
          "colorscale": {
           "diverging": [
            [
             0,
             "#8e0152"
            ],
            [
             0.1,
             "#c51b7d"
            ],
            [
             0.2,
             "#de77ae"
            ],
            [
             0.3,
             "#f1b6da"
            ],
            [
             0.4,
             "#fde0ef"
            ],
            [
             0.5,
             "#f7f7f7"
            ],
            [
             0.6,
             "#e6f5d0"
            ],
            [
             0.7,
             "#b8e186"
            ],
            [
             0.8,
             "#7fbc41"
            ],
            [
             0.9,
             "#4d9221"
            ],
            [
             1,
             "#276419"
            ]
           ],
           "sequential": [
            [
             0,
             "#0d0887"
            ],
            [
             0.1111111111111111,
             "#46039f"
            ],
            [
             0.2222222222222222,
             "#7201a8"
            ],
            [
             0.3333333333333333,
             "#9c179e"
            ],
            [
             0.4444444444444444,
             "#bd3786"
            ],
            [
             0.5555555555555556,
             "#d8576b"
            ],
            [
             0.6666666666666666,
             "#ed7953"
            ],
            [
             0.7777777777777778,
             "#fb9f3a"
            ],
            [
             0.8888888888888888,
             "#fdca26"
            ],
            [
             1,
             "#f0f921"
            ]
           ],
           "sequentialminus": [
            [
             0,
             "#0d0887"
            ],
            [
             0.1111111111111111,
             "#46039f"
            ],
            [
             0.2222222222222222,
             "#7201a8"
            ],
            [
             0.3333333333333333,
             "#9c179e"
            ],
            [
             0.4444444444444444,
             "#bd3786"
            ],
            [
             0.5555555555555556,
             "#d8576b"
            ],
            [
             0.6666666666666666,
             "#ed7953"
            ],
            [
             0.7777777777777778,
             "#fb9f3a"
            ],
            [
             0.8888888888888888,
             "#fdca26"
            ],
            [
             1,
             "#f0f921"
            ]
           ]
          },
          "colorway": [
           "#636efa",
           "#EF553B",
           "#00cc96",
           "#ab63fa",
           "#FFA15A",
           "#19d3f3",
           "#FF6692",
           "#B6E880",
           "#FF97FF",
           "#FECB52"
          ],
          "font": {
           "color": "#2a3f5f"
          },
          "geo": {
           "bgcolor": "white",
           "lakecolor": "white",
           "landcolor": "#E5ECF6",
           "showlakes": true,
           "showland": true,
           "subunitcolor": "white"
          },
          "hoverlabel": {
           "align": "left"
          },
          "hovermode": "closest",
          "mapbox": {
           "style": "light"
          },
          "paper_bgcolor": "white",
          "plot_bgcolor": "#E5ECF6",
          "polar": {
           "angularaxis": {
            "gridcolor": "white",
            "linecolor": "white",
            "ticks": ""
           },
           "bgcolor": "#E5ECF6",
           "radialaxis": {
            "gridcolor": "white",
            "linecolor": "white",
            "ticks": ""
           }
          },
          "scene": {
           "xaxis": {
            "backgroundcolor": "#E5ECF6",
            "gridcolor": "white",
            "gridwidth": 2,
            "linecolor": "white",
            "showbackground": true,
            "ticks": "",
            "zerolinecolor": "white"
           },
           "yaxis": {
            "backgroundcolor": "#E5ECF6",
            "gridcolor": "white",
            "gridwidth": 2,
            "linecolor": "white",
            "showbackground": true,
            "ticks": "",
            "zerolinecolor": "white"
           },
           "zaxis": {
            "backgroundcolor": "#E5ECF6",
            "gridcolor": "white",
            "gridwidth": 2,
            "linecolor": "white",
            "showbackground": true,
            "ticks": "",
            "zerolinecolor": "white"
           }
          },
          "shapedefaults": {
           "line": {
            "color": "#2a3f5f"
           }
          },
          "ternary": {
           "aaxis": {
            "gridcolor": "white",
            "linecolor": "white",
            "ticks": ""
           },
           "baxis": {
            "gridcolor": "white",
            "linecolor": "white",
            "ticks": ""
           },
           "bgcolor": "#E5ECF6",
           "caxis": {
            "gridcolor": "white",
            "linecolor": "white",
            "ticks": ""
           }
          },
          "title": {
           "x": 0.05
          },
          "xaxis": {
           "automargin": true,
           "gridcolor": "white",
           "linecolor": "white",
           "ticks": "",
           "title": {
            "standoff": 15
           },
           "zerolinecolor": "white",
           "zerolinewidth": 2
          },
          "yaxis": {
           "automargin": true,
           "gridcolor": "white",
           "linecolor": "white",
           "ticks": "",
           "title": {
            "standoff": 15
           },
           "zerolinecolor": "white",
           "zerolinewidth": 2
          }
         }
        },
        "title": {
         "text": "Model Performance: Train Time vs Test Accuracy"
        },
        "xaxis": {
         "anchor": "y",
         "domain": [
          0,
          1
         ],
         "title": {
          "text": "Train Time"
         }
        },
        "yaxis": {
         "anchor": "x",
         "domain": [
          0,
          1
         ],
         "title": {
          "text": "Test Accuracy"
         }
        }
       }
      },
      "text/html": [
       "<div>                            <div id=\"286551ed-61eb-4bdc-8247-bf63f09c7dc3\" class=\"plotly-graph-div\" style=\"height:525px; width:100%;\"></div>            <script type=\"text/javascript\">                require([\"plotly\"], function(Plotly) {                    window.PLOTLYENV=window.PLOTLYENV || {};                                    if (document.getElementById(\"286551ed-61eb-4bdc-8247-bf63f09c7dc3\")) {                    Plotly.newPlot(                        \"286551ed-61eb-4bdc-8247-bf63f09c7dc3\",                        [{\"hovertemplate\":\"Train Time=%{x}<br>Test Accuracy=%{y}<br>Model=%{text}<extra></extra>\",\"legendgroup\":\"\",\"marker\":{\"color\":\"#636efa\",\"symbol\":\"circle\"},\"mode\":\"markers+text\",\"name\":\"\",\"orientation\":\"v\",\"showlegend\":false,\"text\":[\"Logistic Regression\",\"KNN (n = 5)\",\"Decision Tree (depth = 3)\",\"SVM (linear)\"],\"x\":[0.08336210250854492,0.024687767028808594,0.024069547653198242,0.2765331268310547],\"xaxis\":\"x\",\"y\":[0.9545454545454546,0.9545454545454546,0.8036363636363636,1.0],\"yaxis\":\"y\",\"type\":\"scatter\"}],                        {\"template\":{\"data\":{\"histogram2dcontour\":[{\"type\":\"histogram2dcontour\",\"colorbar\":{\"outlinewidth\":0,\"ticks\":\"\"},\"colorscale\":[[0.0,\"#0d0887\"],[0.1111111111111111,\"#46039f\"],[0.2222222222222222,\"#7201a8\"],[0.3333333333333333,\"#9c179e\"],[0.4444444444444444,\"#bd3786\"],[0.5555555555555556,\"#d8576b\"],[0.6666666666666666,\"#ed7953\"],[0.7777777777777778,\"#fb9f3a\"],[0.8888888888888888,\"#fdca26\"],[1.0,\"#f0f921\"]]}],\"choropleth\":[{\"type\":\"choropleth\",\"colorbar\":{\"outlinewidth\":0,\"ticks\":\"\"}}],\"histogram2d\":[{\"type\":\"histogram2d\",\"colorbar\":{\"outlinewidth\":0,\"ticks\":\"\"},\"colorscale\":[[0.0,\"#0d0887\"],[0.1111111111111111,\"#46039f\"],[0.2222222222222222,\"#7201a8\"],[0.3333333333333333,\"#9c179e\"],[0.4444444444444444,\"#bd3786\"],[0.5555555555555556,\"#d8576b\"],[0.6666666666666666,\"#ed7953\"],[0.7777777777777778,\"#fb9f3a\"],[0.8888888888888888,\"#fdca26\"],[1.0,\"#f0f921\"]]}],\"heatmap\":[{\"type\":\"heatmap\",\"colorbar\":{\"outlinewidth\":0,\"ticks\":\"\"},\"colorscale\":[[0.0,\"#0d0887\"],[0.1111111111111111,\"#46039f\"],[0.2222222222222222,\"#7201a8\"],[0.3333333333333333,\"#9c179e\"],[0.4444444444444444,\"#bd3786\"],[0.5555555555555556,\"#d8576b\"],[0.6666666666666666,\"#ed7953\"],[0.7777777777777778,\"#fb9f3a\"],[0.8888888888888888,\"#fdca26\"],[1.0,\"#f0f921\"]]}],\"heatmapgl\":[{\"type\":\"heatmapgl\",\"colorbar\":{\"outlinewidth\":0,\"ticks\":\"\"},\"colorscale\":[[0.0,\"#0d0887\"],[0.1111111111111111,\"#46039f\"],[0.2222222222222222,\"#7201a8\"],[0.3333333333333333,\"#9c179e\"],[0.4444444444444444,\"#bd3786\"],[0.5555555555555556,\"#d8576b\"],[0.6666666666666666,\"#ed7953\"],[0.7777777777777778,\"#fb9f3a\"],[0.8888888888888888,\"#fdca26\"],[1.0,\"#f0f921\"]]}],\"contourcarpet\":[{\"type\":\"contourcarpet\",\"colorbar\":{\"outlinewidth\":0,\"ticks\":\"\"}}],\"contour\":[{\"type\":\"contour\",\"colorbar\":{\"outlinewidth\":0,\"ticks\":\"\"},\"colorscale\":[[0.0,\"#0d0887\"],[0.1111111111111111,\"#46039f\"],[0.2222222222222222,\"#7201a8\"],[0.3333333333333333,\"#9c179e\"],[0.4444444444444444,\"#bd3786\"],[0.5555555555555556,\"#d8576b\"],[0.6666666666666666,\"#ed7953\"],[0.7777777777777778,\"#fb9f3a\"],[0.8888888888888888,\"#fdca26\"],[1.0,\"#f0f921\"]]}],\"surface\":[{\"type\":\"surface\",\"colorbar\":{\"outlinewidth\":0,\"ticks\":\"\"},\"colorscale\":[[0.0,\"#0d0887\"],[0.1111111111111111,\"#46039f\"],[0.2222222222222222,\"#7201a8\"],[0.3333333333333333,\"#9c179e\"],[0.4444444444444444,\"#bd3786\"],[0.5555555555555556,\"#d8576b\"],[0.6666666666666666,\"#ed7953\"],[0.7777777777777778,\"#fb9f3a\"],[0.8888888888888888,\"#fdca26\"],[1.0,\"#f0f921\"]]}],\"mesh3d\":[{\"type\":\"mesh3d\",\"colorbar\":{\"outlinewidth\":0,\"ticks\":\"\"}}],\"scatter\":[{\"fillpattern\":{\"fillmode\":\"overlay\",\"size\":10,\"solidity\":0.2},\"type\":\"scatter\"}],\"parcoords\":[{\"type\":\"parcoords\",\"line\":{\"colorbar\":{\"outlinewidth\":0,\"ticks\":\"\"}}}],\"scatterpolargl\":[{\"type\":\"scatterpolargl\",\"marker\":{\"colorbar\":{\"outlinewidth\":0,\"ticks\":\"\"}}}],\"bar\":[{\"error_x\":{\"color\":\"#2a3f5f\"},\"error_y\":{\"color\":\"#2a3f5f\"},\"marker\":{\"line\":{\"color\":\"#E5ECF6\",\"width\":0.5},\"pattern\":{\"fillmode\":\"overlay\",\"size\":10,\"solidity\":0.2}},\"type\":\"bar\"}],\"scattergeo\":[{\"type\":\"scattergeo\",\"marker\":{\"colorbar\":{\"outlinewidth\":0,\"ticks\":\"\"}}}],\"scatterpolar\":[{\"type\":\"scatterpolar\",\"marker\":{\"colorbar\":{\"outlinewidth\":0,\"ticks\":\"\"}}}],\"histogram\":[{\"marker\":{\"pattern\":{\"fillmode\":\"overlay\",\"size\":10,\"solidity\":0.2}},\"type\":\"histogram\"}],\"scattergl\":[{\"type\":\"scattergl\",\"marker\":{\"colorbar\":{\"outlinewidth\":0,\"ticks\":\"\"}}}],\"scatter3d\":[{\"type\":\"scatter3d\",\"line\":{\"colorbar\":{\"outlinewidth\":0,\"ticks\":\"\"}},\"marker\":{\"colorbar\":{\"outlinewidth\":0,\"ticks\":\"\"}}}],\"scattermapbox\":[{\"type\":\"scattermapbox\",\"marker\":{\"colorbar\":{\"outlinewidth\":0,\"ticks\":\"\"}}}],\"scatterternary\":[{\"type\":\"scatterternary\",\"marker\":{\"colorbar\":{\"outlinewidth\":0,\"ticks\":\"\"}}}],\"scattercarpet\":[{\"type\":\"scattercarpet\",\"marker\":{\"colorbar\":{\"outlinewidth\":0,\"ticks\":\"\"}}}],\"carpet\":[{\"aaxis\":{\"endlinecolor\":\"#2a3f5f\",\"gridcolor\":\"white\",\"linecolor\":\"white\",\"minorgridcolor\":\"white\",\"startlinecolor\":\"#2a3f5f\"},\"baxis\":{\"endlinecolor\":\"#2a3f5f\",\"gridcolor\":\"white\",\"linecolor\":\"white\",\"minorgridcolor\":\"white\",\"startlinecolor\":\"#2a3f5f\"},\"type\":\"carpet\"}],\"table\":[{\"cells\":{\"fill\":{\"color\":\"#EBF0F8\"},\"line\":{\"color\":\"white\"}},\"header\":{\"fill\":{\"color\":\"#C8D4E3\"},\"line\":{\"color\":\"white\"}},\"type\":\"table\"}],\"barpolar\":[{\"marker\":{\"line\":{\"color\":\"#E5ECF6\",\"width\":0.5},\"pattern\":{\"fillmode\":\"overlay\",\"size\":10,\"solidity\":0.2}},\"type\":\"barpolar\"}],\"pie\":[{\"automargin\":true,\"type\":\"pie\"}]},\"layout\":{\"autotypenumbers\":\"strict\",\"colorway\":[\"#636efa\",\"#EF553B\",\"#00cc96\",\"#ab63fa\",\"#FFA15A\",\"#19d3f3\",\"#FF6692\",\"#B6E880\",\"#FF97FF\",\"#FECB52\"],\"font\":{\"color\":\"#2a3f5f\"},\"hovermode\":\"closest\",\"hoverlabel\":{\"align\":\"left\"},\"paper_bgcolor\":\"white\",\"plot_bgcolor\":\"#E5ECF6\",\"polar\":{\"bgcolor\":\"#E5ECF6\",\"angularaxis\":{\"gridcolor\":\"white\",\"linecolor\":\"white\",\"ticks\":\"\"},\"radialaxis\":{\"gridcolor\":\"white\",\"linecolor\":\"white\",\"ticks\":\"\"}},\"ternary\":{\"bgcolor\":\"#E5ECF6\",\"aaxis\":{\"gridcolor\":\"white\",\"linecolor\":\"white\",\"ticks\":\"\"},\"baxis\":{\"gridcolor\":\"white\",\"linecolor\":\"white\",\"ticks\":\"\"},\"caxis\":{\"gridcolor\":\"white\",\"linecolor\":\"white\",\"ticks\":\"\"}},\"coloraxis\":{\"colorbar\":{\"outlinewidth\":0,\"ticks\":\"\"}},\"colorscale\":{\"sequential\":[[0.0,\"#0d0887\"],[0.1111111111111111,\"#46039f\"],[0.2222222222222222,\"#7201a8\"],[0.3333333333333333,\"#9c179e\"],[0.4444444444444444,\"#bd3786\"],[0.5555555555555556,\"#d8576b\"],[0.6666666666666666,\"#ed7953\"],[0.7777777777777778,\"#fb9f3a\"],[0.8888888888888888,\"#fdca26\"],[1.0,\"#f0f921\"]],\"sequentialminus\":[[0.0,\"#0d0887\"],[0.1111111111111111,\"#46039f\"],[0.2222222222222222,\"#7201a8\"],[0.3333333333333333,\"#9c179e\"],[0.4444444444444444,\"#bd3786\"],[0.5555555555555556,\"#d8576b\"],[0.6666666666666666,\"#ed7953\"],[0.7777777777777778,\"#fb9f3a\"],[0.8888888888888888,\"#fdca26\"],[1.0,\"#f0f921\"]],\"diverging\":[[0,\"#8e0152\"],[0.1,\"#c51b7d\"],[0.2,\"#de77ae\"],[0.3,\"#f1b6da\"],[0.4,\"#fde0ef\"],[0.5,\"#f7f7f7\"],[0.6,\"#e6f5d0\"],[0.7,\"#b8e186\"],[0.8,\"#7fbc41\"],[0.9,\"#4d9221\"],[1,\"#276419\"]]},\"xaxis\":{\"gridcolor\":\"white\",\"linecolor\":\"white\",\"ticks\":\"\",\"title\":{\"standoff\":15},\"zerolinecolor\":\"white\",\"automargin\":true,\"zerolinewidth\":2},\"yaxis\":{\"gridcolor\":\"white\",\"linecolor\":\"white\",\"ticks\":\"\",\"title\":{\"standoff\":15},\"zerolinecolor\":\"white\",\"automargin\":true,\"zerolinewidth\":2},\"scene\":{\"xaxis\":{\"backgroundcolor\":\"#E5ECF6\",\"gridcolor\":\"white\",\"linecolor\":\"white\",\"showbackground\":true,\"ticks\":\"\",\"zerolinecolor\":\"white\",\"gridwidth\":2},\"yaxis\":{\"backgroundcolor\":\"#E5ECF6\",\"gridcolor\":\"white\",\"linecolor\":\"white\",\"showbackground\":true,\"ticks\":\"\",\"zerolinecolor\":\"white\",\"gridwidth\":2},\"zaxis\":{\"backgroundcolor\":\"#E5ECF6\",\"gridcolor\":\"white\",\"linecolor\":\"white\",\"showbackground\":true,\"ticks\":\"\",\"zerolinecolor\":\"white\",\"gridwidth\":2}},\"shapedefaults\":{\"line\":{\"color\":\"#2a3f5f\"}},\"annotationdefaults\":{\"arrowcolor\":\"#2a3f5f\",\"arrowhead\":0,\"arrowwidth\":1},\"geo\":{\"bgcolor\":\"white\",\"landcolor\":\"#E5ECF6\",\"subunitcolor\":\"white\",\"showland\":true,\"showlakes\":true,\"lakecolor\":\"white\"},\"title\":{\"x\":0.05},\"mapbox\":{\"style\":\"light\"}}},\"xaxis\":{\"anchor\":\"y\",\"domain\":[0.0,1.0],\"title\":{\"text\":\"Train Time\"}},\"yaxis\":{\"anchor\":\"x\",\"domain\":[0.0,1.0],\"title\":{\"text\":\"Test Accuracy\"}},\"legend\":{\"tracegroupgap\":0},\"title\":{\"text\":\"Model Performance: Train Time vs Test Accuracy\"}},                        {\"responsive\": true}                    ).then(function(){\n",
       "                            \n",
       "var gd = document.getElementById('286551ed-61eb-4bdc-8247-bf63f09c7dc3');\n",
       "var x = new MutationObserver(function (mutations, observer) {{\n",
       "        var display = window.getComputedStyle(gd).display;\n",
       "        if (!display || display === 'none') {{\n",
       "            console.log([gd, 'removed!']);\n",
       "            Plotly.purge(gd);\n",
       "            observer.disconnect();\n",
       "        }}\n",
       "}});\n",
       "\n",
       "// Listen for the removal of the full notebook cells\n",
       "var notebookContainer = gd.closest('#notebook-container');\n",
       "if (notebookContainer) {{\n",
       "    x.observe(notebookContainer, {childList: true});\n",
       "}}\n",
       "\n",
       "// Listen for the clearing of the current output cell\n",
       "var outputEl = gd.closest('.output');\n",
       "if (outputEl) {{\n",
       "    x.observe(outputEl, {childList: true});\n",
       "}}\n",
       "\n",
       "                        })                };                });            </script>        </div>"
      ]
     },
     "metadata": {},
     "output_type": "display_data"
    }
   ],
   "source": [
    "# Plot model against test accuracy \n",
    "fig = px.scatter(model_comparisons, x='Model', y='Test Accuracy',\n",
    "                 title='Model Performance: Test Accuracy')\n",
    "fig.show()\n",
    "\n",
    "fig2 = px.scatter(model_comparisons, x='Train Time', y='Test Accuracy', text='Model',\n",
    "                 title='Model Performance: Train Time vs Test Accuracy')\n",
    "fig2.show()"
   ]
  },
  {
   "cell_type": "code",
   "execution_count": 58,
   "metadata": {},
   "outputs": [],
   "source": [
    "# this gives a decent sense of which models are high-performant in terms of time and accuracy. We can make some\n",
    "# high-level conclusions from this: \n",
    "# - An SVM model seems to be highly accurate but also requires the most amount of time \n",
    "# - A KNN with n=5 takes less time and is just as accurate as the Logistic Regression model\n",
    "# - The Decision Tree with a max depth of 3 does not have as high an accuracy as the other models. However, more\n",
    "# depths may be explored and could yield different results for this model type"
   ]
  },
  {
   "cell_type": "code",
   "execution_count": null,
   "metadata": {},
   "outputs": [],
   "source": [
    "# Next steps: we have done a bulk of the number crunching here, but in the final report we will \n",
    "# explore even higher levels of accuracy and hyperparameter optimization. For example, KNN model at other N values. \n",
    "# We can also explore other measurements of accuracy and model quality. Then, we will recommend a model for\n",
    "# the business use case of NYC waste classification!"
   ]
  }
 ],
 "metadata": {
  "kernelspec": {
   "display_name": "Python 3 (ipykernel)",
   "language": "python",
   "name": "python3"
  },
  "language_info": {
   "codemirror_mode": {
    "name": "ipython",
    "version": 3
   },
   "file_extension": ".py",
   "mimetype": "text/x-python",
   "name": "python",
   "nbconvert_exporter": "python",
   "pygments_lexer": "ipython3",
   "version": "3.11.2"
  }
 },
 "nbformat": 4,
 "nbformat_minor": 2
}
